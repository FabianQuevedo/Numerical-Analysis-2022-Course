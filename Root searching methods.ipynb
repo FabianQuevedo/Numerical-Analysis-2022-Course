{
 "cells": [
  {
   "cell_type": "markdown",
   "id": "4e041bc2",
   "metadata": {},
   "source": [
    "**Autor**: Fabián Felipe Quevedo Farieta \n",
    "\n",
    "Análisis Numérico 2022-2"
   ]
  },
  {
   "cell_type": "markdown",
   "id": "cfd1e3f2",
   "metadata": {},
   "source": [
    "## Problema 1\n",
    "\n",
    "Considere el método de Shamanskii de orden $m$ definido de la siguiente manera. Dado $x_n$ calcule $x_{n+1}$ usando $m$ pasos del método de la cuerda, esto es, \n",
    "\n",
    "$z_1=x_n-f(x_n)/f'(x_n)$\n",
    "\n",
    "$z_{j+1}=z_{j}-f(z_j)/f'(x_n)$, $1\\leq j\\leq m-1$\n",
    "\n",
    "$x_{n+1}=z_{m}$.\n",
    "\n",
    "Observe que se avanza m pasos sin actualizar la derivada en el punto. Implemente el método para un order $m$ definido por el usuario y verifique su código con una ecuación escalar. \n",
    "\n",
    "### Solución"
   ]
  },
  {
   "cell_type": "code",
   "execution_count": 2,
   "id": "b94c68f8",
   "metadata": {},
   "outputs": [
    {
     "data": {
      "text/plain": [
       "Shamanskii (generic function with 1 method)"
      ]
     },
     "execution_count": 2,
     "metadata": {},
     "output_type": "execute_result"
    }
   ],
   "source": [
    "function Shamanskii(f,fp,x0,eps,del,M,N)\n",
    "\n",
    "   #= f : función\n",
    "    fp : Derivada\n",
    "    x0 : Valor inicial<\n",
    "    epsilon : Tolerancia residuo.\n",
    "    M : Número maximo de iteraciones z\n",
    "    N : Número maximo de iteraciones x\n",
    "    =#\n",
    "    \n",
    "    v=f(x0)\n",
    "    w=fp(x0)\n",
    "    x=x0\n",
    "    n=1\n",
    "    if abs(v)<eps\n",
    "        print(\"residuo f(x(\",n,\"))=\",v,\"\\n\")\n",
    "        return x\n",
    "    end\n",
    "    while n<=N\n",
    "        if w==0\n",
    "            print(\"Derivada nula, error!\")\n",
    "            return None\n",
    "        end\n",
    "        z1=x-v/w\n",
    "        m=1\n",
    "        while m<=M-1\n",
    "            v=f(z1)\n",
    "            z=z1-v/w\n",
    "            z1=z\n",
    "            m=m+1\n",
    "            x=z\n",
    "        end\n",
    "        v=f(x)\n",
    "        w=fp(x)\n",
    "        if abs(x-x0)<del \n",
    "            print(\"incremento delta(\",n,\")=\",v,\"\\n\")\n",
    "            return x\n",
    "        end\n",
    "        x0=x\n",
    "        if abs(v)<eps\n",
    "            print(\"residuo f(x(\",n,\",\",M,\"))=\",v,\"\\n\")\n",
    "            return x\n",
    "        end\n",
    "        n=n+1\n",
    "    end\n",
    "    if n==N\n",
    "        print(\"Número maximo de iteraciones\")\n",
    "    end \n",
    "    return x0\n",
    "end"
   ]
  },
  {
   "cell_type": "code",
   "execution_count": 3,
   "id": "ffdbdd49",
   "metadata": {
    "scrolled": true
   },
   "outputs": [
    {
     "name": "stdout",
     "output_type": "stream",
     "text": [
      "residuo f(x(4,5))=2.1510571102112408e-16\n",
      "residuo f(x(1,52))=8.940764795184464e-14\n"
     ]
    },
    {
     "data": {
      "text/plain": [
       "-3.1830630119332777"
      ]
     },
     "execution_count": 3,
     "metadata": {},
     "output_type": "execute_result"
    }
   ],
   "source": [
    "function f(x)\n",
    "    return exp(x)-sin(x)\n",
    "end\n",
    "function fp(x)\n",
    "    return exp(x)-cos(x)\n",
    "end\n",
    "Shamanskii(f,fp,1.0,1e-10,1e-10,5,5) \n",
    "Shamanskii(f,fp,1.0,1e-10,1e-10,52,1)"
   ]
  },
  {
   "cell_type": "markdown",
   "id": "0639b2b4",
   "metadata": {},
   "source": [
    "Del funcionamiento de la implementación es posible observar que con 4 iteraciones en N y 5 de M, es decir únicamente llegando a $x_2$ se logra un resultado de la raíz con un residuo de $10^{-16}$, similar que se lograba para la misma función con 10 iteraciones de Newton (veáse cuadernillo de la clase); también es destacable el hecho de que Newton convergió a la segunda raíz de la función y Shamanskii a la segunda. A pesar de que en total se hacen 20 iteraciones, el doble que en Newton, se debe tener en cuenta que el método de Shamanskii no actualiza la derivada en cada valor de z, únicamente lo hace para x, por lo que en un caso donde obetener la derivada sea computacionalmente más costosa que evaluar la función este método será muy útil.\n",
    "\n",
    "Notese que si no actualizamos ni una vez la derivada, es decir, 1 iteración en N, se necesita usar el orden 52 de Shamanskii para obtener el mismo orden de residuo que con Newton; a pesar de que en este caso se quintuplican las iteraciones, se puede pensar que al tener como parámetros M y N se puede buscar la mejor combinación de ambas para buscar el error deseado."
   ]
  },
  {
   "cell_type": "markdown",
   "id": "2b4aae7b",
   "metadata": {},
   "source": [
    "## Problema 2\n",
    "\n",
    "Resuelva las siguientes ecuaiones $f(x)=0$ usando el Método de newton, el método de la secante (para este inicie la iteración en $x_{-1}$ con $x_{-1}=0.99x_0$) y el método de Shamanskii con $m=2,3,4$. Comente los resultados. Puede hacer tablas o plots con las iteraciones.\n",
    "\n",
    "\n",
    "1.   $f(x)=\\cos(x)-x$,  $\\quad x_0=.5$.\n",
    "2.   $f(x)=\\arctan(x)$,  $\\quad x_0=1$.\n",
    "3.   $f(x)=\\sin(x)$, $\\quad  x_0=3$.\n",
    "4.   $f(x)=x^2$,  $\\quad  x_0=.5$.\n",
    "5.   $f(x)=x^2+1$,  $\\quad  x_0=10$.\n",
    "\n",
    "\n",
    "### Solución "
   ]
  },
  {
   "cell_type": "code",
   "execution_count": 69,
   "id": "40477e79",
   "metadata": {},
   "outputs": [
    {
     "data": {
      "text/plain": [
       "minewton (generic function with 1 method)"
      ]
     },
     "execution_count": 69,
     "metadata": {},
     "output_type": "execute_result"
    }
   ],
   "source": [
    "#implementemos Newton a partir de la funcion del cuadernillo\n",
    "function minewton(f,fp,x0,myeps,mydel,max_iter)\n",
    "    #=f(x)=0 usando newton xn=xa-f(xa)/fp(xa)\n",
    "    ----------\n",
    "    f : funnción\n",
    "    fp : Derivada\n",
    "    x0 : Aproximación inicial\n",
    "    epsilon : Tolerancia residuo.\n",
    "    M : Número maximo de iteraciones\n",
    "    ----------\n",
    "    =#\n",
    "    \n",
    "    #Vectores de ayuda para tablas\n",
    "    X=zeros(N+1)\n",
    "    Y=zeros(N+1)\n",
    "    \n",
    "    x = x0\n",
    "    fx = f(x)\n",
    "    X[1]=0\n",
    "    Y[1]=abs(fx)\n",
    "    n=1\n",
    "    \n",
    "    if abs(fx) < myeps\n",
    "        return x\n",
    "    end\n",
    "    while n<=max_iter\n",
    "        fpx = fp(x)\n",
    "        if fpx == 0\n",
    "            print(\"Derivada nula. Error!\")\n",
    "            return None\n",
    "        end\n",
    "        x = x - fx/fpx\n",
    "        fx = f(x)\n",
    "        X[n+1]=n\n",
    "        Y[n+1]=abs(fx)\n",
    "        if abs(x-x0) < mydel || abs(fx) < myeps\n",
    "            return x,X,Y\n",
    "        end\n",
    "        x0=x\n",
    "        n=n+1\n",
    "    end\n",
    "    return x0,X,Y\n",
    "end"
   ]
  },
  {
   "cell_type": "code",
   "execution_count": 68,
   "id": "cea8ca99",
   "metadata": {},
   "outputs": [
    {
     "data": {
      "text/plain": [
       "secante (generic function with 1 method)"
      ]
     },
     "execution_count": 68,
     "metadata": {},
     "output_type": "execute_result"
    }
   ],
   "source": [
    "#implementemos el método de la secante\n",
    "function secante(f,x0,eps,del,max_iter)\n",
    "    #=    \n",
    "    ----------\n",
    "    f : funnción\n",
    "    x0 : Aproximación inicial\n",
    "    epsilon : Tolerancia residuo.\n",
    "    N : Número maximo de iteraciones\n",
    "    ----------\n",
    "    =#\n",
    "    \n",
    "    #Vectores de ayuda para tablas\n",
    "    X=zeros(N+1)\n",
    "    Y=zeros(N+1)\n",
    "    \n",
    "    v=f(x0)\n",
    "    xans=0.99*x0\n",
    "    w=f(xans)\n",
    "    x = x0\n",
    "    X[1]=0\n",
    "    Y[1]=abs(v)\n",
    "    if abs(v)<del\n",
    "       return x \n",
    "    end\n",
    "    n=1\n",
    "    while n<=max_iter\n",
    "        x=x0-(v*(x0-xans)/(v-w))\n",
    "        w=v\n",
    "        v=f(x)\n",
    "        X[n+1]=n\n",
    "        Y[n+1]=abs(v)\n",
    "        if abs(x-x0)<eps || abs(v)<del\n",
    "            return x,X,Y\n",
    "        end\n",
    "        xans=x0\n",
    "        x0=x\n",
    "        n=n+1\n",
    "    end\n",
    "    return x,X,Y\n",
    "end"
   ]
  },
  {
   "cell_type": "code",
   "execution_count": 70,
   "id": "c2feac7d",
   "metadata": {},
   "outputs": [
    {
     "data": {
      "text/plain": [
       "Shamanskii2 (generic function with 1 method)"
      ]
     },
     "execution_count": 70,
     "metadata": {},
     "output_type": "execute_result"
    }
   ],
   "source": [
    "#Reimplementación de Shamanskii de tal forma que lo imprime de manera adecuada para el análisis\n",
    "function Shamanskii2(f,fp,x0,eps,del,M,N)\n",
    "\n",
    "   #= f : función\n",
    "    fp : Derivada\n",
    "    x0 : Valor inicial\n",
    "    epsilon : Tolerancia residuo.\n",
    "    M : Número maximo de iteraciones z\n",
    "    N : Número maximo de iteraciones x\n",
    "    =#\n",
    "    \n",
    "    #Vectores de ayuda para tablas\n",
    "    X=zeros(N+1)\n",
    "    Y=zeros(N+1)\n",
    "    \n",
    "    v=f(x0)\n",
    "    w=fp(x0)\n",
    "    x=x0\n",
    "    X[1]=0\n",
    "    Y[1]=abs(v)\n",
    "    n=1\n",
    "    if abs(v)<eps\n",
    "        return x\n",
    "    end\n",
    "    while n<=N\n",
    "        if w==0\n",
    "            print(\"Derivada nula, error!\")\n",
    "            return None\n",
    "        end\n",
    "        z1=x-v/w\n",
    "        m=1\n",
    "        while m<=M-1\n",
    "            v=f(z1)\n",
    "            z=z1-v/w\n",
    "            z1=z\n",
    "            m=m+1\n",
    "            x=z\n",
    "        end\n",
    "        v=f(x)\n",
    "        w=fp(x)\n",
    "        X[n+1]=n\n",
    "        Y[n+1]=abs(v)\n",
    "        if abs(x-x0)<del || abs(v)<eps\n",
    "            return x,X,Y\n",
    "        end\n",
    "        x0=x\n",
    "        n=n+1\n",
    "    end\n",
    "    if n==N\n",
    "        print(\"Número maximo de iteraciones\")\n",
    "    end \n",
    "    return x0,X,Y\n",
    "end"
   ]
  },
  {
   "cell_type": "code",
   "execution_count": 42,
   "id": "31a5f7a2",
   "metadata": {},
   "outputs": [],
   "source": [
    "using DataFrames"
   ]
  },
  {
   "cell_type": "code",
   "execution_count": 8,
   "id": "cf80614c",
   "metadata": {},
   "outputs": [
    {
     "data": {
      "text/plain": [
       "f5p (generic function with 1 method)"
      ]
     },
     "execution_count": 8,
     "metadata": {},
     "output_type": "execute_result"
    }
   ],
   "source": [
    "#functions\n",
    "function f1(x)\n",
    "    return cos(x)-x\n",
    "end\n",
    "function f2(x)\n",
    "    return atan(x)\n",
    "end\n",
    "function f3(x)\n",
    "    return sin(x)\n",
    "end\n",
    "function f4(x)\n",
    "    return x^2\n",
    "end\n",
    "function f5(x)\n",
    "    return (x^2)+1\n",
    "end\n",
    "#derivatives\n",
    "function f1p(x)\n",
    "    return -sin(x)-1\n",
    "end\n",
    "function f2p(x)\n",
    "    return 1/(1+x^2)\n",
    "end\n",
    "function f3p(x)\n",
    "    return cos(x)\n",
    "end\n",
    "function f4p(x)\n",
    "    return 2*x\n",
    "end\n",
    "function f5p(x)\n",
    "    return 2*x\n",
    "end"
   ]
  },
  {
   "cell_type": "code",
   "execution_count": 95,
   "id": "84850fe3",
   "metadata": {},
   "outputs": [
    {
     "data": {
      "text/html": [
       "<div><div style = \"float: left;\"><span>7×6 DataFrame</span></div><div style = \"clear: both;\"></div></div><div class = \"data-frame\" style = \"overflow-x: scroll;\"><table class = \"data-frame\" style = \"margin-bottom: 6px;\"><thead><tr class = \"header\"><th class = \"rowNumber\" style = \"font-weight: bold; text-align: right;\">Row</th><th style = \"text-align: left;\">Iteration</th><th style = \"text-align: left;\">Shamanskii_2</th><th style = \"text-align: left;\">Shamanskii_3</th><th style = \"text-align: left;\">Shamanskii_4</th><th style = \"text-align: left;\">Secante</th><th style = \"text-align: left;\">Newton</th></tr><tr class = \"subheader headerLastRow\"><th class = \"rowNumber\" style = \"font-weight: bold; text-align: right;\"></th><th title = \"Float64\" style = \"text-align: left;\">Float64</th><th title = \"Float64\" style = \"text-align: left;\">Float64</th><th title = \"Float64\" style = \"text-align: left;\">Float64</th><th title = \"Float64\" style = \"text-align: left;\">Float64</th><th title = \"Float64\" style = \"text-align: left;\">Float64</th><th title = \"Float64\" style = \"text-align: left;\">Float64</th></tr></thead><tbody><tr><td class = \"rowNumber\" style = \"font-weight: bold; text-align: right;\">1</td><td style = \"text-align: right;\">0.0</td><td style = \"text-align: right;\">0.377583</td><td style = \"text-align: right;\">0.377583</td><td style = \"text-align: right;\">0.377583</td><td style = \"text-align: right;\">0.377583</td><td style = \"text-align: right;\">0.377583</td></tr><tr><td class = \"rowNumber\" style = \"font-weight: bold; text-align: right;\">2</td><td style = \"text-align: right;\">1.0</td><td style = \"text-align: right;\">0.00365152</td><td style = \"text-align: right;\">0.00047756</td><td style = \"text-align: right;\">6.27132e-5</td><td style = \"text-align: right;\">0.0277428</td><td style = \"text-align: right;\">0.0271033</td></tr><tr><td class = \"rowNumber\" style = \"font-weight: bold; text-align: right;\">3</td><td style = \"text-align: right;\">2.0</td><td style = \"text-align: right;\">1.70507e-9</td><td style = \"text-align: right;\">6.66134e-16</td><td style = \"text-align: right;\">0.0</td><td style = \"text-align: right;\">0.00163676</td><td style = \"text-align: right;\">9.46154e-5</td></tr><tr><td class = \"rowNumber\" style = \"font-weight: bold; text-align: right;\">4</td><td style = \"text-align: right;\">3.0</td><td style = \"text-align: right;\">0.0</td><td style = \"text-align: right;\">0.0</td><td style = \"text-align: right;\">0.0</td><td style = \"text-align: right;\">5.92196e-6</td><td style = \"text-align: right;\">1.18098e-9</td></tr><tr><td class = \"rowNumber\" style = \"font-weight: bold; text-align: right;\">5</td><td style = \"text-align: right;\">0.0</td><td style = \"text-align: right;\">0.0</td><td style = \"text-align: right;\">0.0</td><td style = \"text-align: right;\">0.0</td><td style = \"text-align: right;\">1.27974e-9</td><td style = \"text-align: right;\">0.0</td></tr><tr><td class = \"rowNumber\" style = \"font-weight: bold; text-align: right;\">6</td><td style = \"text-align: right;\">0.0</td><td style = \"text-align: right;\">0.0</td><td style = \"text-align: right;\">0.0</td><td style = \"text-align: right;\">0.0</td><td style = \"text-align: right;\">8.88178e-16</td><td style = \"text-align: right;\">0.0</td></tr><tr><td class = \"rowNumber\" style = \"font-weight: bold; text-align: right;\">7</td><td style = \"text-align: right;\">0.0</td><td style = \"text-align: right;\">0.0</td><td style = \"text-align: right;\">0.0</td><td style = \"text-align: right;\">0.0</td><td style = \"text-align: right;\">0.0</td><td style = \"text-align: right;\">0.0</td></tr></tbody></table></div>"
      ],
      "text/latex": [
       "\\begin{tabular}{r|cccccc}\n",
       "\t& Iteration & Shamanskii\\_2 & Shamanskii\\_3 & Shamanskii\\_4 & Secante & Newton\\\\\n",
       "\t\\hline\n",
       "\t& Float64 & Float64 & Float64 & Float64 & Float64 & Float64\\\\\n",
       "\t\\hline\n",
       "\t1 & 0.0 & 0.377583 & 0.377583 & 0.377583 & 0.377583 & 0.377583 \\\\\n",
       "\t2 & 1.0 & 0.00365152 & 0.00047756 & 6.27132e-5 & 0.0277428 & 0.0271033 \\\\\n",
       "\t3 & 2.0 & 1.70507e-9 & 6.66134e-16 & 0.0 & 0.00163676 & 9.46154e-5 \\\\\n",
       "\t4 & 3.0 & 0.0 & 0.0 & 0.0 & 5.92196e-6 & 1.18098e-9 \\\\\n",
       "\t5 & 0.0 & 0.0 & 0.0 & 0.0 & 1.27974e-9 & 0.0 \\\\\n",
       "\t6 & 0.0 & 0.0 & 0.0 & 0.0 & 8.88178e-16 & 0.0 \\\\\n",
       "\t7 & 0.0 & 0.0 & 0.0 & 0.0 & 0.0 & 0.0 \\\\\n",
       "\\end{tabular}\n"
      ],
      "text/plain": [
       "\u001b[1m7×6 DataFrame\u001b[0m\n",
       "\u001b[1m Row \u001b[0m│\u001b[1m Iteration \u001b[0m\u001b[1m Shamanskii_2 \u001b[0m\u001b[1m Shamanskii_3 \u001b[0m\u001b[1m Shamanskii_4 \u001b[0m\u001b[1m Secante     \u001b[0m\u001b[1m Newto\u001b[0m ⋯\n",
       "     │\u001b[90m Float64   \u001b[0m\u001b[90m Float64      \u001b[0m\u001b[90m Float64      \u001b[0m\u001b[90m Float64      \u001b[0m\u001b[90m Float64     \u001b[0m\u001b[90m Float\u001b[0m ⋯\n",
       "─────┼──────────────────────────────────────────────────────────────────────────\n",
       "   1 │       0.0    0.377583     0.377583       0.377583    0.377583     0.377 ⋯\n",
       "   2 │       1.0    0.00365152   0.00047756     6.27132e-5  0.0277428    0.027\n",
       "   3 │       2.0    1.70507e-9   6.66134e-16    0.0         0.00163676   9.461\n",
       "   4 │       3.0    0.0          0.0            0.0         5.92196e-6   1.180\n",
       "   5 │       0.0    0.0          0.0            0.0         1.27974e-9   0.0   ⋯\n",
       "   6 │       0.0    0.0          0.0            0.0         8.88178e-16  0.0\n",
       "   7 │       0.0    0.0          0.0            0.0         0.0          0.0\n",
       "\u001b[36m                                                                1 column omitted\u001b[0m"
      ]
     },
     "execution_count": 95,
     "metadata": {},
     "output_type": "execute_result"
    }
   ],
   "source": [
    "x0=0.5\n",
    "eps=1e-10\n",
    "del=1e-10\n",
    "N=6\n",
    "x11,X1,Y1=Shamanskii2(f1,f1p,x0,eps,del,2,N)\n",
    "x12,X2,Y2=Shamanskii2(f1,f1p,x0,eps,del,3,N)\n",
    "x13,X3,Y3=Shamanskii2(f1,f1p,x0,eps,del,4,N)\n",
    "x14,X4,Y4=secante(f1,x0,eps,del,N)\n",
    "x15,X5,Y5=minewton(f1,f1p,x0,eps,del,N)\n",
    "\n",
    "#Residuo de cada método para función cos(x)-x\n",
    "df = DataFrame(Iteration = X1, Shamanskii_2 = Y1,Shamanskii_3 = Y2,Shamanskii_4 = Y3,Secante=Y4,Newton=Y5)\n",
    "#=Ignorar valores que sea 0.0, ya que al implementar se inicializaron los vectores con ceros, por lo que luego de \n",
    "converger bajo los parametros deseados el resto de valores del vector residuo son cero por defecto =# "
   ]
  },
  {
   "cell_type": "code",
   "execution_count": 97,
   "id": "6e8406a4",
   "metadata": {},
   "outputs": [
    {
     "data": {
      "text/html": [
       "<div><div style = \"float: left;\"><span>7×6 DataFrame</span></div><div style = \"clear: both;\"></div></div><div class = \"data-frame\" style = \"overflow-x: scroll;\"><table class = \"data-frame\" style = \"margin-bottom: 6px;\"><thead><tr class = \"header\"><th class = \"rowNumber\" style = \"font-weight: bold; text-align: right;\">Row</th><th style = \"text-align: left;\">Iteration</th><th style = \"text-align: left;\">Shamanskii_2</th><th style = \"text-align: left;\">Shamanskii_3</th><th style = \"text-align: left;\">Shamanskii_4</th><th style = \"text-align: left;\">Secante</th><th style = \"text-align: left;\">Newton</th></tr><tr class = \"subheader headerLastRow\"><th class = \"rowNumber\" style = \"font-weight: bold; text-align: right;\"></th><th title = \"Float64\" style = \"text-align: left;\">Float64</th><th title = \"Float64\" style = \"text-align: left;\">Float64</th><th title = \"Float64\" style = \"text-align: left;\">Float64</th><th title = \"Float64\" style = \"text-align: left;\">Float64</th><th title = \"Float64\" style = \"text-align: left;\">Float64</th><th title = \"Float64\" style = \"text-align: left;\">Float64</th></tr></thead><tbody><tr><td class = \"rowNumber\" style = \"font-weight: bold; text-align: right;\">1</td><td style = \"text-align: right;\">0.0</td><td style = \"text-align: right;\">0.785398</td><td style = \"text-align: right;\">0.785398</td><td style = \"text-align: right;\">0.785398</td><td style = \"text-align: right;\">0.785398</td><td style = \"text-align: right;\">0.785398</td></tr><tr><td class = \"rowNumber\" style = \"font-weight: bold; text-align: right;\">2</td><td style = \"text-align: right;\">1.0</td><td style = \"text-align: right;\">0.436525</td><td style = \"text-align: right;\">0.386104</td><td style = \"text-align: right;\">0.350592</td><td style = \"text-align: right;\">0.512735</td><td style = \"text-align: right;\">0.518669</td></tr><tr><td class = \"rowNumber\" style = \"font-weight: bold; text-align: right;\">3</td><td style = \"text-align: right;\">2.0</td><td style = \"text-align: right;\">0.0140354</td><td style = \"text-align: right;\">0.00117973</td><td style = \"text-align: right;\">7.57938e-5</td><td style = \"text-align: right;\">0.0543255</td><td style = \"text-align: right;\">0.116332</td></tr><tr><td class = \"rowNumber\" style = \"font-weight: bold; text-align: right;\">4</td><td style = \"text-align: right;\">3.0</td><td style = \"text-align: right;\">3.63209e-10</td><td style = \"text-align: right;\">2.1202e-21</td><td style = \"text-align: right;\">5.50316e-38</td><td style = \"text-align: right;\">0.00476276</td><td style = \"text-align: right;\">0.00106102</td></tr><tr><td class = \"rowNumber\" style = \"font-weight: bold; text-align: right;\">5</td><td style = \"text-align: right;\">4.0</td><td style = \"text-align: right;\">0.0</td><td style = \"text-align: right;\">0.0</td><td style = \"text-align: right;\">0.0</td><td style = \"text-align: right;\">4.2797e-6</td><td style = \"text-align: right;\">7.9631e-10</td></tr><tr><td class = \"rowNumber\" style = \"font-weight: bold; text-align: right;\">6</td><td style = \"text-align: right;\">0.0</td><td style = \"text-align: right;\">0.0</td><td style = \"text-align: right;\">0.0</td><td style = \"text-align: right;\">0.0</td><td style = \"text-align: right;\">3.23313e-11</td><td style = \"text-align: right;\">0.0</td></tr><tr><td class = \"rowNumber\" style = \"font-weight: bold; text-align: right;\">7</td><td style = \"text-align: right;\">0.0</td><td style = \"text-align: right;\">0.0</td><td style = \"text-align: right;\">0.0</td><td style = \"text-align: right;\">0.0</td><td style = \"text-align: right;\">0.0</td><td style = \"text-align: right;\">0.0</td></tr></tbody></table></div>"
      ],
      "text/latex": [
       "\\begin{tabular}{r|cccccc}\n",
       "\t& Iteration & Shamanskii\\_2 & Shamanskii\\_3 & Shamanskii\\_4 & Secante & Newton\\\\\n",
       "\t\\hline\n",
       "\t& Float64 & Float64 & Float64 & Float64 & Float64 & Float64\\\\\n",
       "\t\\hline\n",
       "\t1 & 0.0 & 0.785398 & 0.785398 & 0.785398 & 0.785398 & 0.785398 \\\\\n",
       "\t2 & 1.0 & 0.436525 & 0.386104 & 0.350592 & 0.512735 & 0.518669 \\\\\n",
       "\t3 & 2.0 & 0.0140354 & 0.00117973 & 7.57938e-5 & 0.0543255 & 0.116332 \\\\\n",
       "\t4 & 3.0 & 3.63209e-10 & 2.1202e-21 & 5.50316e-38 & 0.00476276 & 0.00106102 \\\\\n",
       "\t5 & 4.0 & 0.0 & 0.0 & 0.0 & 4.2797e-6 & 7.9631e-10 \\\\\n",
       "\t6 & 0.0 & 0.0 & 0.0 & 0.0 & 3.23313e-11 & 0.0 \\\\\n",
       "\t7 & 0.0 & 0.0 & 0.0 & 0.0 & 0.0 & 0.0 \\\\\n",
       "\\end{tabular}\n"
      ],
      "text/plain": [
       "\u001b[1m7×6 DataFrame\u001b[0m\n",
       "\u001b[1m Row \u001b[0m│\u001b[1m Iteration \u001b[0m\u001b[1m Shamanskii_2 \u001b[0m\u001b[1m Shamanskii_3 \u001b[0m\u001b[1m Shamanskii_4 \u001b[0m\u001b[1m Secante     \u001b[0m\u001b[1m Newto\u001b[0m ⋯\n",
       "     │\u001b[90m Float64   \u001b[0m\u001b[90m Float64      \u001b[0m\u001b[90m Float64      \u001b[0m\u001b[90m Float64      \u001b[0m\u001b[90m Float64     \u001b[0m\u001b[90m Float\u001b[0m ⋯\n",
       "─────┼──────────────────────────────────────────────────────────────────────────\n",
       "   1 │       0.0   0.785398       0.785398     0.785398     0.785398     0.785 ⋯\n",
       "   2 │       1.0   0.436525       0.386104     0.350592     0.512735     0.518\n",
       "   3 │       2.0   0.0140354      0.00117973   7.57938e-5   0.0543255    0.116\n",
       "   4 │       3.0   3.63209e-10    2.1202e-21   5.50316e-38  0.00476276   0.001\n",
       "   5 │       4.0   0.0            0.0          0.0          4.2797e-6    7.963 ⋯\n",
       "   6 │       0.0   0.0            0.0          0.0          3.23313e-11  0.0\n",
       "   7 │       0.0   0.0            0.0          0.0          0.0          0.0\n",
       "\u001b[36m                                                                1 column omitted\u001b[0m"
      ]
     },
     "execution_count": 97,
     "metadata": {},
     "output_type": "execute_result"
    }
   ],
   "source": [
    "x0=1.0\n",
    "eps=1e-10\n",
    "del=1e-10\n",
    "N=6\n",
    "x21,X1,Y1=Shamanskii2(f2,f2p,x0,eps,del,2,N)\n",
    "x22,X2,Y2=Shamanskii2(f2,f2p,x0,eps,del,3,N)\n",
    "x23,X3,Y3=Shamanskii2(f2,f2p,x0,eps,del,4,N)\n",
    "x24,X4,Y4=secante(f2,x0,eps,del,N)\n",
    "x25,X5,Y5=minewton(f2,f2p,x0,eps,del,N)\n",
    "\n",
    "#Residuo de cada método para función arctan(x)\n",
    "df = DataFrame(Iteration = X1, Shamanskii_2 = Y1,Shamanskii_3 = Y2,Shamanskii_4 = Y3,Secante=Y4,Newton=Y5)\n",
    "#=Ignorar valores que sea 0.0, ya que al implementar se inicializaron los vectores con ceros, por lo que luego de \n",
    "converger bajo los parametros deseados el resto de valores del vector residuo son cero por defecto =#"
   ]
  },
  {
   "cell_type": "code",
   "execution_count": 98,
   "id": "fb2a88ef",
   "metadata": {},
   "outputs": [
    {
     "data": {
      "text/html": [
       "<div><div style = \"float: left;\"><span>7×6 DataFrame</span></div><div style = \"clear: both;\"></div></div><div class = \"data-frame\" style = \"overflow-x: scroll;\"><table class = \"data-frame\" style = \"margin-bottom: 6px;\"><thead><tr class = \"header\"><th class = \"rowNumber\" style = \"font-weight: bold; text-align: right;\">Row</th><th style = \"text-align: left;\">Iteration</th><th style = \"text-align: left;\">Shamanskii_2</th><th style = \"text-align: left;\">Shamanskii_3</th><th style = \"text-align: left;\">Shamanskii_4</th><th style = \"text-align: left;\">Secante</th><th style = \"text-align: left;\">Newton</th></tr><tr class = \"subheader headerLastRow\"><th class = \"rowNumber\" style = \"font-weight: bold; text-align: right;\"></th><th title = \"Float64\" style = \"text-align: left;\">Float64</th><th title = \"Float64\" style = \"text-align: left;\">Float64</th><th title = \"Float64\" style = \"text-align: left;\">Float64</th><th title = \"Float64\" style = \"text-align: left;\">Float64</th><th title = \"Float64\" style = \"text-align: left;\">Float64</th><th title = \"Float64\" style = \"text-align: left;\">Float64</th></tr></thead><tbody><tr><td class = \"rowNumber\" style = \"font-weight: bold; text-align: right;\">1</td><td style = \"text-align: right;\">0.0</td><td style = \"text-align: right;\">0.14112</td><td style = \"text-align: right;\">0.14112</td><td style = \"text-align: right;\">0.14112</td><td style = \"text-align: right;\">0.14112</td><td style = \"text-align: right;\">0.14112</td></tr><tr><td class = \"rowNumber\" style = \"font-weight: bold; text-align: right;\">2</td><td style = \"text-align: right;\">1.0</td><td style = \"text-align: right;\">9.6424e-6</td><td style = \"text-align: right;\">9.74718e-8</td><td style = \"text-align: right;\">9.8531e-10</td><td style = \"text-align: right;\">0.00128079</td><td style = \"text-align: right;\">0.000953889</td></tr><tr><td class = \"rowNumber\" style = \"font-weight: bold; text-align: right;\">3</td><td style = \"text-align: right;\">2.0</td><td style = \"text-align: right;\">1.22465e-16</td><td style = \"text-align: right;\">1.22465e-16</td><td style = \"text-align: right;\">1.22465e-16</td><td style = \"text-align: right;\">4.25074e-6</td><td style = \"text-align: right;\">2.89316e-10</td></tr><tr><td class = \"rowNumber\" style = \"font-weight: bold; text-align: right;\">4</td><td style = \"text-align: right;\">0.0</td><td style = \"text-align: right;\">0.0</td><td style = \"text-align: right;\">0.0</td><td style = \"text-align: right;\">0.0</td><td style = \"text-align: right;\">1.15851e-12</td><td style = \"text-align: right;\">1.22465e-16</td></tr><tr><td class = \"rowNumber\" style = \"font-weight: bold; text-align: right;\">5</td><td style = \"text-align: right;\">0.0</td><td style = \"text-align: right;\">0.0</td><td style = \"text-align: right;\">0.0</td><td style = \"text-align: right;\">0.0</td><td style = \"text-align: right;\">0.0</td><td style = \"text-align: right;\">0.0</td></tr><tr><td class = \"rowNumber\" style = \"font-weight: bold; text-align: right;\">6</td><td style = \"text-align: right;\">0.0</td><td style = \"text-align: right;\">0.0</td><td style = \"text-align: right;\">0.0</td><td style = \"text-align: right;\">0.0</td><td style = \"text-align: right;\">0.0</td><td style = \"text-align: right;\">0.0</td></tr><tr><td class = \"rowNumber\" style = \"font-weight: bold; text-align: right;\">7</td><td style = \"text-align: right;\">0.0</td><td style = \"text-align: right;\">0.0</td><td style = \"text-align: right;\">0.0</td><td style = \"text-align: right;\">0.0</td><td style = \"text-align: right;\">0.0</td><td style = \"text-align: right;\">0.0</td></tr></tbody></table></div>"
      ],
      "text/latex": [
       "\\begin{tabular}{r|cccccc}\n",
       "\t& Iteration & Shamanskii\\_2 & Shamanskii\\_3 & Shamanskii\\_4 & Secante & Newton\\\\\n",
       "\t\\hline\n",
       "\t& Float64 & Float64 & Float64 & Float64 & Float64 & Float64\\\\\n",
       "\t\\hline\n",
       "\t1 & 0.0 & 0.14112 & 0.14112 & 0.14112 & 0.14112 & 0.14112 \\\\\n",
       "\t2 & 1.0 & 9.6424e-6 & 9.74718e-8 & 9.8531e-10 & 0.00128079 & 0.000953889 \\\\\n",
       "\t3 & 2.0 & 1.22465e-16 & 1.22465e-16 & 1.22465e-16 & 4.25074e-6 & 2.89316e-10 \\\\\n",
       "\t4 & 0.0 & 0.0 & 0.0 & 0.0 & 1.15851e-12 & 1.22465e-16 \\\\\n",
       "\t5 & 0.0 & 0.0 & 0.0 & 0.0 & 0.0 & 0.0 \\\\\n",
       "\t6 & 0.0 & 0.0 & 0.0 & 0.0 & 0.0 & 0.0 \\\\\n",
       "\t7 & 0.0 & 0.0 & 0.0 & 0.0 & 0.0 & 0.0 \\\\\n",
       "\\end{tabular}\n"
      ],
      "text/plain": [
       "\u001b[1m7×6 DataFrame\u001b[0m\n",
       "\u001b[1m Row \u001b[0m│\u001b[1m Iteration \u001b[0m\u001b[1m Shamanskii_2 \u001b[0m\u001b[1m Shamanskii_3 \u001b[0m\u001b[1m Shamanskii_4 \u001b[0m\u001b[1m Secante     \u001b[0m\u001b[1m Newto\u001b[0m ⋯\n",
       "     │\u001b[90m Float64   \u001b[0m\u001b[90m Float64      \u001b[0m\u001b[90m Float64      \u001b[0m\u001b[90m Float64      \u001b[0m\u001b[90m Float64     \u001b[0m\u001b[90m Float\u001b[0m ⋯\n",
       "─────┼──────────────────────────────────────────────────────────────────────────\n",
       "   1 │       0.0   0.14112       0.14112       0.14112      0.14112      0.141 ⋯\n",
       "   2 │       1.0   9.6424e-6     9.74718e-8    9.8531e-10   0.00128079   0.000\n",
       "   3 │       2.0   1.22465e-16   1.22465e-16   1.22465e-16  4.25074e-6   2.893\n",
       "   4 │       0.0   0.0           0.0           0.0          1.15851e-12  1.224\n",
       "   5 │       0.0   0.0           0.0           0.0          0.0          0.0   ⋯\n",
       "   6 │       0.0   0.0           0.0           0.0          0.0          0.0\n",
       "   7 │       0.0   0.0           0.0           0.0          0.0          0.0\n",
       "\u001b[36m                                                                1 column omitted\u001b[0m"
      ]
     },
     "execution_count": 98,
     "metadata": {},
     "output_type": "execute_result"
    }
   ],
   "source": [
    "x0=3.0\n",
    "eps=1e-10\n",
    "del=1e-10\n",
    "N=6\n",
    "x31,X1,Y1=Shamanskii2(f3,f3p,x0,eps,del,2,N)\n",
    "x32,X2,Y2=Shamanskii2(f3,f3p,x0,eps,del,3,N)\n",
    "x33,X3,Y3=Shamanskii2(f3,f3p,x0,eps,del,4,N)\n",
    "x34,X4,Y4=secante(f3,x0,eps,del,N)\n",
    "x35,X5,Y5=minewton(f3,f3p,x0,eps,del,N)\n",
    "\n",
    "#Residuo de cada método para función sin(x)\n",
    "df = DataFrame(Iteration = X1, Shamanskii_2 = Y1,Shamanskii_3 = Y2,Shamanskii_4 = Y3,Secante=Y4,Newton=Y5)\n",
    "#=Ignorar valores que sea 0.0, ya que al implementar se inicializaron los vectores con ceros, por lo que luego de \n",
    "converger bajo los parametros deseados el resto de valores del vector residuo son cero por defecto =#"
   ]
  },
  {
   "cell_type": "code",
   "execution_count": 104,
   "id": "479fb928",
   "metadata": {},
   "outputs": [
    {
     "data": {
      "text/html": [
       "<div><div style = \"float: left;\"><span>25×6 DataFrame</span></div><div style = \"clear: both;\"></div></div><div class = \"data-frame\" style = \"overflow-x: scroll;\"><table class = \"data-frame\" style = \"margin-bottom: 6px;\"><thead><tr class = \"header\"><th class = \"rowNumber\" style = \"font-weight: bold; text-align: right;\">Row</th><th style = \"text-align: left;\">Iteration</th><th style = \"text-align: left;\">Shamanskii_2</th><th style = \"text-align: left;\">Shamanskii_3</th><th style = \"text-align: left;\">Shamanskii_4</th><th style = \"text-align: left;\">Secante</th><th style = \"text-align: left;\">Newton</th></tr><tr class = \"subheader headerLastRow\"><th class = \"rowNumber\" style = \"font-weight: bold; text-align: right;\"></th><th title = \"Float64\" style = \"text-align: left;\">Float64</th><th title = \"Float64\" style = \"text-align: left;\">Float64</th><th title = \"Float64\" style = \"text-align: left;\">Float64</th><th title = \"Float64\" style = \"text-align: left;\">Float64</th><th title = \"Float64\" style = \"text-align: left;\">Float64</th><th title = \"Float64\" style = \"text-align: left;\">Float64</th></tr></thead><tbody><tr><td class = \"rowNumber\" style = \"font-weight: bold; text-align: right;\">1</td><td style = \"text-align: right;\">0.0</td><td style = \"text-align: right;\">0.25</td><td style = \"text-align: right;\">0.25</td><td style = \"text-align: right;\">0.25</td><td style = \"text-align: right;\">0.25</td><td style = \"text-align: right;\">0.25</td></tr><tr><td class = \"rowNumber\" style = \"font-weight: bold; text-align: right;\">2</td><td style = \"text-align: right;\">1.0</td><td style = \"text-align: right;\">0.0351562</td><td style = \"text-align: right;\">0.0232086</td><td style = \"text-align: right;\">0.0166759</td><td style = \"text-align: right;\">0.0618734</td><td style = \"text-align: right;\">0.0625</td></tr><tr><td class = \"rowNumber\" style = \"font-weight: bold; text-align: right;\">3</td><td style = \"text-align: right;\">2.0</td><td style = \"text-align: right;\">0.00494385</td><td style = \"text-align: right;\">0.00215456</td><td style = \"text-align: right;\">0.00111234</td><td style = \"text-align: right;\">0.0275917</td><td style = \"text-align: right;\">0.015625</td></tr><tr><td class = \"rowNumber\" style = \"font-weight: bold; text-align: right;\">4</td><td style = \"text-align: right;\">3.0</td><td style = \"text-align: right;\">0.000695229</td><td style = \"text-align: right;\">0.000200017</td><td style = \"text-align: right;\">7.4197e-5</td><td style = \"text-align: right;\">0.00991968</td><td style = \"text-align: right;\">0.00390625</td></tr><tr><td class = \"rowNumber\" style = \"font-weight: bold; text-align: right;\">5</td><td style = \"text-align: right;\">4.0</td><td style = \"text-align: right;\">9.77665e-5</td><td style = \"text-align: right;\">1.85685e-5</td><td style = \"text-align: right;\">4.9492e-6</td><td style = \"text-align: right;\">0.00387682</td><td style = \"text-align: right;\">0.000976562</td></tr><tr><td class = \"rowNumber\" style = \"font-weight: bold; text-align: right;\">6</td><td style = \"text-align: right;\">5.0</td><td style = \"text-align: right;\">1.37484e-5</td><td style = \"text-align: right;\">1.7238e-6</td><td style = \"text-align: right;\">3.30129e-7</td><td style = \"text-align: right;\">0.00146786</td><td style = \"text-align: right;\">0.000244141</td></tr><tr><td class = \"rowNumber\" style = \"font-weight: bold; text-align: right;\">7</td><td style = \"text-align: right;\">6.0</td><td style = \"text-align: right;\">1.93337e-6</td><td style = \"text-align: right;\">1.60028e-7</td><td style = \"text-align: right;\">2.20208e-8</td><td style = \"text-align: right;\">0.000562556</td><td style = \"text-align: right;\">6.10352e-5</td></tr><tr><td class = \"rowNumber\" style = \"font-weight: bold; text-align: right;\">8</td><td style = \"text-align: right;\">7.0</td><td style = \"text-align: right;\">2.7188e-7</td><td style = \"text-align: right;\">1.48561e-8</td><td style = \"text-align: right;\">1.46886e-9</td><td style = \"text-align: right;\">0.000214602</td><td style = \"text-align: right;\">1.52588e-5</td></tr><tr><td class = \"rowNumber\" style = \"font-weight: bold; text-align: right;\">9</td><td style = \"text-align: right;\">8.0</td><td style = \"text-align: right;\">3.82332e-8</td><td style = \"text-align: right;\">1.37916e-9</td><td style = \"text-align: right;\">9.79784e-11</td><td style = \"text-align: right;\">8.20108e-5</td><td style = \"text-align: right;\">3.8147e-6</td></tr><tr><td class = \"rowNumber\" style = \"font-weight: bold; text-align: right;\">10</td><td style = \"text-align: right;\">9.0</td><td style = \"text-align: right;\">5.37654e-9</td><td style = \"text-align: right;\">1.28033e-10</td><td style = \"text-align: right;\">0.0</td><td style = \"text-align: right;\">3.13195e-5</td><td style = \"text-align: right;\">9.53674e-7</td></tr><tr><td class = \"rowNumber\" style = \"font-weight: bold; text-align: right;\">11</td><td style = \"text-align: right;\">10.0</td><td style = \"text-align: right;\">7.56076e-10</td><td style = \"text-align: right;\">1.18859e-11</td><td style = \"text-align: right;\">0.0</td><td style = \"text-align: right;\">1.19638e-5</td><td style = \"text-align: right;\">2.38419e-7</td></tr><tr><td class = \"rowNumber\" style = \"font-weight: bold; text-align: right;\">12</td><td style = \"text-align: right;\">11.0</td><td style = \"text-align: right;\">1.06323e-10</td><td style = \"text-align: right;\">0.0</td><td style = \"text-align: right;\">0.0</td><td style = \"text-align: right;\">4.56965e-6</td><td style = \"text-align: right;\">5.96046e-8</td></tr><tr><td class = \"rowNumber\" style = \"font-weight: bold; text-align: right;\">13</td><td style = \"text-align: right;\">12.0</td><td style = \"text-align: right;\">1.49517e-11</td><td style = \"text-align: right;\">0.0</td><td style = \"text-align: right;\">0.0</td><td style = \"text-align: right;\">1.74547e-6</td><td style = \"text-align: right;\">1.49012e-8</td></tr><tr><td class = \"rowNumber\" style = \"font-weight: bold; text-align: right;\">14</td><td style = \"text-align: right;\">0.0</td><td style = \"text-align: right;\">0.0</td><td style = \"text-align: right;\">0.0</td><td style = \"text-align: right;\">0.0</td><td style = \"text-align: right;\">6.66708e-7</td><td style = \"text-align: right;\">3.72529e-9</td></tr><tr><td class = \"rowNumber\" style = \"font-weight: bold; text-align: right;\">15</td><td style = \"text-align: right;\">0.0</td><td style = \"text-align: right;\">0.0</td><td style = \"text-align: right;\">0.0</td><td style = \"text-align: right;\">0.0</td><td style = \"text-align: right;\">2.5466e-7</td><td style = \"text-align: right;\">9.31323e-10</td></tr><tr><td class = \"rowNumber\" style = \"font-weight: bold; text-align: right;\">16</td><td style = \"text-align: right;\">0.0</td><td style = \"text-align: right;\">0.0</td><td style = \"text-align: right;\">0.0</td><td style = \"text-align: right;\">0.0</td><td style = \"text-align: right;\">9.72715e-8</td><td style = \"text-align: right;\">2.32831e-10</td></tr><tr><td class = \"rowNumber\" style = \"font-weight: bold; text-align: right;\">17</td><td style = \"text-align: right;\">0.0</td><td style = \"text-align: right;\">0.0</td><td style = \"text-align: right;\">0.0</td><td style = \"text-align: right;\">0.0</td><td style = \"text-align: right;\">3.71544e-8</td><td style = \"text-align: right;\">5.82077e-11</td></tr><tr><td class = \"rowNumber\" style = \"font-weight: bold; text-align: right;\">18</td><td style = \"text-align: right;\">0.0</td><td style = \"text-align: right;\">0.0</td><td style = \"text-align: right;\">0.0</td><td style = \"text-align: right;\">0.0</td><td style = \"text-align: right;\">1.41917e-8</td><td style = \"text-align: right;\">0.0</td></tr><tr><td class = \"rowNumber\" style = \"font-weight: bold; text-align: right;\">19</td><td style = \"text-align: right;\">0.0</td><td style = \"text-align: right;\">0.0</td><td style = \"text-align: right;\">0.0</td><td style = \"text-align: right;\">0.0</td><td style = \"text-align: right;\">5.42075e-9</td><td style = \"text-align: right;\">0.0</td></tr><tr><td class = \"rowNumber\" style = \"font-weight: bold; text-align: right;\">20</td><td style = \"text-align: right;\">0.0</td><td style = \"text-align: right;\">0.0</td><td style = \"text-align: right;\">0.0</td><td style = \"text-align: right;\">0.0</td><td style = \"text-align: right;\">2.07054e-9</td><td style = \"text-align: right;\">0.0</td></tr><tr><td class = \"rowNumber\" style = \"font-weight: bold; text-align: right;\">21</td><td style = \"text-align: right;\">0.0</td><td style = \"text-align: right;\">0.0</td><td style = \"text-align: right;\">0.0</td><td style = \"text-align: right;\">0.0</td><td style = \"text-align: right;\">7.90877e-10</td><td style = \"text-align: right;\">0.0</td></tr><tr><td class = \"rowNumber\" style = \"font-weight: bold; text-align: right;\">22</td><td style = \"text-align: right;\">0.0</td><td style = \"text-align: right;\">0.0</td><td style = \"text-align: right;\">0.0</td><td style = \"text-align: right;\">0.0</td><td style = \"text-align: right;\">3.02088e-10</td><td style = \"text-align: right;\">0.0</td></tr><tr><td class = \"rowNumber\" style = \"font-weight: bold; text-align: right;\">23</td><td style = \"text-align: right;\">0.0</td><td style = \"text-align: right;\">0.0</td><td style = \"text-align: right;\">0.0</td><td style = \"text-align: right;\">0.0</td><td style = \"text-align: right;\">1.15387e-10</td><td style = \"text-align: right;\">0.0</td></tr><tr><td class = \"rowNumber\" style = \"font-weight: bold; text-align: right;\">24</td><td style = \"text-align: right;\">0.0</td><td style = \"text-align: right;\">0.0</td><td style = \"text-align: right;\">0.0</td><td style = \"text-align: right;\">0.0</td><td style = \"text-align: right;\">4.40741e-11</td><td style = \"text-align: right;\">0.0</td></tr><tr><td class = \"rowNumber\" style = \"font-weight: bold; text-align: right;\">25</td><td style = \"text-align: right;\">0.0</td><td style = \"text-align: right;\">0.0</td><td style = \"text-align: right;\">0.0</td><td style = \"text-align: right;\">0.0</td><td style = \"text-align: right;\">0.0</td><td style = \"text-align: right;\">0.0</td></tr></tbody></table></div>"
      ],
      "text/latex": [
       "\\begin{tabular}{r|cccccc}\n",
       "\t& Iteration & Shamanskii\\_2 & Shamanskii\\_3 & Shamanskii\\_4 & Secante & Newton\\\\\n",
       "\t\\hline\n",
       "\t& Float64 & Float64 & Float64 & Float64 & Float64 & Float64\\\\\n",
       "\t\\hline\n",
       "\t1 & 0.0 & 0.25 & 0.25 & 0.25 & 0.25 & 0.25 \\\\\n",
       "\t2 & 1.0 & 0.0351562 & 0.0232086 & 0.0166759 & 0.0618734 & 0.0625 \\\\\n",
       "\t3 & 2.0 & 0.00494385 & 0.00215456 & 0.00111234 & 0.0275917 & 0.015625 \\\\\n",
       "\t4 & 3.0 & 0.000695229 & 0.000200017 & 7.4197e-5 & 0.00991968 & 0.00390625 \\\\\n",
       "\t5 & 4.0 & 9.77665e-5 & 1.85685e-5 & 4.9492e-6 & 0.00387682 & 0.000976562 \\\\\n",
       "\t6 & 5.0 & 1.37484e-5 & 1.7238e-6 & 3.30129e-7 & 0.00146786 & 0.000244141 \\\\\n",
       "\t7 & 6.0 & 1.93337e-6 & 1.60028e-7 & 2.20208e-8 & 0.000562556 & 6.10352e-5 \\\\\n",
       "\t8 & 7.0 & 2.7188e-7 & 1.48561e-8 & 1.46886e-9 & 0.000214602 & 1.52588e-5 \\\\\n",
       "\t9 & 8.0 & 3.82332e-8 & 1.37916e-9 & 9.79784e-11 & 8.20108e-5 & 3.8147e-6 \\\\\n",
       "\t10 & 9.0 & 5.37654e-9 & 1.28033e-10 & 0.0 & 3.13195e-5 & 9.53674e-7 \\\\\n",
       "\t11 & 10.0 & 7.56076e-10 & 1.18859e-11 & 0.0 & 1.19638e-5 & 2.38419e-7 \\\\\n",
       "\t12 & 11.0 & 1.06323e-10 & 0.0 & 0.0 & 4.56965e-6 & 5.96046e-8 \\\\\n",
       "\t13 & 12.0 & 1.49517e-11 & 0.0 & 0.0 & 1.74547e-6 & 1.49012e-8 \\\\\n",
       "\t14 & 0.0 & 0.0 & 0.0 & 0.0 & 6.66708e-7 & 3.72529e-9 \\\\\n",
       "\t15 & 0.0 & 0.0 & 0.0 & 0.0 & 2.5466e-7 & 9.31323e-10 \\\\\n",
       "\t16 & 0.0 & 0.0 & 0.0 & 0.0 & 9.72715e-8 & 2.32831e-10 \\\\\n",
       "\t17 & 0.0 & 0.0 & 0.0 & 0.0 & 3.71544e-8 & 5.82077e-11 \\\\\n",
       "\t18 & 0.0 & 0.0 & 0.0 & 0.0 & 1.41917e-8 & 0.0 \\\\\n",
       "\t19 & 0.0 & 0.0 & 0.0 & 0.0 & 5.42075e-9 & 0.0 \\\\\n",
       "\t20 & 0.0 & 0.0 & 0.0 & 0.0 & 2.07054e-9 & 0.0 \\\\\n",
       "\t21 & 0.0 & 0.0 & 0.0 & 0.0 & 7.90877e-10 & 0.0 \\\\\n",
       "\t22 & 0.0 & 0.0 & 0.0 & 0.0 & 3.02088e-10 & 0.0 \\\\\n",
       "\t23 & 0.0 & 0.0 & 0.0 & 0.0 & 1.15387e-10 & 0.0 \\\\\n",
       "\t24 & 0.0 & 0.0 & 0.0 & 0.0 & 4.40741e-11 & 0.0 \\\\\n",
       "\t25 & 0.0 & 0.0 & 0.0 & 0.0 & 0.0 & 0.0 \\\\\n",
       "\\end{tabular}\n"
      ],
      "text/plain": [
       "\u001b[1m25×6 DataFrame\u001b[0m\n",
       "\u001b[1m Row \u001b[0m│\u001b[1m Iteration \u001b[0m\u001b[1m Shamanskii_2 \u001b[0m\u001b[1m Shamanskii_3 \u001b[0m\u001b[1m Shamanskii_4 \u001b[0m\u001b[1m Secante     \u001b[0m\u001b[1m Newto\u001b[0m ⋯\n",
       "     │\u001b[90m Float64   \u001b[0m\u001b[90m Float64      \u001b[0m\u001b[90m Float64      \u001b[0m\u001b[90m Float64      \u001b[0m\u001b[90m Float64     \u001b[0m\u001b[90m Float\u001b[0m ⋯\n",
       "─────┼──────────────────────────────────────────────────────────────────────────\n",
       "   1 │       0.0   0.25          0.25          0.25         0.25         0.25  ⋯\n",
       "   2 │       1.0   0.0351562     0.0232086     0.0166759    0.0618734    0.062\n",
       "   3 │       2.0   0.00494385    0.00215456    0.00111234   0.0275917    0.015\n",
       "   4 │       3.0   0.000695229   0.000200017   7.4197e-5    0.00991968   0.003\n",
       "   5 │       4.0   9.77665e-5    1.85685e-5    4.9492e-6    0.00387682   0.000 ⋯\n",
       "   6 │       5.0   1.37484e-5    1.7238e-6     3.30129e-7   0.00146786   0.000\n",
       "   7 │       6.0   1.93337e-6    1.60028e-7    2.20208e-8   0.000562556  6.103\n",
       "   8 │       7.0   2.7188e-7     1.48561e-8    1.46886e-9   0.000214602  1.525\n",
       "   9 │       8.0   3.82332e-8    1.37916e-9    9.79784e-11  8.20108e-5   3.814 ⋯\n",
       "  10 │       9.0   5.37654e-9    1.28033e-10   0.0          3.13195e-5   9.536\n",
       "  11 │      10.0   7.56076e-10   1.18859e-11   0.0          1.19638e-5   2.384\n",
       "  ⋮  │     ⋮           ⋮             ⋮             ⋮             ⋮             ⋱\n",
       "  16 │       0.0   0.0           0.0           0.0          9.72715e-8   2.328\n",
       "  17 │       0.0   0.0           0.0           0.0          3.71544e-8   5.820 ⋯\n",
       "  18 │       0.0   0.0           0.0           0.0          1.41917e-8   0.0\n",
       "  19 │       0.0   0.0           0.0           0.0          5.42075e-9   0.0\n",
       "  20 │       0.0   0.0           0.0           0.0          2.07054e-9   0.0\n",
       "  21 │       0.0   0.0           0.0           0.0          7.90877e-10  0.0   ⋯\n",
       "  22 │       0.0   0.0           0.0           0.0          3.02088e-10  0.0\n",
       "  23 │       0.0   0.0           0.0           0.0          1.15387e-10  0.0\n",
       "  24 │       0.0   0.0           0.0           0.0          4.40741e-11  0.0\n",
       "  25 │       0.0   0.0           0.0           0.0          0.0          0.0   ⋯\n",
       "\u001b[36m                                                     1 column and 4 rows omitted\u001b[0m"
      ]
     },
     "execution_count": 104,
     "metadata": {},
     "output_type": "execute_result"
    }
   ],
   "source": [
    "x0=0.5\n",
    "eps=1e-10\n",
    "del=1e-10\n",
    "N=24\n",
    "x41,X1,Y1=Shamanskii2(f4,f4p,x0,eps,del,2,N)\n",
    "x42,X2,Y2=Shamanskii2(f4,f4p,x0,eps,del,3,N)\n",
    "x43,X3,Y3=Shamanskii2(f4,f4p,x0,eps,del,4,N)\n",
    "x44,X4,Y4=secante(f4,x0,eps,del,N)\n",
    "x45,X5,Y5=minewton(f4,f4p,x0,eps,del,N)\n",
    "\n",
    "#Residuo de cada método para función x^2\n",
    "df = DataFrame(Iteration = X1, Shamanskii_2 = Y1,Shamanskii_3 = Y2,Shamanskii_4 = Y3,Secante=Y4,Newton=Y5)\n",
    "#=Ignorar valores que sea 0.0, ya que al implementar se inicializaron los vectores con ceros, por lo que luego de \n",
    "converger bajo los parametros deseados el resto de valores del vector residuo son cero por defecto =#"
   ]
  },
  {
   "cell_type": "code",
   "execution_count": 99,
   "id": "6c30cdc1",
   "metadata": {},
   "outputs": [
    {
     "data": {
      "text/html": [
       "<div><div style = \"float: left;\"><span>11×6 DataFrame</span></div><div style = \"clear: both;\"></div></div><div class = \"data-frame\" style = \"overflow-x: scroll;\"><table class = \"data-frame\" style = \"margin-bottom: 6px;\"><thead><tr class = \"header\"><th class = \"rowNumber\" style = \"font-weight: bold; text-align: right;\">Row</th><th style = \"text-align: left;\">Iteration</th><th style = \"text-align: left;\">Shamanskii_2</th><th style = \"text-align: left;\">Shamanskii_3</th><th style = \"text-align: left;\">Shamanskii_4</th><th style = \"text-align: left;\">Secante</th><th style = \"text-align: left;\">Newton</th></tr><tr class = \"subheader headerLastRow\"><th class = \"rowNumber\" style = \"font-weight: bold; text-align: right;\"></th><th title = \"Float64\" style = \"text-align: left;\">Float64</th><th title = \"Float64\" style = \"text-align: left;\">Float64</th><th title = \"Float64\" style = \"text-align: left;\">Float64</th><th title = \"Float64\" style = \"text-align: left;\">Float64</th><th title = \"Float64\" style = \"text-align: left;\">Float64</th><th title = \"Float64\" style = \"text-align: left;\">Float64</th></tr></thead><tbody><tr><td class = \"rowNumber\" style = \"font-weight: bold; text-align: right;\">1</td><td style = \"text-align: right;\">0.0</td><td style = \"text-align: right;\">101.0</td><td style = \"text-align: right;\">101.0</td><td style = \"text-align: right;\">101.0</td><td style = \"text-align: right;\">101.0</td><td style = \"text-align: right;\">101.0</td></tr><tr><td class = \"rowNumber\" style = \"font-weight: bold; text-align: right;\">2</td><td style = \"text-align: right;\">1.0</td><td style = \"text-align: right;\">14.5047</td><td style = \"text-align: right;\">9.70037</td><td style = \"text-align: right;\">7.07436</td><td style = \"text-align: right;\">25.2519</td><td style = \"text-align: right;\">25.5025</td></tr><tr><td class = \"rowNumber\" style = \"font-weight: bold; text-align: right;\">3</td><td style = \"text-align: right;\">2.0</td><td style = \"text-align: right;\">2.37234</td><td style = \"text-align: right;\">1.30898</td><td style = \"text-align: right;\">1.01155</td><td style = \"text-align: right;\">11.4501</td><td style = \"text-align: right;\">6.63583</td></tr><tr><td class = \"rowNumber\" style = \"font-weight: bold; text-align: right;\">4</td><td style = \"text-align: right;\">3.0</td><td style = \"text-align: right;\">1.07766</td><td style = \"text-align: right;\">35.9154</td><td style = \"text-align: right;\">1.83675e20</td><td style = \"text-align: right;\">4.34522</td><td style = \"text-align: right;\">1.95332</td></tr><tr><td class = \"rowNumber\" style = \"font-weight: bold; text-align: right;\">5</td><td style = \"text-align: right;\">4.0</td><td style = \"text-align: right;\">70.9376</td><td style = \"text-align: right;\">3.67216</td><td style = \"text-align: right;\">1.22518e19</td><td style = \"text-align: right;\">1.94194</td><td style = \"text-align: right;\">1.00057</td></tr><tr><td class = \"rowNumber\" style = \"font-weight: bold; text-align: right;\">6</td><td style = \"text-align: right;\">5.0</td><td style = \"text-align: right;\">10.2792</td><td style = \"text-align: right;\">1.03427</td><td style = \"text-align: right;\">8.17237e17</td><td style = \"text-align: right;\">1.07666</td><td style = \"text-align: right;\">437.924</td></tr><tr><td class = \"rowNumber\" style = \"font-weight: bold; text-align: right;\">7</td><td style = \"text-align: right;\">6.0</td><td style = \"text-align: right;\">1.7951</td><td style = \"text-align: right;\">2.37731e6</td><td style = \"text-align: right;\">5.45126e16</td><td style = \"text-align: right;\">1.34369</td><td style = \"text-align: right;\">109.731</td></tr><tr><td class = \"rowNumber\" style = \"font-weight: bold; text-align: right;\">8</td><td style = \"text-align: right;\">7.0</td><td style = \"text-align: right;\">1.46653</td><td style = \"text-align: right;\">2.20696e5</td><td style = \"text-align: right;\">3.63618e15</td><td style = \"text-align: right;\">15.1147</td><td style = \"text-align: right;\">27.6852</td></tr><tr><td class = \"rowNumber\" style = \"font-weight: bold; text-align: right;\">9</td><td style = \"text-align: right;\">8.0</td><td style = \"text-align: right;\">2.52322</td><td style = \"text-align: right;\">20488.5</td><td style = \"text-align: right;\">2.42546e14</td><td style = \"text-align: right;\">2.02016</td><td style = \"text-align: right;\">7.18066</td></tr><tr><td class = \"rowNumber\" style = \"font-weight: bold; text-align: right;\">10</td><td style = \"text-align: right;\">9.0</td><td style = \"text-align: right;\">1.04467</td><td style = \"text-align: right;\">1902.36</td><td style = \"text-align: right;\">1.61787e13</td><td style = \"text-align: right;\">4.0466</td><td style = \"text-align: right;\">2.08561</td></tr><tr><td class = \"rowNumber\" style = \"font-weight: bold; text-align: right;\">11</td><td style = \"text-align: right;\">10.0</td><td style = \"text-align: right;\">280.161</td><td style = \"text-align: right;\">176.922</td><td style = \"text-align: right;\">1.07918e12</td><td style = \"text-align: right;\">1.07667</td><td style = \"text-align: right;\">1.00169</td></tr></tbody></table></div>"
      ],
      "text/latex": [
       "\\begin{tabular}{r|cccccc}\n",
       "\t& Iteration & Shamanskii\\_2 & Shamanskii\\_3 & Shamanskii\\_4 & Secante & Newton\\\\\n",
       "\t\\hline\n",
       "\t& Float64 & Float64 & Float64 & Float64 & Float64 & Float64\\\\\n",
       "\t\\hline\n",
       "\t1 & 0.0 & 101.0 & 101.0 & 101.0 & 101.0 & 101.0 \\\\\n",
       "\t2 & 1.0 & 14.5047 & 9.70037 & 7.07436 & 25.2519 & 25.5025 \\\\\n",
       "\t3 & 2.0 & 2.37234 & 1.30898 & 1.01155 & 11.4501 & 6.63583 \\\\\n",
       "\t4 & 3.0 & 1.07766 & 35.9154 & 1.83675e20 & 4.34522 & 1.95332 \\\\\n",
       "\t5 & 4.0 & 70.9376 & 3.67216 & 1.22518e19 & 1.94194 & 1.00057 \\\\\n",
       "\t6 & 5.0 & 10.2792 & 1.03427 & 8.17237e17 & 1.07666 & 437.924 \\\\\n",
       "\t7 & 6.0 & 1.7951 & 2.37731e6 & 5.45126e16 & 1.34369 & 109.731 \\\\\n",
       "\t8 & 7.0 & 1.46653 & 2.20696e5 & 3.63618e15 & 15.1147 & 27.6852 \\\\\n",
       "\t9 & 8.0 & 2.52322 & 20488.5 & 2.42546e14 & 2.02016 & 7.18066 \\\\\n",
       "\t10 & 9.0 & 1.04467 & 1902.36 & 1.61787e13 & 4.0466 & 2.08561 \\\\\n",
       "\t11 & 10.0 & 280.161 & 176.922 & 1.07918e12 & 1.07667 & 1.00169 \\\\\n",
       "\\end{tabular}\n"
      ],
      "text/plain": [
       "\u001b[1m11×6 DataFrame\u001b[0m\n",
       "\u001b[1m Row \u001b[0m│\u001b[1m Iteration \u001b[0m\u001b[1m Shamanskii_2 \u001b[0m\u001b[1m Shamanskii_3  \u001b[0m\u001b[1m Shamanskii_4 \u001b[0m\u001b[1m Secante   \u001b[0m\u001b[1m Newton\u001b[0m ⋯\n",
       "     │\u001b[90m Float64   \u001b[0m\u001b[90m Float64      \u001b[0m\u001b[90m Float64       \u001b[0m\u001b[90m Float64      \u001b[0m\u001b[90m Float64   \u001b[0m\u001b[90m Float6\u001b[0m ⋯\n",
       "─────┼──────────────────────────────────────────────────────────────────────────\n",
       "   1 │       0.0     101.0        101.0        101.0         101.0      101.0  ⋯\n",
       "   2 │       1.0      14.5047       9.70037      7.07436      25.2519    25.50\n",
       "   3 │       2.0       2.37234      1.30898      1.01155      11.4501     6.63\n",
       "   4 │       3.0       1.07766     35.9154       1.83675e20    4.34522    1.95\n",
       "   5 │       4.0      70.9376       3.67216      1.22518e19    1.94194    1.00 ⋯\n",
       "   6 │       5.0      10.2792       1.03427      8.17237e17    1.07666  437.92\n",
       "   7 │       6.0       1.7951       2.37731e6    5.45126e16    1.34369  109.73\n",
       "   8 │       7.0       1.46653      2.20696e5    3.63618e15   15.1147    27.68\n",
       "   9 │       8.0       2.52322  20488.5          2.42546e14    2.02016    7.18 ⋯\n",
       "  10 │       9.0       1.04467   1902.36         1.61787e13    4.0466     2.08\n",
       "  11 │      10.0     280.161      176.922        1.07918e12    1.07667    1.00\n",
       "\u001b[36m                                                                1 column omitted\u001b[0m"
      ]
     },
     "execution_count": 99,
     "metadata": {},
     "output_type": "execute_result"
    }
   ],
   "source": [
    "x0=10.0\n",
    "eps=1e-10\n",
    "del=1e-10\n",
    "N=10\n",
    "x51,X1,Y1=Shamanskii2(f5,f5p,x0,eps,del,2,N)\n",
    "x52,X2,Y2=Shamanskii2(f5,f5p,x0,eps,del,3,N)\n",
    "x53,X3,Y3=Shamanskii2(f5,f5p,x0,eps,del,4,N)\n",
    "x54,X4,Y4=secante(f5,x0,eps,del,N)\n",
    "x55,X5,Y5=minewton(f5,f5p,x0,eps,del,N)\n",
    "\n",
    "#Residuo de cada método para función x^2+1\n",
    "df = DataFrame(Iteration = X1, Shamanskii_2 = Y1,Shamanskii_3 = Y2,Shamanskii_4 = Y3,Secante=Y4,Newton=Y5)\n",
    "#=Ignorar valores que sea 0.0, ya que al implementar se inicializaron los vectores con ceros, por lo que luego de \n",
    "converger bajo los parametros deseados el resto de valores del vector residuo son cero por defecto =#"
   ]
  },
  {
   "cell_type": "code",
   "execution_count": 96,
   "id": "bcb8a992",
   "metadata": {
    "scrolled": true
   },
   "outputs": [
    {
     "data": {
      "text/html": [
       "<div><div style = \"float: left;\"><span>5×6 DataFrame</span></div><div style = \"clear: both;\"></div></div><div class = \"data-frame\" style = \"overflow-x: scroll;\"><table class = \"data-frame\" style = \"margin-bottom: 6px;\"><thead><tr class = \"header\"><th class = \"rowNumber\" style = \"font-weight: bold; text-align: right;\">Row</th><th style = \"text-align: left;\">Function</th><th style = \"text-align: left;\">Root_Shamanskii2</th><th style = \"text-align: left;\">Root_Shamanskii3</th><th style = \"text-align: left;\">Root_Shamanskii4</th><th style = \"text-align: left;\">Root_Secante</th><th style = \"text-align: left;\">Root_Newton</th></tr><tr class = \"subheader headerLastRow\"><th class = \"rowNumber\" style = \"font-weight: bold; text-align: right;\"></th><th title = \"String\" style = \"text-align: left;\">String</th><th title = \"Float64\" style = \"text-align: left;\">Float64</th><th title = \"Float64\" style = \"text-align: left;\">Float64</th><th title = \"Float64\" style = \"text-align: left;\">Float64</th><th title = \"Float64\" style = \"text-align: left;\">Float64</th><th title = \"Float64\" style = \"text-align: left;\">Float64</th></tr></thead><tbody><tr><td class = \"rowNumber\" style = \"font-weight: bold; text-align: right;\">1</td><td style = \"text-align: left;\">Cos(x)-x</td><td style = \"text-align: right;\">0.739085</td><td style = \"text-align: right;\">0.739085</td><td style = \"text-align: right;\">0.739085</td><td style = \"text-align: right;\">0.739085</td><td style = \"text-align: right;\">0.739085</td></tr><tr><td class = \"rowNumber\" style = \"font-weight: bold; text-align: right;\">2</td><td style = \"text-align: left;\">arctan(x)</td><td style = \"text-align: right;\">0.0</td><td style = \"text-align: right;\">-2.1202e-21</td><td style = \"text-align: right;\">5.50316e-38</td><td style = \"text-align: right;\">-3.23313e-11</td><td style = \"text-align: right;\">0.0</td></tr><tr><td class = \"rowNumber\" style = \"font-weight: bold; text-align: right;\">3</td><td style = \"text-align: left;\">sin(x)</td><td style = \"text-align: right;\">3.14159</td><td style = \"text-align: right;\">3.14159</td><td style = \"text-align: right;\">3.14159</td><td style = \"text-align: right;\">3.14159</td><td style = \"text-align: right;\">3.14159</td></tr><tr><td class = \"rowNumber\" style = \"font-weight: bold; text-align: right;\">4</td><td style = \"text-align: left;\">x^2</td><td style = \"text-align: right;\">0.00139046</td><td style = \"text-align: right;\">0.000400035</td><td style = \"text-align: right;\">0.000148394</td><td style = \"text-align: right;\">0.0237183</td><td style = \"text-align: right;\">0.0078125</td></tr><tr><td class = \"rowNumber\" style = \"font-weight: bold; text-align: right;\">5</td><td style = \"text-align: left;\">(x^2)+1</td><td style = \"text-align: right;\">16.7081</td><td style = \"text-align: right;\">-13.2636</td><td style = \"text-align: right;\">-1.03883e6</td><td style = \"text-align: right;\">-0.276886</td><td style = \"text-align: right;\">0.0410842</td></tr></tbody></table></div>"
      ],
      "text/latex": [
       "\\begin{tabular}{r|cccccc}\n",
       "\t& Function & Root\\_Shamanskii2 & Root\\_Shamanskii3 & Root\\_Shamanskii4 & Root\\_Secante & Root\\_Newton\\\\\n",
       "\t\\hline\n",
       "\t& String & Float64 & Float64 & Float64 & Float64 & Float64\\\\\n",
       "\t\\hline\n",
       "\t1 & Cos(x)-x & 0.739085 & 0.739085 & 0.739085 & 0.739085 & 0.739085 \\\\\n",
       "\t2 & arctan(x) & 0.0 & -2.1202e-21 & 5.50316e-38 & -3.23313e-11 & 0.0 \\\\\n",
       "\t3 & sin(x) & 3.14159 & 3.14159 & 3.14159 & 3.14159 & 3.14159 \\\\\n",
       "\t4 & x\\^2 & 0.00139046 & 0.000400035 & 0.000148394 & 0.0237183 & 0.0078125 \\\\\n",
       "\t5 & (x\\^2)+1 & 16.7081 & -13.2636 & -1.03883e6 & -0.276886 & 0.0410842 \\\\\n",
       "\\end{tabular}\n"
      ],
      "text/plain": [
       "\u001b[1m5×6 DataFrame\u001b[0m\n",
       "\u001b[1m Row \u001b[0m│\u001b[1m Function  \u001b[0m\u001b[1m Root_Shamanskii2 \u001b[0m\u001b[1m Root_Shamanskii3 \u001b[0m\u001b[1m Root_Shamanskii4 \u001b[0m\u001b[1m Root_S\u001b[0m ⋯\n",
       "     │\u001b[90m String    \u001b[0m\u001b[90m Float64          \u001b[0m\u001b[90m Float64          \u001b[0m\u001b[90m Float64          \u001b[0m\u001b[90m Float6\u001b[0m ⋯\n",
       "─────┼──────────────────────────────────────────────────────────────────────────\n",
       "   1 │ Cos(x)-x         0.739085         0.739085          0.739085      0.739 ⋯\n",
       "   2 │ arctan(x)        0.0             -2.1202e-21        5.50316e-38  -3.233\n",
       "   3 │ sin(x)           3.14159          3.14159           3.14159       3.141\n",
       "   4 │ x^2              0.00139046       0.000400035       0.000148394   0.023\n",
       "   5 │ (x^2)+1         16.7081         -13.2636           -1.03883e6    -0.276 ⋯\n",
       "\u001b[36m                                                               2 columns omitted\u001b[0m"
      ]
     },
     "execution_count": 96,
     "metadata": {},
     "output_type": "execute_result"
    }
   ],
   "source": [
    "#Raices\n",
    "df=DataFrame(Function=[\"Cos(x)-x\",\"arctan(x)\",\"sin(x)\",\"x^2\",\"(x^2)+1\"],Root_Shamanskii2=[x11,x21,x31,x41,x51],Root_Shamanskii3=[x12,x22,x32,x42,x52],Root_Shamanskii4=[x13,x23,x33,x43,x53],Root_Secante=[x14,x24,x34,x44,x54],Root_Newton=[x15,x25,x35,x45,x55])"
   ]
  },
  {
   "cell_type": "markdown",
   "id": "d4c7fe65",
   "metadata": {},
   "source": [
    "De las 5 primeras tablas, en las cuales se observa el residuo de cada método según la iteración, se pueden inferir ciertos comportamientos, el primero de ellos es que el método de la secante converge comparativamente más lento que los otros 2 métodos, especiamente para $cos(x)-x$ y $sin(x)$ es apreciable que este método puede tardar el doble de iteraciones que el método de Shamanskii para sus diversos ordenes.\n",
    "\n",
    "Asimismo, es apreciable que el método que converge comparativamente más rápido es el método de Shamanskii, especialmente el de orden 4, esto es notable especialmente para $x^2$ donde es evidente que el método de Shamanskii está convergiendo más rápido a mayor es el orden.\n",
    "\n",
    "También es importante notar como el método de Newton converge comparativamente más rápido que el de la secante, pero más lento que los de Shamanskii; lo cual es una evidencia de la importancia del cálculo de la derivada en un método numérico, se puede pensar que al aproximar la derivada (como en el método de la secante) se deben realizar más iteraciones para alcanzar un mejor resultado que usando la derivada explicitamente, y asimismo se observa como el algoritmo introducido por Shamanskii mejora el método de Newton, realizando una cantidad de cálculos superior según el orden pero computando la derivada una menor cantidad de vecez.\n",
    "\n",
    "Por último, en la tabla 6 se observa como para estos casos los métodos convergieron a la misma raíz (en caso de existir), aparantemene se obtienen buenos resultados para las funciones trigonométricas para todos los métodos, sin embargo para $x^2$ los restultados no son los mejores, siendo los mejores Shamanskii de ordenes 3 y 4 obteniendo 3 ceros después del punto decimal y el peor el de la secante con tan solo un cero, notese que los métodos que menos iteraciones hicieron fueron los que mejor exactitud tuvieron. Asimismo para $x^2+1$ que no tiene raices reales se puede ver como los métodos divergen y en la tabla 5 es observable como saltan de punto a punto sin acercarse a ningún resultado, lo cual es bueno ya que otorga una forma de controlar que se esten haciendo bien las cosas. "
   ]
  },
  {
   "cell_type": "markdown",
   "id": "d6c2b956",
   "metadata": {},
   "source": [
    "## Problema 3\n",
    " Considere un plano cuya pendiente varía con tasa constante $\\omega$ y un punto de masa quieto en el tiempo $t=0$. En el tiempo $t>0$ su posición es dada por\n",
    "$$s(t,\\omega)= \\frac{g}{2\\omega^2}\\Big[ \\sinh(\\omega t)-\\sin(\\omega t) \\Big] $$\n",
    "donde $g=9.8 \\frac{m}{s^2}$. Suponga que el objeto se ha movido 1 metro en un segundo, calcule el valor correspondiente de $\\omega$ con 12 decimales exactos. \n",
    "\n",
    "#### Solución\n",
    "\n",
    "Del problema, se tiene que:\n",
    "\n",
    "$$s(1,\\omega)= \\frac{g}{2\\omega^2}\\Big[ \\sinh(\\omega t)-\\sin(\\omega t) \\Big]=1 $$\n",
    "\n",
    "Es decir\n",
    "\n",
    "$$f(\\omega)=\\frac{g}{2\\omega^2}\\Big[ \\sinh(\\omega)-\\sin(\\omega) \\Big]-1=0 $$\n",
    "\n",
    "Al derivar se obtiene que\n",
    "\n",
    "$$ f'(\\omega)=\\frac{g}{2}\\frac{\\omega(\\cosh(\\omega)-\\cos(\\omega))-2(\\sinh(\\omega)-\\sin(\\omega))}{\\omega^3}$$\n",
    "\n",
    "Al resolver usando el método de Shamanskii de orden 4 implementado anteriormente, con $\\omega_0=0.5$, con el fin de evitar pérdida significativa de bits en la resta $\\sinh(\\omega)-\\sin(\\omega)$"
   ]
  },
  {
   "cell_type": "code",
   "execution_count": 148,
   "id": "83f31461",
   "metadata": {},
   "outputs": [
    {
     "name": "stdout",
     "output_type": "stream",
     "text": [
      "residuo f(x(1,4))=-2.55351295663786e-15\n"
     ]
    },
    {
     "data": {
      "text/plain": [
       "0.6121425707030923"
      ]
     },
     "execution_count": 148,
     "metadata": {},
     "output_type": "execute_result"
    }
   ],
   "source": [
    "function f_3(x)\n",
    "    return (9.8/(2*x^2))*(sinh(x)-sin(x))-1\n",
    "end\n",
    "function fp_3(x)\n",
    "    return (9.8/2)*(x*(cosh(x)-cos(x))-2*(sinh(x)-sin(x)))/(x^3)\n",
    "end\n",
    "Shamanskii(f_3,fp_3,0.5,1e-12,1e-12,4,15)"
   ]
  },
  {
   "cell_type": "markdown",
   "id": "95072107",
   "metadata": {},
   "source": [
    "Para evitar la pérdida significativa de bits también se pudo haber usado la expansión en serie de Taylor del $\\sinh(\\omega)$ y $\\sin(\\omega)$, del cual se obtiene que\n",
    "$$ f(\\omega)=g\\sum_{n=0}^{\\infty}\\frac{x^{4n+1}}{(4n+3)!} \\text{,}$$\n",
    "y al derivar esta última expresión\n",
    "$$ f'(\\omega)=g\\sum_{n=0}^{\\infty}\\frac{(4n+1)x^{4n}}{(4n+3)!} \\text{,}$$\n",
    "al realizar el truncamiento para calcular estas funciones con errores menores a $10^-12$ se obtienen que\n",
    "$$|f(\\omega)-P(\\omega)| < 10^{-12} \\text{,}$$\n",
    "es decir\n",
    "$$\\Big|\\frac{g\\xi^{4n+1}}{(4n+3)!} \\Big| < 10^{-12} \\text{,}$$\n",
    "se puede considerar que $|\\xi|<1$, por lo que al resolver\n",
    "$$\\Big|\\frac{g}{(4n+3)!} \\Big| < 10^{-12} \\text{,}$$\n",
    "se obtiene un resultado de $n=4$.\n",
    "Al realizar el proceso análogo a la derivada también se obtuvo $n=4$.\n",
    "Por lo que al implementar en el código estas funciones, utilizando el esquema de Horner, se obtiene el siguiente resultado."
   ]
  },
  {
   "cell_type": "code",
   "execution_count": 147,
   "id": "05e4cd6a",
   "metadata": {},
   "outputs": [
    {
     "name": "stdout",
     "output_type": "stream",
     "text": [
      "residuo f(x(1,4))=-3.885780586188048e-15\n"
     ]
    },
    {
     "data": {
      "text/plain": [
       "0.612142570703092"
      ]
     },
     "execution_count": 147,
     "metadata": {},
     "output_type": "execute_result"
    }
   ],
   "source": [
    "function h(x)\n",
    "    return 9.8*((x/6)*(1+(x^4/(4*5*6*7))*(1+(x^4/(8*9*10*11))*(1+(x^4/(12*13*14*15))*(1+(x^4/(16*17*18*19)))))))-1\n",
    "end\n",
    "function hp(x)\n",
    "    return 9.8*((1/6)+(x^4/(2*3*4*5*6*7))*(5+(x^4/(8*9*10*11))*(9+(x^4/(12*13*14*15))*(13+(x^4/(12*18*19))))))\n",
    "end\n",
    "Shamanskii(h,hp,0.5,1e-12,1e-12,4,15)"
   ]
  },
  {
   "cell_type": "code",
   "execution_count": 149,
   "id": "32e134a3",
   "metadata": {},
   "outputs": [],
   "source": [
    "using Roots"
   ]
  },
  {
   "cell_type": "code",
   "execution_count": 150,
   "id": "292f435b",
   "metadata": {},
   "outputs": [
    {
     "data": {
      "text/plain": [
       "0.6121425707030941"
      ]
     },
     "execution_count": 150,
     "metadata": {},
     "output_type": "execute_result"
    }
   ],
   "source": [
    "find_zero(f_3,(0.5,0.7))"
   ]
  },
  {
   "cell_type": "markdown",
   "id": "4d86ce08",
   "metadata": {},
   "source": [
    "Del problema planteado se obtuvieron 3 resultados, 2 a través del método de Shamanskii, el primero usando la función explicitamente como fue dada en el problema, el segundo usando la expansión en serie de Taylor de la función seno y seno hipérbolica y aplicando el sequema de Horner, y la tercera a través de la libreria Roots. Se puede ver que los valores de los 3 casos difieren hasta llegado el décimo tercer (13) digito después del punto décimal. Se puede notar que la pérdida significativa de bits no parece haber afectado el primer caso, probablemente débido a que el valor inicial está lo suficientemente lejano del cero para tener este problema."
   ]
  },
  {
   "cell_type": "markdown",
   "id": "9d017489",
   "metadata": {},
   "source": [
    "## Problema 4\n",
    "La longitud maxima de una varilla que se puede arrastrar de un extremo a otro deslizandola por un pasillo como el de la fiugra es \n",
    "$$L=\\frac{l_2}{\\sin(\\pi-\\gamma-\\alpha)}+\\frac{l_1}{\\sin(\\alpha)}$$\n",
    "donde $\\alpha$ es la solución de la ecuación\n",
    "$$ l_2 \\frac{\\cos(\\pi-\\gamma-\\alpha)}{\\sin^2(\\pi-\\gamma-\\alpha)}-l_1\\frac{\\cos(\\alpha)}{\\sin^2(\\alpha)}=0.$$\n",
    "Calcule $\\alpha$ cuando $l_2=10$, $l_1=8$ y $\\gamma=\\frac{3\\pi}{5}$. ¿Cuántos decimales puede garantizar para $\\alpha$ y $L$?\n",
    "\n",
    "### Solución\n",
    "\n",
    "Al reemplazar los valores dados en la ecuación se obtiene que\n",
    "$$  10 \\frac{\\cos\\Big(\\frac{2\\pi}{5}-\\alpha\\Big)}{\\sin^2\\Big(\\frac{2\\pi}{5}-\\alpha\\Big)}-8\\frac{\\cos(\\alpha)}{\\sin^2(\\alpha)}=0. $$\n",
    "\n",
    "Al implementarlo en el método de Shamanskii de orden 4"
   ]
  },
  {
   "cell_type": "code",
   "execution_count": 161,
   "id": "62341b9b",
   "metadata": {},
   "outputs": [
    {
     "data": {
      "text/plain": [
       "gp (generic function with 1 method)"
      ]
     },
     "execution_count": 161,
     "metadata": {},
     "output_type": "execute_result"
    }
   ],
   "source": [
    "function g(x)\n",
    "    return 10*(cos((2*pi/5)-x)/(sin((2*pi/5)-x))^2)-8*(cos(x)/(sin(x))^2)\n",
    "end\n",
    "function gp_aux(x)\n",
    "    return 10*(csc((2*pi/5)-x)^4)*(sin((2*pi/5)-x)^3+sin(2((2*pi/5)-x))*cos((2*pi/5)-x))\n",
    "end\n",
    "function gp_aux2(x)\n",
    "    return -8*(csc(x)^4)*(sin(x)^3+sin(2x)*cos(x))\n",
    "end\n",
    "function gp(x)\n",
    "    return gp_aux(x)-gp_aux2(x)\n",
    "end"
   ]
  },
  {
   "cell_type": "code",
   "execution_count": 164,
   "id": "390cb52f",
   "metadata": {},
   "outputs": [
    {
     "name": "stdout",
     "output_type": "stream",
     "text": [
      "residuo f(x(2,4))=1.0658141036401503e-14\n"
     ]
    },
    {
     "data": {
      "text/plain": [
       "0.5962799274654735"
      ]
     },
     "execution_count": 164,
     "metadata": {},
     "output_type": "execute_result"
    }
   ],
   "source": [
    "Shamanskii(g,gp,0.5,1e-12,1e-12,4,15)"
   ]
  },
  {
   "cell_type": "markdown",
   "id": "e5515124",
   "metadata": {},
   "source": [
    "Por lo que concluimos que $\\alpha=0.5962799274654735$."
   ]
  },
  {
   "cell_type": "markdown",
   "id": "23b75165",
   "metadata": {},
   "source": [
    "## Problema 5 \n",
    "Seleccione alguno de los métodos implementados en julia para resolver ecuaciones o sistemas de ecuaciones. Describa el método implementado con el mayor detalle posible. \n",
    "\n",
    "Si usa Python selecciones dos de los métodos en https://docs.scipy.org/doc/scipy-0.13.0/reference/optimize.html en la sección Root finding, diga cual es el método numerico implementado (e.g, similar a newton, usa derivadas, no usa derivadas, combina varios métodos, llama alguna otra subrutina conocida encontrada en netlib, cuales son las toleracias por defecto, etc)  y para cada uno de los métodos seleccionados implementar un ejemplo numérico con una ecuación escalar o una ecuación vectorial según sea el caso. Imprima la solución calculada asi como alguna informacion adicional (residuo, cantidad de iteraciones, etc). \n",
    "\n",
    "### Solución\n",
    "\n",
    "Consideremos los métodos implemetados dentreo de *fzero* en Julia. \n",
    "\n",
    "Para *fzero* el método númerico depende del orden de convergencia deseado, por defecto se selecciona el orden 1, implementado a través del método de bisección, el orden 1 usa el método de la secante, el método de orden 2 usa el método de Steffensen; en general usa métodos que no depende de la derivada de la función, como los mencionados antes, a parte de esos también existen métodos de orden 5, 8 y 16 libres del uso de derivadas. Por default la tolerancia es la misma que la precisión de máquina.\n",
    "\n",
    "El orden 5 usa el algoritmo mencionado en \"A New Fifth Order Derivative Free Newton-Type Method for Solving Nonlinear\n",
    "Equations\" de Manoj Kumar, el cual realiza 4 llamadas de la función por paso, el método se define como \n",
    "$$ y_n=x_n-\\frac{f(x_n)}{f[w_n,x_n]} \\text{,}$$  \n",
    "$$ z_{n+1}=x_n-\\frac{f(x_n+f(y_n))}{f[w_n,x_n]} \\text{,}$$  \n",
    "$$ x_{n+1}=z_{n+1}-\\frac{f(z_n+1)\\cdot f[w_n,x_n]}{f[x_n,y_n]f[w_n,y_n]} \\text{,}$$  \n",
    "donde $f[x_n,w_n]=\\frac{f(w_n)-f(x_n)}{f(x_n)}$ y $w_n=x_n+f(x_n)$\n",
    "\n",
    "Para el orden 8 usa el método de Thukral mostrado en \"New Eighth-Order Derivative-Free Methods for Solving Nonlinear Equations\" por Rajinder Thukral, el método se define como\n",
    "\n",
    "$$ w_n=x_n+\\beta_i^{-1}f(x_n) \\text{,}$$\n",
    "$$ y_n=x_n-\\frac{f(x_n)^2}{f(w_n)-f(x_n)} \\text{,}$$\n",
    "$$ z_{n}=y_n-\\phi_j \\Big(\\frac{x_n-y_n}{f(x_n)-f(y_n)} \\Big)f(y_n) \\text{,}$$\n",
    "$$ x_{n+1}=z_{n}-\\omega_{k}\\xi_l\\Big(\\frac{f(z_n)-f(y_n)}{z_n-y_n}-\\frac{f(y_n)-f(x_n)}{y_n-x_n}+\\frac{f(z_n)-f(x_n)}{z_n-x_n} \\Big)^{-1}f(z_n) \\text{,}$$\n",
    "si $i\\in\\mathbb{R^{+}}$, los parámetros $\\beta_i$,$\\phi_j$,$\\xi_l$ y $\\omega_k$ están dados por\n",
    "$$\\beta_{i}=i^{-1} \\text{,}$$\n",
    "$$\\phi_1=\\Big(1-\\frac{f(y_n)}{f(w_n)} \\Big)^{-1} \\text{ , }\\phi_2=\\Big(1+\\frac{f(y_n)}{f(w_n)} \\Big) \\text{,}$$\n",
    "$$\\omega_1=\\Big(1-\\frac{f(z_n)}{f(w_n)} \\Big)^{-1} \\text{ , }\\omega_2=\\Big(1+\\frac{f(z_n)}{f(w_n)}+\\Big(\\frac{f(z_n)}{f(w_n)} \\Big)^2 \\Big) \\text{,}$$\n",
    "$$\\xi_1=\\Big(1-\\frac{2 f(y_n)^3}{f(w_n)^2 f(x_n)} \\Big)^{-1} \\text{ , }\\xi_2=\\Big(1+\\frac{2 f(y_n)^3}{f(w_n)^2 f(x_n)} \\Big)^{-1} \\text{.}$$\n",
    "El artículo que comenta este método menciona que a partir de variaciones de los parámetros antes colocados se pueden generar múltiples métdoos de octavo orden, sin embargo, al revisar la documentación de la libreria Roots es sabido que el método usado corresponde a uno de aquellos, mas no es clara la escogencia de estos parámetros.\n",
    "\n",
    "Ahora veamos una implementació de estos métodos"
   ]
  },
  {
   "cell_type": "code",
   "execution_count": 167,
   "id": "8b4cd2bb",
   "metadata": {},
   "outputs": [
    {
     "data": {
      "text/plain": [
       "U (generic function with 1 method)"
      ]
     },
     "execution_count": 167,
     "metadata": {},
     "output_type": "execute_result"
    }
   ],
   "source": [
    "function U(x)\n",
    "    return asin(x^2-1)-x/2+1\n",
    "end"
   ]
  },
  {
   "cell_type": "code",
   "execution_count": 184,
   "id": "a85b1d25",
   "metadata": {},
   "outputs": [
    {
     "name": "stdout",
     "output_type": "stream",
     "text": [
      "Raices \n",
      "Orden 0: 0.5948109683983691\n",
      "Orden 1: 0.5948109683983692\n",
      "Orden 2: 0.5948109683983691\n",
      "Orden 5: 0.5948109683983689\n",
      "Orden 8: 0.5948109683983692\n",
      "Orden 16: 0.5948109683983692\n",
      "Residuos \n",
      "Orden 0: 0.0\n",
      "Orden 1: 0.0\n",
      "Orden 2: 0.0\n",
      "Orden 5: -4.440892098500626e-16\n",
      "Orden 8: 0.0\n",
      "Orden 16: 0.0\n"
     ]
    }
   ],
   "source": [
    "print(\"Raices \\n\")\n",
    "print(\"Orden 0: \",fzero(U,0.1,order=0),\"\\n\",\"Orden 1: \",fzero(U,0.1,order=1),\"\\n\")\n",
    "print(\"Orden 2: \",fzero(U,0.1,order=2),\"\\n\",\"Orden 5: \",fzero(U,0.1,order=5),\"\\n\")\n",
    "print(\"Orden 8: \",fzero(U,0.1,order=8),\"\\n\",\"Orden 16: \",fzero(U,0.1,order=16),\"\\n\")\n",
    "\n",
    "print(\"Residuos \\n\")\n",
    "print(\"Orden 0: \",U(fzero(U,0.1,order=0)),\"\\n\",\"Orden 1: \",U(fzero(U,0.1,order=1)),\"\\n\")\n",
    "print(\"Orden 2: \",U(fzero(U,0.1,order=2)),\"\\n\",\"Orden 5: \",U(fzero(U,0.1,order=5)),\"\\n\")\n",
    "print(\"Orden 8: \",U(fzero(U,0.1,order=8)),\"\\n\",\"Orden 16: \",U(fzero(U,0.1,order=16)),\"\\n\")"
   ]
  },
  {
   "cell_type": "markdown",
   "id": "82c45992",
   "metadata": {},
   "source": [
    "De los 2 métodos vistos se puede observar que aparecen expresiones similares a la de Newton, esto es débido a que como lo mencionan sus respectivos artículos se parte de una base común que es la expresión de Newton y a partir de esta se pueden realizar diversas manipulaciones, definir nuevos parámetros y variables, aproximar la derivada, con el fin de obener un resultado preciso pero sin calcular la derivada.\n",
    "\n",
    "Asimismo, se puede observar que las raices de la función trascendental calculadas coinciden hasta el décimo cuarto (14) digito decimal, por ello mismo los residuos pueden diferir, y aunque analíticamente seguramente lo hagan al calcularlos computacionalmente son más pequeños que la precisión de máquina, por lo que los vemos como un cero. Aún así, es notable que el orden 5 queda con un residuo del orden de $10^{-16}$, haciendo más explicita esta diferencia comentada previamente. "
   ]
  },
  {
   "cell_type": "markdown",
   "id": "7c7b0683",
   "metadata": {},
   "source": [
    "#### Fuentes\n",
    " A New Fifth Order Derivative Free Newton-Type Method for Solving Nonlinear\n",
    "  Equations by Manoj Kumar, Akhilesh Kumar Singh, and Akanksha, Appl. Math. Inf. Sci. 9, No. 3, 1507-1513 (2015), DOI:\n",
    "  10.12785/amis/090346 (https://doi.org/10.12785/amis/090346).\n",
    "  \n",
    " New Eighth-Order Derivative-Free Methods for Solving Nonlinear Equations\n",
    "  by Rajinder Thukral, International Journal of Mathematics and Mathematical Sciences Volume 2012 (2012), Article ID\n",
    "  493456, 12 pages DOI: 10.1155/2012/493456 (https://doi.org/10.1155/2012/493456).\n",
    "  \n",
    " https://github.com/JuliaMath/Roots.jl"
   ]
  }
 ],
 "metadata": {
  "kernelspec": {
   "display_name": "Julia 1.8.2",
   "language": "julia",
   "name": "julia-1.8"
  },
  "language_info": {
   "file_extension": ".jl",
   "mimetype": "application/julia",
   "name": "julia",
   "version": "1.8.2"
  }
 },
 "nbformat": 4,
 "nbformat_minor": 5
}
