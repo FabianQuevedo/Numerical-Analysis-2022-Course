{
 "cells": [
  {
   "cell_type": "code",
   "execution_count": 1,
   "id": "a1b07ee1",
   "metadata": {},
   "outputs": [],
   "source": [
    "using LinearAlgebra\n",
    "using LinearSolve\n",
    "using SpecialMatrices\n",
    "using Plots\n",
    "using MAT"
   ]
  },
  {
   "cell_type": "markdown",
   "id": "b9856bad",
   "metadata": {},
   "source": [
    "## Problema 1\n",
    "\n",
    "Considere la matriz de segundas diferencias $A$ definida por \n",
    "$$a_{ij}=\\left\\{\\begin{array}{cl}\n",
    "-2, & i=j,\\\\\n",
    "1, & |j-i|=1,\\\\\n",
    "0, & |j-i|>1.\n",
    "\\end{array} \\right.$$\n",
    "Considere tambien la matriz de Frank de dimension $n\\times n$, \n",
    "$$\n",
    "A=\\left(\\begin{array}{cccccccccc}\n",
    "n & n-1 & n-2 & n-3 & n-4& \\dots 1\\\\\n",
    "n-1 & n-1 &n-2 &n-3 & n-4 &\\dots 1\\\\\n",
    "0 & n-2 & n-2 & n-3 & n-4 & \\dots 1\\\\\n",
    "0&0&n-3 &n-3 & n-4&\\dots 1 \\\\\n",
    "\\vdots& \\ddots&\\ddots &\\ddots &\\ddots &\\dots\n",
    "\\end{array}\\right)\n",
    "$$\n",
    "\n",
    "Note que en la diagonal principal, es decir, la diagonal 0 tenemos los números $n,n-1,\\dots,1$, en la diagonal $1$ y $-1$ tenemos $n-1,n-2,\\dots,1$. En la diagonal $k>1$ tenemos $n-k,n-k-1,\\dots,1$ y en la diagonal $-k$ con $k>1$ tenemos entradas nulas. Esta matriz es un ejemplo de matriz de Hessenberg. \n",
    "\n",
    "\n",
    "\n",
    "1.   Que propiedades puede listar de las matrices de segundas diferencias y de Frank\n",
    "2.   Investigue como medir el tiempo de ejecución de un comando en python o MatLab y \n",
    "calcule el tiempo de resolver un sistema  $Ax=b$ con $A$ una matriz de \n",
    " segundas diferencias de segundo orden de dimension $n=2,4,8,1,32,64,128,\\dots$. Tome  $b=(1,1,\\dots,1)^T.$\n",
    "3. Repita con la matriz de Frank.\n",
    "4. Repita con la matriz de Hilbert.\n",
    "\n",
    "### Solución\n",
    "\n",
    "\n",
    "**1.** Respecto a la matriz de segundas diferencias, se puede escribir dada su definición como \n",
    "\n",
    "$$\n",
    "A=\\left(\\begin{array}{cccccccccc}\n",
    "-2 & 1 & 0 & 0 & 0 & \\dots \\\\\n",
    "1 & -2 & 1 & 0 & 0 &\\dots \\\\\n",
    "0 & 1 & -2 & 1 & 0 & \\dots\\\\\n",
    "0&0& 1 & -2 & 1&\\dots  \\\\\n",
    "\\vdots& \\ddots&\\ddots &\\ddots &\\ddots &\\dots\n",
    "\\end{array}\\right),\n",
    "$$\n",
    "\n",
    "y se puede notar que es diagonal dominante (no estrictamente) ya que $|a_{ii}|\\geq \\sum_{j\\neq i}|a_{ij}|$, segundo, se puede notar que es definida negativa, para ver esto usando un teorema visto en clase \"*Si* $A$ *es definida positiva y* $B$ *tiene rango completo entonces* $B^{T}AB$ *es positiva definida.*\" (Lineales 1, pg 20) se define la matriz de rango completo $B$ \n",
    "\n",
    "$$\n",
    "B=\\left(\\begin{array}{cccccccccc}\n",
    "1 & 0& 0 & 0 & 0 & \\dots \\\\\n",
    "-1 & 1 & 0 & 0 & 0 &\\dots \\\\\n",
    "0 & -1 & 1 &0 & 0 & \\dots\\\\\n",
    "0 & 0 & -1 & 1 & 0&\\dots  \\\\\n",
    "\\vdots& \\ddots&\\ddots &\\ddots &\\ddots &\\dots\n",
    "\\end{array}\\right),\n",
    "$$\n",
    "\n",
    "esta es de rango completo ya que como se puede ver sus filas son linealmente independientes, luego notese que $-A=B^{T}B=B^{T}IB$, y dado que la matriz identidad es definida positiva entonces $-A$ es definida positiva, es decir para $x\\neq0$ $x^{t}(-A){x}=-x^{t}A{x}>0$, lo que implica que $x^{t}A{x}<0$, es decir $A$ es definida negativa. Adicinoalmente a la segunda fila de $A$ se le aplica la operación $R_{2}\\to \\frac{1}{2}(2R_{2}+R_{1})$, y con ese resultado a la tercer fila se le aplica $R_{3}\\to \\frac{2}{3}(\\frac{3}{2}R_{3}+R_{2})$, y a su vez con este a la cuarta fila $R_{4}\\to \\frac{3}{4}(\\frac{4}{3}R_{4}+R_{3})$, es decir si en general de forma sucesiva se realiza la operación entre filas $R_{i+1}\\to \\frac{i}{i+1}(\\frac{i+1}{n}R_{i+1}+R_{i})$ se obtendra al final una reducción de la forma\n",
    "$$\n",
    "A=\\left(\\begin{array}{cccccccccc}\n",
    "-2 & 1 &0 & 0 & 0& \\dots \\\\\n",
    "0 & -3/2 &1 &0 & 0 &\\dots \\\\\n",
    "0 & 0 & -4/3 & 1 & 0 & \\dots \\\\\n",
    "0&0&0 &-5/4 & 1&\\dots  \\\\\n",
    "\\vdots& \\ddots&\\ddots &\\ddots &\\ddots &\\dots \\\\\n",
    "\\dots& \\dots&\\dots &\\dots &\\dots &-6/5\n",
    "\\end{array}\\right),\n",
    "$$\n",
    "\n",
    "y de aquí se puede notar que al ser una matriz triangular superior el determinante sera el producto de la diagonal, es decir $det(A)=(-1)^{n}(n+1)$.\n",
    "\n",
    "Ahora, para la matriz de Frank si se hace una operación entre filas de la forma $R_{2}\\to R_{2}-\\frac{n-1}{n}R_{1}$ y $R_{i}\\to R_{i}-\\frac{(n-i+3)(n-i+1)}{n-i+2}R_{i-1}$ para $3\\leq i \\leq n$ se obtiene una reducción de la forma\n",
    "\n",
    "$$\n",
    "A=\\left(\\begin{array}{cccccccccc}\n",
    "n & n-1 & n-2 & n-3 & n-4& \\dots 1\\\\\n",
    "0 & n-1/n &n-2/n &n-3/n & n-4/n &\\dots 1/n\\\\\n",
    "0 & 0 & n-2/n-1 & n-3/n-1 & n-4/n-1 & \\dots 1/n-1\\\\\n",
    "0&0&0 &n-3/n-2 & n-4/n-2&\\dots 1/n-2 \\\\\n",
    "\\vdots& \\ddots&\\ddots &\\ddots &\\ddots &\\dots\n",
    "\\end{array}\\right)\n",
    "$$\n",
    "\n",
    "Al tenerla como matriz triangular su determinante será el producto de la diagonal, es decir $det(A)=n\\cdot\\frac{n-1}{n}\\frac{n-2}{n-1}\\frac{n-3}{n-2}\\dots\\frac{2}{3}\\frac{1}{2}\\cdot1=1$, es decir el determinante de una matriz de Frank siempre será 1."
   ]
  },
  {
   "cell_type": "markdown",
   "id": "43745be9",
   "metadata": {},
   "source": [
    "**2.** Usando el siguiente código\n",
    "\n"
   ]
  },
  {
   "cell_type": "code",
   "execution_count": 2,
   "id": "1ca6a8fc",
   "metadata": {},
   "outputs": [
    {
     "data": {
      "text/plain": [
       "SecDif (generic function with 1 method)"
      ]
     },
     "execution_count": 2,
     "metadata": {},
     "output_type": "execute_result"
    }
   ],
   "source": [
    "#Segundas diferencias\n",
    "function SecDif(n)\n",
    "#Llenado matriz de segundas diferencias\n",
    "A=zeros(n,n)\n",
    "for i=1:n\n",
    "    for j=1:n\n",
    "       if i==j\n",
    "            A[i,j]=-2\n",
    "       elseif abs(i-j)==1\n",
    "            A[i,j]=1\n",
    "       else\n",
    "            A[i,j]=0\n",
    "       end\n",
    "        j=j+1\n",
    "    end\n",
    "    i=i+1\n",
    "end\n",
    "#definicion de b\n",
    "b=ones(n)\n",
    "#solve\n",
    "@time begin\n",
    "prob = LinearProblem(A, b)\n",
    "linsolve = init(prob)\n",
    "sol1 = solve(linsolve)\n",
    "end\n",
    "    return nothing\n",
    "end"
   ]
  },
  {
   "cell_type": "markdown",
   "id": "e5d709b4",
   "metadata": {},
   "source": [
    "El tiempo de ejecución para resolver el sistema con la matriz de segundas diferencias de tamaños $n=2,4,8,16,32,64,128,256,512$ y $1024$ con el paquete *LinearSolve* respectivamente es"
   ]
  },
  {
   "cell_type": "code",
   "execution_count": 5,
   "id": "b76c5be2",
   "metadata": {},
   "outputs": [
    {
     "name": "stdout",
     "output_type": "stream",
     "text": [
      "  0.000032 seconds (18 allocations: 1.516 KiB)\n",
      "  0.000025 seconds (18 allocations: 1.656 KiB)\n",
      "  0.000053 seconds (18 allocations: 2.125 KiB)\n",
      "  0.000039 seconds (20 allocations: 4.016 KiB)\n",
      "  0.000045 seconds (20 allocations: 10.438 KiB)\n",
      "  0.000188 seconds (23 allocations: 35.141 KiB)\n",
      "  0.000375 seconds (23 allocations: 132.641 KiB)\n",
      "  0.002039 seconds (23 allocations: 519.828 KiB)\n",
      "  0.013213 seconds (21 allocations: 2.013 MiB)\n",
      "  0.050966 seconds (21 allocations: 8.025 MiB)\n"
     ]
    }
   ],
   "source": [
    "SecDif(2);SecDif(4);SecDif(8);SecDif(16);SecDif(32);SecDif(64);SecDif(128);SecDif(256);SecDif(512);SecDif(1024)"
   ]
  },
  {
   "cell_type": "markdown",
   "id": "3663cfff",
   "metadata": {},
   "source": [
    "**3.** Para la matriz de Frank se implamenta el siguiente código"
   ]
  },
  {
   "cell_type": "code",
   "execution_count": 6,
   "id": "f64da06b",
   "metadata": {},
   "outputs": [
    {
     "data": {
      "text/plain": [
       "frank (generic function with 4 methods)"
      ]
     },
     "execution_count": 6,
     "metadata": {},
     "output_type": "execute_result"
    }
   ],
   "source": [
    "#FrankMatrix Definition\n",
    "function frank(::Type{T}, n::Integer, k::Integer) where T\n",
    "    # Compute the frank matrix\n",
    "    # type: data type\n",
    "    # n: the dimension of the matrix\n",
    "    # k = 0 or 1: k = 1 reflect about the anti-diagonal\n",
    "    p = T[n:-1:1;];\n",
    "    F = triu(ones(T, n, 1)*p') + diagm(-1 => p[2:n]);\n",
    "    k == 0 ?  F :\n",
    "    k == 1 ?  F[n:-1:1,n:-1:1]' : error(\"k = 0 or 1, but get \", k)\n",
    "end\n",
    "frank(::Type{T}, n::Integer) where T = frank(T, n, 0)\n",
    "frank(args...) = frank(Float64, args...)\n",
    "frank(::Type, args...) = throw(MethodError(frank, Tuple(args)))\n",
    "\n",
    "#Metodo extraido del paquete MatrixDepot, no se usa el paquete directamente ya que en Julia 1.4 no funciona actualment\n",
    "#https://github.com/JuliaLinearAlgebra/MatrixDepot.jl/blob/master/src/higham.jl"
   ]
  },
  {
   "cell_type": "code",
   "execution_count": 7,
   "id": "13f62da6",
   "metadata": {},
   "outputs": [
    {
     "data": {
      "text/plain": [
       "FrankTime (generic function with 1 method)"
      ]
     },
     "execution_count": 7,
     "metadata": {},
     "output_type": "execute_result"
    }
   ],
   "source": [
    "#FrankTime\n",
    "function FrankTime(n)\n",
    "    A=frank(n,0)\n",
    "    #definicion de b\n",
    "    b=ones(n)\n",
    "    #solve\n",
    "    @time begin\n",
    "    prob = LinearProblem(A, b)\n",
    "    linsolve = init(prob)\n",
    "    sol1 = solve(linsolve)\n",
    "    end\n",
    "    return nothing\n",
    "end"
   ]
  },
  {
   "cell_type": "markdown",
   "id": "5e18f928",
   "metadata": {},
   "source": [
    "El tiempo de ejecución para resolver el sistema con la matriz de Frank de tamaños $n=2,4,8,16,32,64,128,256,512$ y $1024$ con el paquete *LinearSolve* respectivamente es"
   ]
  },
  {
   "cell_type": "code",
   "execution_count": 8,
   "id": "48696de8",
   "metadata": {},
   "outputs": [
    {
     "name": "stdout",
     "output_type": "stream",
     "text": [
      "  0.000034 seconds (19 allocations: 1.547 KiB)\n",
      "  0.000019 seconds (19 allocations: 1.688 KiB)\n",
      "  0.000013 seconds (19 allocations: 2.156 KiB)\n",
      "  0.000022 seconds (21 allocations: 4.047 KiB)\n",
      "  0.000027 seconds (21 allocations: 10.469 KiB)\n",
      "  0.000054 seconds (24 allocations: 35.172 KiB)\n",
      "  0.000252 seconds (24 allocations: 132.672 KiB)\n",
      "  0.002142 seconds (24 allocations: 519.859 KiB)\n",
      "  0.009358 seconds (22 allocations: 2.013 MiB)\n",
      "  0.048063 seconds (22 allocations: 8.025 MiB)\n"
     ]
    }
   ],
   "source": [
    "FrankTime(2);FrankTime(4);FrankTime(8);FrankTime(16);FrankTime(32);FrankTime(64);FrankTime(128);FrankTime(256);FrankTime(512);FrankTime(1024)"
   ]
  },
  {
   "cell_type": "markdown",
   "id": "1bc3b040",
   "metadata": {},
   "source": [
    "**4.** Para la matriz de Hilbert se implamenta el siguiente código"
   ]
  },
  {
   "cell_type": "code",
   "execution_count": 9,
   "id": "fc22ffdb",
   "metadata": {},
   "outputs": [
    {
     "data": {
      "text/plain": [
       "Hilb (generic function with 1 method)"
      ]
     },
     "execution_count": 9,
     "metadata": {},
     "output_type": "execute_result"
    }
   ],
   "source": [
    "#Hilbert\n",
    "function Hilb(n)\n",
    "    A=Hilbert{Float64}(n,n)\n",
    "    b=ones(n)\n",
    "#solve\n",
    "@time begin\n",
    "prob = LinearProblem(A, b)\n",
    "linsolve = init(prob)\n",
    "sol1 = solve(linsolve)\n",
    "end\n",
    "    return nothing\n",
    "end"
   ]
  },
  {
   "cell_type": "markdown",
   "id": "9bba9906",
   "metadata": {},
   "source": [
    "El tiempo de ejecución para resolver el sistema con la matriz de Hilbert de tamaños $n=2,4,8,16,32,64,128,256,512$ y $1024$ con el paquete *LinearSolve* respectivamente es"
   ]
  },
  {
   "cell_type": "code",
   "execution_count": 10,
   "id": "e2c77b27",
   "metadata": {},
   "outputs": [
    {
     "name": "stdout",
     "output_type": "stream",
     "text": [
      "  3.743998 seconds (4.67 M allocations: 235.340 MiB, 2.38% gc time, 99.94% compilation time)\n",
      "  0.000047 seconds (52 allocations: 4.234 KiB)\n",
      "  0.000034 seconds (61 allocations: 6.688 KiB)\n",
      "  0.000156 seconds (77 allocations: 13.125 KiB)\n",
      "  0.000286 seconds (85 allocations: 22.594 KiB)\n",
      "  0.001067 seconds (85 allocations: 33.375 KiB)\n",
      "  0.002201 seconds (85 allocations: 56.375 KiB)\n",
      "  0.009789 seconds (85 allocations: 105.250 KiB)\n",
      "  0.050692 seconds (132 allocations: 210.828 KiB)\n",
      "  0.207962 seconds (134 allocations: 415.078 KiB)\n"
     ]
    }
   ],
   "source": [
    "Hilb(2);Hilb(4);Hilb(8);Hilb(16);Hilb(32);Hilb(64);Hilb(128);Hilb(256);Hilb(512);Hilb(1024)"
   ]
  },
  {
   "cell_type": "markdown",
   "id": "5c626880",
   "metadata": {},
   "source": [
    "Al realizar el mismo procedimiento con las 3 matrices es posible ver como el tiempo de ejecución para ninguna de ellas supera los 0.2 segundos, aún para matrices $1024\\times1024$, las cuales almacenan hasta 8.3 MB."
   ]
  },
  {
   "cell_type": "markdown",
   "id": "3b6c5f72",
   "metadata": {},
   "source": [
    "## Problema 2\n",
    "Considere la matriz de Hilbert $H(n)$ con $n=4,5,6,\\dots$.\n",
    "\n",
    "\n",
    "1.   Para $n=5,6,7,\\dots$ calcule $\\lambda(n)$ el menor valor propio de $H(n)$. Grafique $\\lambda$ como funcion de $n$.\n",
    "2.   Al intentar hacer a factorización de Cholesky de $H(20)$ en Julia/Octave/Matlab/Python la factorización no se calcula llevando a la conclución de que la representación numérica de $H(20)$ no es definida positiva. En Octave parece el error \n",
    "```\n",
    "# error: chol : imput matrix must be positive definite\n",
    "```\n",
    "Verifique teoricamente  $H(n)$ es en realidad positiva definida (no necesita mostrar detalles aqui). Con ayuda del gráfico anterior y de lo estudiado sobre artimética de punto flotante explique esta situación.\n",
    "3. Calcule $R(n)$ de la factorización de Cholesky de $H(n)=R(n)^TR(n)$ con $n=14,15,\\dots,20$. Presente un gráfico de $t(n)=tr(R(n))$ como evidencia del cálculo.\n",
    "\n",
    "### Solución\n",
    "\n",
    "1. Obtengamos los minimos valores propios y grafiquemoslos en forma semilogaritmica"
   ]
  },
  {
   "cell_type": "code",
   "execution_count": 11,
   "id": "9403215d",
   "metadata": {},
   "outputs": [
    {
     "name": "stdout",
     "output_type": "stream",
     "text": [
      "n=5 y con valor propio 3.2879287721800103e-6\n",
      "n=6 y con valor propio 1.0827994849281602e-7\n",
      "n=7 y con valor propio 3.493898663754808e-9\n",
      "n=8 y con valor propio 1.1115391881094101e-10\n",
      "n=9 y con valor propio 3.499735263291949e-12\n",
      "n=10 y con valor propio 1.0930663626039906e-13\n",
      "n=11 y con valor propio 3.3660943718327975e-15\n"
     ]
    },
    {
     "data": {
      "image/svg+xml": [
       "<?xml version=\"1.0\" encoding=\"utf-8\"?>\n",
       "<svg xmlns=\"http://www.w3.org/2000/svg\" xmlns:xlink=\"http://www.w3.org/1999/xlink\" width=\"600\" height=\"400\" viewBox=\"0 0 2400 1600\">\n",
       "<defs>\n",
       "  <clipPath id=\"clip850\">\n",
       "    <rect x=\"0\" y=\"0\" width=\"2400\" height=\"1600\"/>\n",
       "  </clipPath>\n",
       "</defs>\n",
       "<path clip-path=\"url(#clip850)\" d=\"\n",
       "M0 1600 L2400 1600 L2400 0 L0 0  Z\n",
       "  \" fill=\"#ffffff\" fill-rule=\"evenodd\" fill-opacity=\"1\"/>\n",
       "<defs>\n",
       "  <clipPath id=\"clip851\">\n",
       "    <rect x=\"480\" y=\"0\" width=\"1681\" height=\"1600\"/>\n",
       "  </clipPath>\n",
       "</defs>\n",
       "<path clip-path=\"url(#clip850)\" d=\"\n",
       "M277.27 1423.18 L2352.76 1423.18 L2352.76 47.2441 L277.27 47.2441  Z\n",
       "  \" fill=\"#ffffff\" fill-rule=\"evenodd\" fill-opacity=\"1\"/>\n",
       "<defs>\n",
       "  <clipPath id=\"clip852\">\n",
       "    <rect x=\"277\" y=\"47\" width=\"2076\" height=\"1377\"/>\n",
       "  </clipPath>\n",
       "</defs>\n",
       "<polyline clip-path=\"url(#clip852)\" style=\"stroke:#000000; stroke-linecap:round; stroke-linejoin:round; stroke-width:2; stroke-opacity:0.1; fill:none\" points=\"\n",
       "  336.011,1423.18 336.011,47.2441 \n",
       "  \"/>\n",
       "<polyline clip-path=\"url(#clip852)\" style=\"stroke:#000000; stroke-linecap:round; stroke-linejoin:round; stroke-width:2; stroke-opacity:0.1; fill:none\" points=\"\n",
       "  662.345,1423.18 662.345,47.2441 \n",
       "  \"/>\n",
       "<polyline clip-path=\"url(#clip852)\" style=\"stroke:#000000; stroke-linecap:round; stroke-linejoin:round; stroke-width:2; stroke-opacity:0.1; fill:none\" points=\"\n",
       "  988.679,1423.18 988.679,47.2441 \n",
       "  \"/>\n",
       "<polyline clip-path=\"url(#clip852)\" style=\"stroke:#000000; stroke-linecap:round; stroke-linejoin:round; stroke-width:2; stroke-opacity:0.1; fill:none\" points=\"\n",
       "  1315.01,1423.18 1315.01,47.2441 \n",
       "  \"/>\n",
       "<polyline clip-path=\"url(#clip852)\" style=\"stroke:#000000; stroke-linecap:round; stroke-linejoin:round; stroke-width:2; stroke-opacity:0.1; fill:none\" points=\"\n",
       "  1641.35,1423.18 1641.35,47.2441 \n",
       "  \"/>\n",
       "<polyline clip-path=\"url(#clip852)\" style=\"stroke:#000000; stroke-linecap:round; stroke-linejoin:round; stroke-width:2; stroke-opacity:0.1; fill:none\" points=\"\n",
       "  1967.68,1423.18 1967.68,47.2441 \n",
       "  \"/>\n",
       "<polyline clip-path=\"url(#clip852)\" style=\"stroke:#000000; stroke-linecap:round; stroke-linejoin:round; stroke-width:2; stroke-opacity:0.1; fill:none\" points=\"\n",
       "  2294.02,1423.18 2294.02,47.2441 \n",
       "  \"/>\n",
       "<polyline clip-path=\"url(#clip850)\" style=\"stroke:#000000; stroke-linecap:round; stroke-linejoin:round; stroke-width:4; stroke-opacity:1; fill:none\" points=\"\n",
       "  277.27,1423.18 2352.76,1423.18 \n",
       "  \"/>\n",
       "<polyline clip-path=\"url(#clip850)\" style=\"stroke:#000000; stroke-linecap:round; stroke-linejoin:round; stroke-width:4; stroke-opacity:1; fill:none\" points=\"\n",
       "  336.011,1423.18 336.011,1404.28 \n",
       "  \"/>\n",
       "<polyline clip-path=\"url(#clip850)\" style=\"stroke:#000000; stroke-linecap:round; stroke-linejoin:round; stroke-width:4; stroke-opacity:1; fill:none\" points=\"\n",
       "  662.345,1423.18 662.345,1404.28 \n",
       "  \"/>\n",
       "<polyline clip-path=\"url(#clip850)\" style=\"stroke:#000000; stroke-linecap:round; stroke-linejoin:round; stroke-width:4; stroke-opacity:1; fill:none\" points=\"\n",
       "  988.679,1423.18 988.679,1404.28 \n",
       "  \"/>\n",
       "<polyline clip-path=\"url(#clip850)\" style=\"stroke:#000000; stroke-linecap:round; stroke-linejoin:round; stroke-width:4; stroke-opacity:1; fill:none\" points=\"\n",
       "  1315.01,1423.18 1315.01,1404.28 \n",
       "  \"/>\n",
       "<polyline clip-path=\"url(#clip850)\" style=\"stroke:#000000; stroke-linecap:round; stroke-linejoin:round; stroke-width:4; stroke-opacity:1; fill:none\" points=\"\n",
       "  1641.35,1423.18 1641.35,1404.28 \n",
       "  \"/>\n",
       "<polyline clip-path=\"url(#clip850)\" style=\"stroke:#000000; stroke-linecap:round; stroke-linejoin:round; stroke-width:4; stroke-opacity:1; fill:none\" points=\"\n",
       "  1967.68,1423.18 1967.68,1404.28 \n",
       "  \"/>\n",
       "<polyline clip-path=\"url(#clip850)\" style=\"stroke:#000000; stroke-linecap:round; stroke-linejoin:round; stroke-width:4; stroke-opacity:1; fill:none\" points=\"\n",
       "  2294.02,1423.18 2294.02,1404.28 \n",
       "  \"/>\n",
       "<path clip-path=\"url(#clip850)\" d=\"M326.288 1451.02 L344.645 1451.02 L344.645 1454.96 L330.571 1454.96 L330.571 1463.43 Q331.589 1463.08 332.608 1462.92 Q333.626 1462.73 334.645 1462.73 Q340.432 1462.73 343.812 1465.9 Q347.191 1469.08 347.191 1474.49 Q347.191 1480.07 343.719 1483.17 Q340.247 1486.25 333.927 1486.25 Q331.751 1486.25 329.483 1485.88 Q327.238 1485.51 324.83 1484.77 L324.83 1480.07 Q326.913 1481.2 329.136 1481.76 Q331.358 1482.32 333.835 1482.32 Q337.839 1482.32 340.177 1480.21 Q342.515 1478.1 342.515 1474.49 Q342.515 1470.88 340.177 1468.77 Q337.839 1466.67 333.835 1466.67 Q331.96 1466.67 330.085 1467.08 Q328.233 1467.5 326.288 1468.38 L326.288 1451.02 Z\" fill=\"#000000\" fill-rule=\"evenodd\" fill-opacity=\"1\" /><path clip-path=\"url(#clip850)\" d=\"M662.75 1466.44 Q659.602 1466.44 657.75 1468.59 Q655.921 1470.74 655.921 1474.49 Q655.921 1478.22 657.75 1480.39 Q659.602 1482.55 662.75 1482.55 Q665.898 1482.55 667.727 1480.39 Q669.579 1478.22 669.579 1474.49 Q669.579 1470.74 667.727 1468.59 Q665.898 1466.44 662.75 1466.44 M672.032 1451.78 L672.032 1456.04 Q670.273 1455.21 668.467 1454.77 Q666.685 1454.33 664.926 1454.33 Q660.296 1454.33 657.843 1457.45 Q655.412 1460.58 655.065 1466.9 Q656.43 1464.89 658.491 1463.82 Q660.551 1462.73 663.028 1462.73 Q668.236 1462.73 671.245 1465.9 Q674.278 1469.05 674.278 1474.49 Q674.278 1479.82 671.129 1483.03 Q667.981 1486.25 662.75 1486.25 Q656.755 1486.25 653.583 1481.67 Q650.412 1477.06 650.412 1468.33 Q650.412 1460.14 654.301 1455.28 Q658.19 1450.39 664.741 1450.39 Q666.5 1450.39 668.282 1450.74 Q670.088 1451.09 672.032 1451.78 Z\" fill=\"#000000\" fill-rule=\"evenodd\" fill-opacity=\"1\" /><path clip-path=\"url(#clip850)\" d=\"M977.568 1451.02 L999.79 1451.02 L999.79 1453.01 L987.244 1485.58 L982.36 1485.58 L994.165 1454.96 L977.568 1454.96 L977.568 1451.02 Z\" fill=\"#000000\" fill-rule=\"evenodd\" fill-opacity=\"1\" /><path clip-path=\"url(#clip850)\" d=\"M1315.01 1469.17 Q1311.68 1469.17 1309.76 1470.95 Q1307.86 1472.73 1307.86 1475.86 Q1307.86 1478.98 1309.76 1480.77 Q1311.68 1482.55 1315.01 1482.55 Q1318.35 1482.55 1320.27 1480.77 Q1322.19 1478.96 1322.19 1475.86 Q1322.19 1472.73 1320.27 1470.95 Q1318.37 1469.17 1315.01 1469.17 M1310.34 1467.18 Q1307.33 1466.44 1305.64 1464.38 Q1303.97 1462.32 1303.97 1459.35 Q1303.97 1455.21 1306.91 1452.8 Q1309.87 1450.39 1315.01 1450.39 Q1320.18 1450.39 1323.11 1452.8 Q1326.05 1455.21 1326.05 1459.35 Q1326.05 1462.32 1324.36 1464.38 Q1322.7 1466.44 1319.71 1467.18 Q1323.09 1467.96 1324.97 1470.26 Q1326.86 1472.55 1326.86 1475.86 Q1326.86 1480.88 1323.79 1483.57 Q1320.73 1486.25 1315.01 1486.25 Q1309.3 1486.25 1306.22 1483.57 Q1303.16 1480.88 1303.16 1475.86 Q1303.16 1472.55 1305.06 1470.26 Q1306.96 1467.96 1310.34 1467.18 M1308.62 1459.79 Q1308.62 1462.48 1310.29 1463.98 Q1311.98 1465.49 1315.01 1465.49 Q1318.02 1465.49 1319.71 1463.98 Q1321.43 1462.48 1321.43 1459.79 Q1321.43 1457.11 1319.71 1455.6 Q1318.02 1454.1 1315.01 1454.1 Q1311.98 1454.1 1310.29 1455.6 Q1308.62 1457.11 1308.62 1459.79 Z\" fill=\"#000000\" fill-rule=\"evenodd\" fill-opacity=\"1\" /><path clip-path=\"url(#clip850)\" d=\"M1631.65 1484.86 L1631.65 1480.6 Q1633.41 1481.44 1635.21 1481.88 Q1637.02 1482.32 1638.75 1482.32 Q1643.38 1482.32 1645.81 1479.21 Q1648.27 1476.09 1648.62 1469.75 Q1647.27 1471.74 1645.21 1472.8 Q1643.15 1473.87 1640.65 1473.87 Q1635.47 1473.87 1632.44 1470.74 Q1629.43 1467.59 1629.43 1462.15 Q1629.43 1456.83 1632.57 1453.61 Q1635.72 1450.39 1640.95 1450.39 Q1646.95 1450.39 1650.1 1455 Q1653.27 1459.58 1653.27 1468.33 Q1653.27 1476.51 1649.38 1481.39 Q1645.51 1486.25 1638.96 1486.25 Q1637.2 1486.25 1635.4 1485.9 Q1633.59 1485.56 1631.65 1484.86 M1640.95 1470.21 Q1644.1 1470.21 1645.93 1468.06 Q1647.78 1465.9 1647.78 1462.15 Q1647.78 1458.43 1645.93 1456.27 Q1644.1 1454.1 1640.95 1454.1 Q1637.81 1454.1 1635.95 1456.27 Q1634.13 1458.43 1634.13 1462.15 Q1634.13 1465.9 1635.95 1468.06 Q1637.81 1470.21 1640.95 1470.21 Z\" fill=\"#000000\" fill-rule=\"evenodd\" fill-opacity=\"1\" /><path clip-path=\"url(#clip850)\" d=\"M1942.37 1481.64 L1950.01 1481.64 L1950.01 1455.28 L1941.7 1456.95 L1941.7 1452.69 L1949.96 1451.02 L1954.64 1451.02 L1954.64 1481.64 L1962.28 1481.64 L1962.28 1485.58 L1942.37 1485.58 L1942.37 1481.64 Z\" fill=\"#000000\" fill-rule=\"evenodd\" fill-opacity=\"1\" /><path clip-path=\"url(#clip850)\" d=\"M1981.72 1454.1 Q1978.11 1454.1 1976.28 1457.66 Q1974.48 1461.2 1974.48 1468.33 Q1974.48 1475.44 1976.28 1479.01 Q1978.11 1482.55 1981.72 1482.55 Q1985.36 1482.55 1987.16 1479.01 Q1988.99 1475.44 1988.99 1468.33 Q1988.99 1461.2 1987.16 1457.66 Q1985.36 1454.1 1981.72 1454.1 M1981.72 1450.39 Q1987.53 1450.39 1990.59 1455 Q1993.67 1459.58 1993.67 1468.33 Q1993.67 1477.06 1990.59 1481.67 Q1987.53 1486.25 1981.72 1486.25 Q1975.91 1486.25 1972.83 1481.67 Q1969.78 1477.06 1969.78 1468.33 Q1969.78 1459.58 1972.83 1455 Q1975.91 1450.39 1981.72 1450.39 Z\" fill=\"#000000\" fill-rule=\"evenodd\" fill-opacity=\"1\" /><path clip-path=\"url(#clip850)\" d=\"M2269.32 1481.64 L2276.96 1481.64 L2276.96 1455.28 L2268.65 1456.95 L2268.65 1452.69 L2276.91 1451.02 L2281.59 1451.02 L2281.59 1481.64 L2289.22 1481.64 L2289.22 1485.58 L2269.32 1485.58 L2269.32 1481.64 Z\" fill=\"#000000\" fill-rule=\"evenodd\" fill-opacity=\"1\" /><path clip-path=\"url(#clip850)\" d=\"M2299.48 1481.64 L2307.12 1481.64 L2307.12 1455.28 L2298.81 1456.95 L2298.81 1452.69 L2307.07 1451.02 L2311.75 1451.02 L2311.75 1481.64 L2319.39 1481.64 L2319.39 1485.58 L2299.48 1485.58 L2299.48 1481.64 Z\" fill=\"#000000\" fill-rule=\"evenodd\" fill-opacity=\"1\" /><path clip-path=\"url(#clip850)\" d=\"M1329.94 1546.53 L1329.94 1568.04 L1324.08 1568.04 L1324.08 1546.72 Q1324.08 1541.66 1322.11 1539.14 Q1320.14 1536.63 1316.19 1536.63 Q1311.45 1536.63 1308.71 1539.65 Q1305.97 1542.68 1305.97 1547.9 L1305.97 1568.04 L1300.09 1568.04 L1300.09 1532.4 L1305.97 1532.4 L1305.97 1537.93 Q1308.07 1534.72 1310.91 1533.13 Q1313.77 1531.54 1317.5 1531.54 Q1323.64 1531.54 1326.79 1535.36 Q1329.94 1539.14 1329.94 1546.53 Z\" fill=\"#000000\" fill-rule=\"evenodd\" fill-opacity=\"1\" /><polyline clip-path=\"url(#clip852)\" style=\"stroke:#000000; stroke-linecap:round; stroke-linejoin:round; stroke-width:2; stroke-opacity:0.1; fill:none\" points=\"\n",
       "  277.27,1315.96 2352.76,1315.96 \n",
       "  \"/>\n",
       "<polyline clip-path=\"url(#clip852)\" style=\"stroke:#000000; stroke-linecap:round; stroke-linejoin:round; stroke-width:2; stroke-opacity:0.1; fill:none\" points=\"\n",
       "  277.27,1027.18 2352.76,1027.18 \n",
       "  \"/>\n",
       "<polyline clip-path=\"url(#clip852)\" style=\"stroke:#000000; stroke-linecap:round; stroke-linejoin:round; stroke-width:2; stroke-opacity:0.1; fill:none\" points=\"\n",
       "  277.27,738.392 2352.76,738.392 \n",
       "  \"/>\n",
       "<polyline clip-path=\"url(#clip852)\" style=\"stroke:#000000; stroke-linecap:round; stroke-linejoin:round; stroke-width:2; stroke-opacity:0.1; fill:none\" points=\"\n",
       "  277.27,449.609 2352.76,449.609 \n",
       "  \"/>\n",
       "<polyline clip-path=\"url(#clip852)\" style=\"stroke:#000000; stroke-linecap:round; stroke-linejoin:round; stroke-width:2; stroke-opacity:0.1; fill:none\" points=\"\n",
       "  277.27,160.825 2352.76,160.825 \n",
       "  \"/>\n",
       "<polyline clip-path=\"url(#clip850)\" style=\"stroke:#000000; stroke-linecap:round; stroke-linejoin:round; stroke-width:4; stroke-opacity:1; fill:none\" points=\"\n",
       "  277.27,1423.18 277.27,47.2441 \n",
       "  \"/>\n",
       "<polyline clip-path=\"url(#clip850)\" style=\"stroke:#000000; stroke-linecap:round; stroke-linejoin:round; stroke-width:4; stroke-opacity:1; fill:none\" points=\"\n",
       "  277.27,1315.96 296.168,1315.96 \n",
       "  \"/>\n",
       "<polyline clip-path=\"url(#clip850)\" style=\"stroke:#000000; stroke-linecap:round; stroke-linejoin:round; stroke-width:4; stroke-opacity:1; fill:none\" points=\"\n",
       "  277.27,1027.18 296.168,1027.18 \n",
       "  \"/>\n",
       "<polyline clip-path=\"url(#clip850)\" style=\"stroke:#000000; stroke-linecap:round; stroke-linejoin:round; stroke-width:4; stroke-opacity:1; fill:none\" points=\"\n",
       "  277.27,738.392 296.168,738.392 \n",
       "  \"/>\n",
       "<polyline clip-path=\"url(#clip850)\" style=\"stroke:#000000; stroke-linecap:round; stroke-linejoin:round; stroke-width:4; stroke-opacity:1; fill:none\" points=\"\n",
       "  277.27,449.609 296.168,449.609 \n",
       "  \"/>\n",
       "<polyline clip-path=\"url(#clip850)\" style=\"stroke:#000000; stroke-linecap:round; stroke-linejoin:round; stroke-width:4; stroke-opacity:1; fill:none\" points=\"\n",
       "  277.27,160.825 296.168,160.825 \n",
       "  \"/>\n",
       "<path clip-path=\"url(#clip850)\" d=\"M114.931 1335.75 L122.57 1335.75 L122.57 1309.39 L114.26 1311.05 L114.26 1306.79 L122.524 1305.13 L127.2 1305.13 L127.2 1335.75 L134.839 1335.75 L134.839 1339.69 L114.931 1339.69 L114.931 1335.75 Z\" fill=\"#000000\" fill-rule=\"evenodd\" fill-opacity=\"1\" /><path clip-path=\"url(#clip850)\" d=\"M154.283 1308.21 Q150.672 1308.21 148.843 1311.77 Q147.038 1315.31 147.038 1322.44 Q147.038 1329.55 148.843 1333.11 Q150.672 1336.65 154.283 1336.65 Q157.917 1336.65 159.723 1333.11 Q161.552 1329.55 161.552 1322.44 Q161.552 1315.31 159.723 1311.77 Q157.917 1308.21 154.283 1308.21 M154.283 1304.5 Q160.093 1304.5 163.149 1309.11 Q166.227 1313.69 166.227 1322.44 Q166.227 1331.17 163.149 1335.77 Q160.093 1340.36 154.283 1340.36 Q148.473 1340.36 145.394 1335.77 Q142.339 1331.17 142.339 1322.44 Q142.339 1313.69 145.394 1309.11 Q148.473 1304.5 154.283 1304.5 Z\" fill=\"#000000\" fill-rule=\"evenodd\" fill-opacity=\"1\" /><path clip-path=\"url(#clip850)\" d=\"M166.227 1298.6 L190.339 1298.6 L190.339 1301.8 L166.227 1301.8 L166.227 1298.6 Z\" fill=\"#000000\" fill-rule=\"evenodd\" fill-opacity=\"1\" /><path clip-path=\"url(#clip850)\" d=\"M199.197 1309.08 L205.404 1309.08 L205.404 1287.66 L198.652 1289.01 L198.652 1285.55 L205.366 1284.2 L209.166 1284.2 L209.166 1309.08 L215.372 1309.08 L215.372 1312.28 L199.197 1312.28 L199.197 1309.08 Z\" fill=\"#000000\" fill-rule=\"evenodd\" fill-opacity=\"1\" /><path clip-path=\"url(#clip850)\" d=\"M233.484 1287.51 L223.892 1302.5 L233.484 1302.5 L233.484 1287.51 M232.487 1284.2 L237.264 1284.2 L237.264 1302.5 L241.27 1302.5 L241.27 1305.66 L237.264 1305.66 L237.264 1312.28 L233.484 1312.28 L233.484 1305.66 L220.808 1305.66 L220.808 1301.99 L232.487 1284.2 Z\" fill=\"#000000\" fill-rule=\"evenodd\" fill-opacity=\"1\" /><path clip-path=\"url(#clip850)\" d=\"M116.624 1046.97 L124.263 1046.97 L124.263 1020.6 L115.953 1022.27 L115.953 1018.01 L124.217 1016.34 L128.893 1016.34 L128.893 1046.97 L136.531 1046.97 L136.531 1050.9 L116.624 1050.9 L116.624 1046.97 Z\" fill=\"#000000\" fill-rule=\"evenodd\" fill-opacity=\"1\" /><path clip-path=\"url(#clip850)\" d=\"M155.976 1019.42 Q152.365 1019.42 150.536 1022.99 Q148.73 1026.53 148.73 1033.66 Q148.73 1040.76 150.536 1044.33 Q152.365 1047.87 155.976 1047.87 Q159.61 1047.87 161.416 1044.33 Q163.244 1040.76 163.244 1033.66 Q163.244 1026.53 161.416 1022.99 Q159.61 1019.42 155.976 1019.42 M155.976 1015.72 Q161.786 1015.72 164.841 1020.32 Q167.92 1024.91 167.92 1033.66 Q167.92 1042.38 164.841 1046.99 Q161.786 1051.57 155.976 1051.57 Q150.166 1051.57 147.087 1046.99 Q144.031 1042.38 144.031 1033.66 Q144.031 1024.91 147.087 1020.32 Q150.166 1015.72 155.976 1015.72 Z\" fill=\"#000000\" fill-rule=\"evenodd\" fill-opacity=\"1\" /><path clip-path=\"url(#clip850)\" d=\"M167.92 1009.82 L192.032 1009.82 L192.032 1013.02 L167.92 1013.02 L167.92 1009.82 Z\" fill=\"#000000\" fill-rule=\"evenodd\" fill-opacity=\"1\" /><path clip-path=\"url(#clip850)\" d=\"M200.89 1020.3 L207.097 1020.3 L207.097 998.873 L200.345 1000.23 L200.345 996.767 L207.059 995.413 L210.858 995.413 L210.858 1020.3 L217.065 1020.3 L217.065 1023.49 L200.89 1023.49 L200.89 1020.3 Z\" fill=\"#000000\" fill-rule=\"evenodd\" fill-opacity=\"1\" /><path clip-path=\"url(#clip850)\" d=\"M228.011 1020.3 L241.27 1020.3 L241.27 1023.49 L223.441 1023.49 L223.441 1020.3 Q225.604 1018.06 229.328 1014.3 Q233.07 1010.52 234.029 1009.42 Q235.854 1007.37 236.569 1005.96 Q237.302 1004.53 237.302 1003.16 Q237.302 1000.92 235.722 999.513 Q234.161 998.102 231.641 998.102 Q229.854 998.102 227.861 998.723 Q225.886 999.344 223.629 1000.6 L223.629 996.767 Q225.923 995.845 227.917 995.375 Q229.911 994.905 231.566 994.905 Q235.929 994.905 238.525 997.087 Q241.12 999.268 241.12 1002.92 Q241.12 1004.65 240.462 1006.21 Q239.822 1007.75 238.111 1009.86 Q237.641 1010.4 235.12 1013.02 Q232.6 1015.61 228.011 1020.3 Z\" fill=\"#000000\" fill-rule=\"evenodd\" fill-opacity=\"1\" /><path clip-path=\"url(#clip850)\" d=\"M115.326 758.185 L122.965 758.185 L122.965 731.819 L114.655 733.486 L114.655 729.226 L122.919 727.56 L127.595 727.56 L127.595 758.185 L135.234 758.185 L135.234 762.12 L115.326 762.12 L115.326 758.185 Z\" fill=\"#000000\" fill-rule=\"evenodd\" fill-opacity=\"1\" /><path clip-path=\"url(#clip850)\" d=\"M154.678 730.638 Q151.067 730.638 149.238 734.203 Q147.433 737.745 147.433 744.874 Q147.433 751.981 149.238 755.546 Q151.067 759.087 154.678 759.087 Q158.312 759.087 160.118 755.546 Q161.947 751.981 161.947 744.874 Q161.947 737.745 160.118 734.203 Q158.312 730.638 154.678 730.638 M154.678 726.935 Q160.488 726.935 163.544 731.541 Q166.622 736.124 166.622 744.874 Q166.622 753.601 163.544 758.208 Q160.488 762.791 154.678 762.791 Q148.868 762.791 145.789 758.208 Q142.734 753.601 142.734 744.874 Q142.734 736.124 145.789 731.541 Q148.868 726.935 154.678 726.935 Z\" fill=\"#000000\" fill-rule=\"evenodd\" fill-opacity=\"1\" /><path clip-path=\"url(#clip850)\" d=\"M166.622 721.036 L190.734 721.036 L190.734 724.233 L166.622 724.233 L166.622 721.036 Z\" fill=\"#000000\" fill-rule=\"evenodd\" fill-opacity=\"1\" /><path clip-path=\"url(#clip850)\" d=\"M199.592 731.512 L205.799 731.512 L205.799 710.09 L199.047 711.444 L199.047 707.983 L205.761 706.629 L209.561 706.629 L209.561 731.512 L215.767 731.512 L215.767 734.709 L199.592 734.709 L199.592 731.512 Z\" fill=\"#000000\" fill-rule=\"evenodd\" fill-opacity=\"1\" /><path clip-path=\"url(#clip850)\" d=\"M231.566 709.131 Q228.632 709.131 227.146 712.027 Q225.679 714.905 225.679 720.698 Q225.679 726.471 227.146 729.368 Q228.632 732.245 231.566 732.245 Q234.518 732.245 235.985 729.368 Q237.471 726.471 237.471 720.698 Q237.471 714.905 235.985 712.027 Q234.518 709.131 231.566 709.131 M231.566 706.121 Q236.286 706.121 238.769 709.864 Q241.27 713.588 241.27 720.698 Q241.27 727.788 238.769 731.531 Q236.286 735.255 231.566 735.255 Q226.845 735.255 224.343 731.531 Q221.861 727.788 221.861 720.698 Q221.861 713.588 224.343 709.864 Q226.845 706.121 231.566 706.121 Z\" fill=\"#000000\" fill-rule=\"evenodd\" fill-opacity=\"1\" /><path clip-path=\"url(#clip850)\" d=\"M139.908 469.401 L147.547 469.401 L147.547 443.035 L139.237 444.702 L139.237 440.443 L147.501 438.776 L152.177 438.776 L152.177 469.401 L159.815 469.401 L159.815 473.336 L139.908 473.336 L139.908 469.401 Z\" fill=\"#000000\" fill-rule=\"evenodd\" fill-opacity=\"1\" /><path clip-path=\"url(#clip850)\" d=\"M179.26 441.855 Q175.649 441.855 173.82 445.42 Q172.014 448.961 172.014 456.091 Q172.014 463.197 173.82 466.762 Q175.649 470.304 179.26 470.304 Q182.894 470.304 184.7 466.762 Q186.528 463.197 186.528 456.091 Q186.528 448.961 184.7 445.42 Q182.894 441.855 179.26 441.855 M179.26 438.151 Q185.07 438.151 188.126 442.758 Q191.204 447.341 191.204 456.091 Q191.204 464.818 188.126 469.424 Q185.07 474.007 179.26 474.007 Q173.45 474.007 170.371 469.424 Q167.315 464.818 167.315 456.091 Q167.315 447.341 170.371 442.758 Q173.45 438.151 179.26 438.151 Z\" fill=\"#000000\" fill-rule=\"evenodd\" fill-opacity=\"1\" /><path clip-path=\"url(#clip850)\" d=\"M191.204 432.253 L215.316 432.253 L215.316 435.45 L191.204 435.45 L191.204 432.253 Z\" fill=\"#000000\" fill-rule=\"evenodd\" fill-opacity=\"1\" /><path clip-path=\"url(#clip850)\" d=\"M231.641 432.591 Q228.933 432.591 227.372 434.039 Q225.829 435.487 225.829 438.026 Q225.829 440.566 227.372 442.014 Q228.933 443.462 231.641 443.462 Q234.349 443.462 235.91 442.014 Q237.471 440.547 237.471 438.026 Q237.471 435.487 235.91 434.039 Q234.368 432.591 231.641 432.591 M227.842 430.974 Q225.397 430.372 224.024 428.698 Q222.67 427.024 222.67 424.617 Q222.67 421.25 225.058 419.294 Q227.466 417.338 231.641 417.338 Q235.835 417.338 238.224 419.294 Q240.612 421.25 240.612 424.617 Q240.612 427.024 239.239 428.698 Q237.885 430.372 235.459 430.974 Q238.205 431.613 239.728 433.475 Q241.27 435.337 241.27 438.026 Q241.27 442.108 238.769 444.289 Q236.286 446.471 231.641 446.471 Q226.995 446.471 224.494 444.289 Q222.011 442.108 222.011 438.026 Q222.011 435.337 223.554 433.475 Q225.096 431.613 227.842 430.974 M226.45 424.974 Q226.45 427.156 227.804 428.378 Q229.177 429.601 231.641 429.601 Q234.086 429.601 235.459 428.378 Q236.851 427.156 236.851 424.974 Q236.851 422.792 235.459 421.57 Q234.086 420.347 231.641 420.347 Q229.177 420.347 227.804 421.57 Q226.45 422.792 226.45 424.974 Z\" fill=\"#000000\" fill-rule=\"evenodd\" fill-opacity=\"1\" /><path clip-path=\"url(#clip850)\" d=\"M139.701 180.617 L147.34 180.617 L147.34 154.252 L139.03 155.919 L139.03 151.659 L147.294 149.993 L151.97 149.993 L151.97 180.617 L159.609 180.617 L159.609 184.553 L139.701 184.553 L139.701 180.617 Z\" fill=\"#000000\" fill-rule=\"evenodd\" fill-opacity=\"1\" /><path clip-path=\"url(#clip850)\" d=\"M179.053 153.071 Q175.442 153.071 173.613 156.636 Q171.808 160.178 171.808 167.307 Q171.808 174.414 173.613 177.979 Q175.442 181.52 179.053 181.52 Q182.687 181.52 184.493 177.979 Q186.321 174.414 186.321 167.307 Q186.321 160.178 184.493 156.636 Q182.687 153.071 179.053 153.071 M179.053 149.368 Q184.863 149.368 187.919 153.974 Q190.997 158.557 190.997 167.307 Q190.997 176.034 187.919 180.641 Q184.863 185.224 179.053 185.224 Q173.243 185.224 170.164 180.641 Q167.109 176.034 167.109 167.307 Q167.109 158.557 170.164 153.974 Q173.243 149.368 179.053 149.368 Z\" fill=\"#000000\" fill-rule=\"evenodd\" fill-opacity=\"1\" /><path clip-path=\"url(#clip850)\" d=\"M190.997 143.469 L215.109 143.469 L215.109 146.666 L190.997 146.666 L190.997 143.469 Z\" fill=\"#000000\" fill-rule=\"evenodd\" fill-opacity=\"1\" /><path clip-path=\"url(#clip850)\" d=\"M231.904 141.588 Q229.346 141.588 227.842 143.337 Q226.356 145.086 226.356 148.133 Q226.356 151.161 227.842 152.929 Q229.346 154.678 231.904 154.678 Q234.462 154.678 235.948 152.929 Q237.452 151.161 237.452 148.133 Q237.452 145.086 235.948 143.337 Q234.462 141.588 231.904 141.588 M239.446 129.683 L239.446 133.143 Q238.017 132.466 236.55 132.109 Q235.102 131.752 233.672 131.752 Q229.911 131.752 227.917 134.291 Q225.942 136.83 225.66 141.964 Q226.77 140.328 228.444 139.463 Q230.117 138.579 232.13 138.579 Q236.362 138.579 238.807 141.156 Q241.27 143.713 241.27 148.133 Q241.27 152.459 238.713 155.073 Q236.155 157.688 231.904 157.688 Q227.033 157.688 224.456 153.964 Q221.88 150.221 221.88 143.13 Q221.88 136.472 225.039 132.523 Q228.199 128.554 233.522 128.554 Q234.951 128.554 236.399 128.837 Q237.866 129.119 239.446 129.683 Z\" fill=\"#000000\" fill-rule=\"evenodd\" fill-opacity=\"1\" /><path clip-path=\"url(#clip850)\" d=\"M64.0042 964.011 L16.4842 982.154 L16.4842 975.438 L56.4926 960.383 L16.4842 945.296 L16.4842 938.612 L64.0042 956.723 L64.0042 964.011 Z\" fill=\"#000000\" fill-rule=\"evenodd\" fill-opacity=\"1\" /><path clip-path=\"url(#clip850)\" d=\"M46.0847 920.788 Q46.0847 927.886 47.7079 930.623 Q49.3312 933.361 53.2461 933.361 Q56.3653 933.361 58.2114 931.323 Q60.0256 929.255 60.0256 925.722 Q60.0256 920.852 56.5881 917.924 Q53.1188 914.964 47.3897 914.964 L46.0847 914.964 L46.0847 920.788 M43.6657 909.107 L64.0042 909.107 L64.0042 914.964 L58.5933 914.964 Q61.8398 916.969 63.3994 919.961 Q64.9272 922.953 64.9272 927.281 Q64.9272 932.756 61.8716 936.002 Q58.7843 939.217 53.6281 939.217 Q47.6125 939.217 44.5569 935.207 Q41.5014 931.164 41.5014 923.175 L41.5014 914.964 L40.9285 914.964 Q36.8862 914.964 34.6901 917.637 Q32.4621 920.279 32.4621 925.085 Q32.4621 928.141 33.1941 931.037 Q33.9262 933.933 35.3903 936.607 L29.9795 936.607 Q28.7381 933.392 28.1334 930.369 Q27.4968 927.345 27.4968 924.48 Q27.4968 916.746 31.5072 912.927 Q35.5176 909.107 43.6657 909.107 Z\" fill=\"#000000\" fill-rule=\"evenodd\" fill-opacity=\"1\" /><path clip-path=\"url(#clip850)\" d=\"M14.479 897.044 L14.479 891.188 L64.0042 891.188 L64.0042 897.044 L14.479 897.044 Z\" fill=\"#000000\" fill-rule=\"evenodd\" fill-opacity=\"1\" /><path clip-path=\"url(#clip850)\" d=\"M32.4621 865.12 Q32.4621 869.831 36.1542 872.568 Q39.8145 875.305 46.212 875.305 Q52.6095 875.305 56.3017 872.6 Q59.9619 869.863 59.9619 865.12 Q59.9619 860.441 56.2698 857.704 Q52.5777 854.967 46.212 854.967 Q39.8781 854.967 36.186 857.704 Q32.4621 860.441 32.4621 865.12 M27.4968 865.12 Q27.4968 857.481 32.4621 853.121 Q37.4273 848.76 46.212 848.76 Q54.9649 848.76 59.9619 853.121 Q64.9272 857.481 64.9272 865.12 Q64.9272 872.791 59.9619 877.151 Q54.9649 881.48 46.212 881.48 Q37.4273 881.48 32.4621 877.151 Q27.4968 872.791 27.4968 865.12 Z\" fill=\"#000000\" fill-rule=\"evenodd\" fill-opacity=\"1\" /><path clip-path=\"url(#clip850)\" d=\"M33.8307 818.396 Q33.2578 819.383 33.0032 820.56 Q32.7167 821.706 32.7167 823.106 Q32.7167 828.072 35.9632 830.745 Q39.1779 833.387 45.2253 833.387 L64.0042 833.387 L64.0042 839.275 L28.3562 839.275 L28.3562 833.387 L33.8944 833.387 Q30.6479 831.541 29.0883 828.581 Q27.4968 825.621 27.4968 821.388 Q27.4968 820.783 27.5923 820.051 Q27.656 819.319 27.8151 818.428 L33.8307 818.396 Z\" fill=\"#000000\" fill-rule=\"evenodd\" fill-opacity=\"1\" /><path clip-path=\"url(#clip850)\" d=\"M44.7161 783.193 L47.5806 783.193 L47.5806 810.12 Q53.6281 809.738 56.8109 806.492 Q59.9619 803.214 59.9619 797.389 Q59.9619 794.015 59.1344 790.864 Q58.3069 787.681 56.6518 784.562 L62.1899 784.562 Q63.5267 787.713 64.227 791.023 Q64.9272 794.333 64.9272 797.739 Q64.9272 806.269 59.9619 811.266 Q54.9967 816.231 46.5303 816.231 Q37.7774 816.231 32.6531 811.521 Q27.4968 806.778 27.4968 798.758 Q27.4968 791.564 32.1438 787.395 Q36.7589 783.193 44.7161 783.193 M42.9973 789.05 Q38.1912 789.114 35.3266 791.755 Q32.4621 794.365 32.4621 798.694 Q32.4621 803.596 35.2312 806.556 Q38.0002 809.484 43.0292 809.929 L42.9973 789.05 Z\" fill=\"#000000\" fill-rule=\"evenodd\" fill-opacity=\"1\" /><path clip-path=\"url(#clip850)\" d=\"M29.4065 750.856 L34.9447 750.856 Q33.6716 753.338 33.035 756.012 Q32.3984 758.686 32.3984 761.55 Q32.3984 765.911 33.7352 768.107 Q35.072 770.271 37.7456 770.271 Q39.7826 770.271 40.9603 768.711 Q42.1061 767.152 43.1565 762.441 L43.6021 760.436 Q44.9389 754.198 47.3897 751.588 Q49.8086 748.946 54.1691 748.946 Q59.1344 748.946 62.0308 752.893 Q64.9272 756.808 64.9272 763.683 Q64.9272 766.547 64.3543 769.666 Q63.8132 772.754 62.6992 776.191 L56.6518 776.191 Q58.3387 772.945 59.198 769.794 Q60.0256 766.643 60.0256 763.555 Q60.0256 759.418 58.6251 757.19 Q57.1929 754.962 54.6147 754.962 Q52.2276 754.962 50.9545 756.585 Q49.6813 758.176 48.5037 763.619 L48.0262 765.656 Q46.8804 771.099 44.5251 773.518 Q42.138 775.937 38.0002 775.937 Q32.9713 775.937 30.2341 772.372 Q27.4968 768.807 27.4968 762.25 Q27.4968 759.004 27.9743 756.139 Q28.4517 753.275 29.4065 750.856 Z\" fill=\"#000000\" fill-rule=\"evenodd\" fill-opacity=\"1\" /><path clip-path=\"url(#clip850)\" d=\"M58.657 713.234 L77.5631 713.234 L77.5631 719.123 L28.3562 719.123 L28.3562 713.234 L33.7671 713.234 Q30.5842 711.388 29.0564 708.587 Q27.4968 705.755 27.4968 701.84 Q27.4968 695.347 32.6531 691.305 Q37.8093 687.23 46.212 687.23 Q54.6147 687.23 59.771 691.305 Q64.9272 695.347 64.9272 701.84 Q64.9272 705.755 63.3994 708.587 Q61.8398 711.388 58.657 713.234 M46.212 693.31 Q39.7508 693.31 36.0905 695.983 Q32.3984 698.625 32.3984 703.272 Q32.3984 707.919 36.0905 710.593 Q39.7508 713.234 46.212 713.234 Q52.6732 713.234 56.3653 710.593 Q60.0256 707.919 60.0256 703.272 Q60.0256 698.625 56.3653 695.983 Q52.6732 693.31 46.212 693.31 Z\" fill=\"#000000\" fill-rule=\"evenodd\" fill-opacity=\"1\" /><path clip-path=\"url(#clip850)\" d=\"M33.8307 656.866 Q33.2578 657.853 33.0032 659.03 Q32.7167 660.176 32.7167 661.577 Q32.7167 666.542 35.9632 669.216 Q39.1779 671.857 45.2253 671.857 L64.0042 671.857 L64.0042 677.746 L28.3562 677.746 L28.3562 671.857 L33.8944 671.857 Q30.6479 670.011 29.0883 667.051 Q27.4968 664.091 27.4968 659.858 Q27.4968 659.253 27.5923 658.521 Q27.656 657.789 27.8151 656.898 L33.8307 656.866 Z\" fill=\"#000000\" fill-rule=\"evenodd\" fill-opacity=\"1\" /><path clip-path=\"url(#clip850)\" d=\"M32.4621 638.342 Q32.4621 643.052 36.1542 645.79 Q39.8145 648.527 46.212 648.527 Q52.6095 648.527 56.3017 645.822 Q59.9619 643.084 59.9619 638.342 Q59.9619 633.663 56.2698 630.926 Q52.5777 628.189 46.212 628.189 Q39.8781 628.189 36.186 630.926 Q32.4621 633.663 32.4621 638.342 M27.4968 638.342 Q27.4968 630.703 32.4621 626.342 Q37.4273 621.982 46.212 621.982 Q54.9649 621.982 59.9619 626.342 Q64.9272 630.703 64.9272 638.342 Q64.9272 646.013 59.9619 650.373 Q54.9649 654.702 46.212 654.702 Q37.4273 654.702 32.4621 650.373 Q27.4968 646.013 27.4968 638.342 Z\" fill=\"#000000\" fill-rule=\"evenodd\" fill-opacity=\"1\" /><path clip-path=\"url(#clip850)\" d=\"M58.657 606.609 L77.5631 606.609 L77.5631 612.497 L28.3562 612.497 L28.3562 606.609 L33.7671 606.609 Q30.5842 604.763 29.0564 601.962 Q27.4968 599.129 27.4968 595.214 Q27.4968 588.721 32.6531 584.679 Q37.8093 580.605 46.212 580.605 Q54.6147 580.605 59.771 584.679 Q64.9272 588.721 64.9272 595.214 Q64.9272 599.129 63.3994 601.962 Q61.8398 604.763 58.657 606.609 M46.212 586.684 Q39.7508 586.684 36.0905 589.358 Q32.3984 591.999 32.3984 596.646 Q32.3984 601.293 36.0905 603.967 Q39.7508 606.609 46.212 606.609 Q52.6732 606.609 56.3653 603.967 Q60.0256 601.293 60.0256 596.646 Q60.0256 591.999 56.3653 589.358 Q52.6732 586.684 46.212 586.684 Z\" fill=\"#000000\" fill-rule=\"evenodd\" fill-opacity=\"1\" /><path clip-path=\"url(#clip850)\" d=\"M28.3562 570.897 L28.3562 565.041 L64.0042 565.041 L64.0042 570.897 L28.3562 570.897 M14.479 570.897 L14.479 565.041 L21.895 565.041 L21.895 570.897 L14.479 570.897 Z\" fill=\"#000000\" fill-rule=\"evenodd\" fill-opacity=\"1\" /><path clip-path=\"url(#clip850)\" d=\"M32.4621 538.973 Q32.4621 543.684 36.1542 546.421 Q39.8145 549.158 46.212 549.158 Q52.6095 549.158 56.3017 546.453 Q59.9619 543.716 59.9619 538.973 Q59.9619 534.294 56.2698 531.557 Q52.5777 528.82 46.212 528.82 Q39.8781 528.82 36.186 531.557 Q32.4621 534.294 32.4621 538.973 M27.4968 538.973 Q27.4968 531.334 32.4621 526.974 Q37.4273 522.613 46.212 522.613 Q54.9649 522.613 59.9619 526.974 Q64.9272 531.334 64.9272 538.973 Q64.9272 546.644 59.9619 551.004 Q54.9649 555.333 46.212 555.333 Q37.4273 555.333 32.4621 551.004 Q27.4968 546.644 27.4968 538.973 Z\" fill=\"#000000\" fill-rule=\"evenodd\" fill-opacity=\"1\" /><path clip-path=\"url(#clip850)\" d=\"M29.4065 490.18 L34.9447 490.18 Q33.6716 492.663 33.035 495.336 Q32.3984 498.01 32.3984 500.874 Q32.3984 505.235 33.7352 507.431 Q35.072 509.595 37.7456 509.595 Q39.7826 509.595 40.9603 508.036 Q42.1061 506.476 43.1565 501.766 L43.6021 499.76 Q44.9389 493.522 47.3897 490.912 Q49.8086 488.27 54.1691 488.27 Q59.1344 488.27 62.0308 492.217 Q64.9272 496.132 64.9272 503.007 Q64.9272 505.871 64.3543 508.991 Q63.8132 512.078 62.6992 515.516 L56.6518 515.516 Q58.3387 512.269 59.198 509.118 Q60.0256 505.967 60.0256 502.88 Q60.0256 498.742 58.6251 496.514 Q57.1929 494.286 54.6147 494.286 Q52.2276 494.286 50.9545 495.909 Q49.6813 497.501 48.5037 502.943 L48.0262 504.98 Q46.8804 510.423 44.5251 512.842 Q42.138 515.261 38.0002 515.261 Q32.9713 515.261 30.2341 511.696 Q27.4968 508.131 27.4968 501.575 Q27.4968 498.328 27.9743 495.464 Q28.4517 492.599 29.4065 490.18 Z\" fill=\"#000000\" fill-rule=\"evenodd\" fill-opacity=\"1\" /><polyline clip-path=\"url(#clip852)\" style=\"stroke:#009af9; stroke-linecap:round; stroke-linejoin:round; stroke-width:4; stroke-opacity:1; fill:none\" points=\"\n",
       "  336.011,86.1857 662.345,300.228 988.679,515.551 1315.01,731.761 1641.35,948.621 1967.68,1165.99 2294.02,1384.24 \n",
       "  \"/>\n",
       "<circle clip-path=\"url(#clip852)\" cx=\"336.011\" cy=\"86.1857\" r=\"18\" fill=\"#009af9\" fill-rule=\"evenodd\" fill-opacity=\"1\" stroke=\"#000000\" stroke-opacity=\"1\" stroke-width=\"3.2\"/>\n",
       "<circle clip-path=\"url(#clip852)\" cx=\"662.345\" cy=\"300.228\" r=\"18\" fill=\"#009af9\" fill-rule=\"evenodd\" fill-opacity=\"1\" stroke=\"#000000\" stroke-opacity=\"1\" stroke-width=\"3.2\"/>\n",
       "<circle clip-path=\"url(#clip852)\" cx=\"988.679\" cy=\"515.551\" r=\"18\" fill=\"#009af9\" fill-rule=\"evenodd\" fill-opacity=\"1\" stroke=\"#000000\" stroke-opacity=\"1\" stroke-width=\"3.2\"/>\n",
       "<circle clip-path=\"url(#clip852)\" cx=\"1315.01\" cy=\"731.761\" r=\"18\" fill=\"#009af9\" fill-rule=\"evenodd\" fill-opacity=\"1\" stroke=\"#000000\" stroke-opacity=\"1\" stroke-width=\"3.2\"/>\n",
       "<circle clip-path=\"url(#clip852)\" cx=\"1641.35\" cy=\"948.621\" r=\"18\" fill=\"#009af9\" fill-rule=\"evenodd\" fill-opacity=\"1\" stroke=\"#000000\" stroke-opacity=\"1\" stroke-width=\"3.2\"/>\n",
       "<circle clip-path=\"url(#clip852)\" cx=\"1967.68\" cy=\"1165.99\" r=\"18\" fill=\"#009af9\" fill-rule=\"evenodd\" fill-opacity=\"1\" stroke=\"#000000\" stroke-opacity=\"1\" stroke-width=\"3.2\"/>\n",
       "<circle clip-path=\"url(#clip852)\" cx=\"2294.02\" cy=\"1384.24\" r=\"18\" fill=\"#009af9\" fill-rule=\"evenodd\" fill-opacity=\"1\" stroke=\"#000000\" stroke-opacity=\"1\" stroke-width=\"3.2\"/>\n",
       "<path clip-path=\"url(#clip850)\" d=\"\n",
       "M1696.11 196.789 L2283.57 196.789 L2283.57 93.1086 L1696.11 93.1086  Z\n",
       "  \" fill=\"#ffffff\" fill-rule=\"evenodd\" fill-opacity=\"1\"/>\n",
       "<polyline clip-path=\"url(#clip850)\" style=\"stroke:#000000; stroke-linecap:round; stroke-linejoin:round; stroke-width:4; stroke-opacity:1; fill:none\" points=\"\n",
       "  1696.11,196.789 2283.57,196.789 2283.57,93.1086 1696.11,93.1086 1696.11,196.789 \n",
       "  \"/>\n",
       "<polyline clip-path=\"url(#clip850)\" style=\"stroke:#009af9; stroke-linecap:round; stroke-linejoin:round; stroke-width:4; stroke-opacity:1; fill:none\" points=\"\n",
       "  1719.17,144.949 1857.54,144.949 \n",
       "  \"/>\n",
       "<circle clip-path=\"url(#clip850)\" cx=\"1788.36\" cy=\"144.949\" r=\"19.2175\" fill=\"#009af9\" fill-rule=\"evenodd\" fill-opacity=\"1\" stroke=\"#000000\" stroke-opacity=\"1\" stroke-width=\"4.096\"/>\n",
       "<path clip-path=\"url(#clip850)\" d=\"M1893.8 162.229 L1880.6 127.669 L1885.49 127.669 L1896.43 156.766 L1907.41 127.669 L1912.27 127.669 L1899.1 162.229 L1893.8 162.229 Z\" fill=\"#000000\" fill-rule=\"evenodd\" fill-opacity=\"1\" /><path clip-path=\"url(#clip850)\" d=\"M1925.23 149.196 Q1920.07 149.196 1918.08 150.377 Q1916.09 151.557 1916.09 154.405 Q1916.09 156.673 1917.57 158.016 Q1919.07 159.335 1921.64 159.335 Q1925.18 159.335 1927.31 156.835 Q1929.47 154.312 1929.47 150.145 L1929.47 149.196 L1925.23 149.196 M1933.73 147.437 L1933.73 162.229 L1929.47 162.229 L1929.47 158.293 Q1928.01 160.655 1925.83 161.789 Q1923.66 162.9 1920.51 162.9 Q1916.53 162.9 1914.17 160.678 Q1911.83 158.432 1911.83 154.682 Q1911.83 150.307 1914.74 148.085 Q1917.68 145.863 1923.49 145.863 L1929.47 145.863 L1929.47 145.446 Q1929.47 142.507 1927.52 140.909 Q1925.6 139.289 1922.11 139.289 Q1919.88 139.289 1917.78 139.821 Q1915.67 140.354 1913.73 141.419 L1913.73 137.483 Q1916.06 136.581 1918.26 136.141 Q1920.46 135.678 1922.55 135.678 Q1928.17 135.678 1930.95 138.594 Q1933.73 141.511 1933.73 147.437 Z\" fill=\"#000000\" fill-rule=\"evenodd\" fill-opacity=\"1\" /><path clip-path=\"url(#clip850)\" d=\"M1942.5 126.21 L1946.76 126.21 L1946.76 162.229 L1942.5 162.229 L1942.5 126.21 Z\" fill=\"#000000\" fill-rule=\"evenodd\" fill-opacity=\"1\" /><path clip-path=\"url(#clip850)\" d=\"M1965.72 139.289 Q1962.29 139.289 1960.3 141.974 Q1958.31 144.636 1958.31 149.289 Q1958.31 153.942 1960.28 156.627 Q1962.27 159.289 1965.72 159.289 Q1969.12 159.289 1971.11 156.604 Q1973.1 153.918 1973.1 149.289 Q1973.1 144.682 1971.11 141.997 Q1969.12 139.289 1965.72 139.289 M1965.72 135.678 Q1971.27 135.678 1974.44 139.289 Q1977.61 142.9 1977.61 149.289 Q1977.61 155.655 1974.44 159.289 Q1971.27 162.9 1965.72 162.9 Q1960.14 162.9 1956.97 159.289 Q1953.82 155.655 1953.82 149.289 Q1953.82 142.9 1956.97 139.289 Q1960.14 135.678 1965.72 135.678 Z\" fill=\"#000000\" fill-rule=\"evenodd\" fill-opacity=\"1\" /><path clip-path=\"url(#clip850)\" d=\"M1999.7 140.284 Q1998.98 139.868 1998.12 139.682 Q1997.29 139.474 1996.27 139.474 Q1992.66 139.474 1990.72 141.835 Q1988.8 144.173 1988.8 148.571 L1988.8 162.229 L1984.51 162.229 L1984.51 136.303 L1988.8 136.303 L1988.8 140.331 Q1990.14 137.969 1992.29 136.835 Q1994.44 135.678 1997.52 135.678 Q1997.96 135.678 1998.49 135.747 Q1999.03 135.794 1999.67 135.909 L1999.7 140.284 Z\" fill=\"#000000\" fill-rule=\"evenodd\" fill-opacity=\"1\" /><path clip-path=\"url(#clip850)\" d=\"M2025.3 148.201 L2025.3 150.284 L2005.72 150.284 Q2005.99 154.682 2008.36 156.997 Q2010.74 159.289 2014.98 159.289 Q2017.43 159.289 2019.72 158.687 Q2022.04 158.085 2024.3 156.881 L2024.3 160.909 Q2022.01 161.881 2019.61 162.391 Q2017.2 162.9 2014.72 162.9 Q2008.52 162.9 2004.88 159.289 Q2001.27 155.678 2001.27 149.52 Q2001.27 143.155 2004.7 139.428 Q2008.15 135.678 2013.98 135.678 Q2019.21 135.678 2022.24 139.057 Q2025.3 142.414 2025.3 148.201 M2021.04 146.951 Q2020.99 143.456 2019.07 141.372 Q2017.17 139.289 2014.03 139.289 Q2010.46 139.289 2008.31 141.303 Q2006.18 143.317 2005.86 146.974 L2021.04 146.951 Z\" fill=\"#000000\" fill-rule=\"evenodd\" fill-opacity=\"1\" /><path clip-path=\"url(#clip850)\" d=\"M2048.82 137.067 L2048.82 141.094 Q2047.01 140.169 2045.07 139.706 Q2043.12 139.243 2041.04 139.243 Q2037.87 139.243 2036.27 140.215 Q2034.7 141.187 2034.7 143.131 Q2034.7 144.613 2035.83 145.469 Q2036.97 146.303 2040.39 147.067 L2041.85 147.391 Q2046.39 148.363 2048.29 150.145 Q2050.21 151.905 2050.21 155.076 Q2050.21 158.687 2047.34 160.793 Q2044.49 162.9 2039.49 162.9 Q2037.41 162.9 2035.14 162.483 Q2032.89 162.09 2030.39 161.28 L2030.39 156.881 Q2032.75 158.108 2035.04 158.733 Q2037.34 159.335 2039.58 159.335 Q2042.59 159.335 2044.21 158.317 Q2045.83 157.275 2045.83 155.4 Q2045.83 153.664 2044.65 152.738 Q2043.49 151.812 2039.54 150.956 L2038.05 150.608 Q2034.1 149.775 2032.34 148.062 Q2030.58 146.326 2030.58 143.317 Q2030.58 139.659 2033.17 137.669 Q2035.76 135.678 2040.53 135.678 Q2042.89 135.678 2044.98 136.025 Q2047.06 136.372 2048.82 137.067 Z\" fill=\"#000000\" fill-rule=\"evenodd\" fill-opacity=\"1\" /><path clip-path=\"url(#clip850)\" d=\"M2076.92 131.511 L2076.92 144.497 L2082.8 144.497 Q2086.06 144.497 2087.85 142.807 Q2089.63 141.118 2089.63 137.993 Q2089.63 134.891 2087.85 133.201 Q2086.06 131.511 2082.8 131.511 L2076.92 131.511 M2072.24 127.669 L2082.8 127.669 Q2088.61 127.669 2091.57 130.307 Q2094.56 132.923 2094.56 137.993 Q2094.56 143.108 2091.57 145.724 Q2088.61 148.34 2082.8 148.34 L2076.92 148.34 L2076.92 162.229 L2072.24 162.229 L2072.24 127.669 Z\" fill=\"#000000\" fill-rule=\"evenodd\" fill-opacity=\"1\" /><path clip-path=\"url(#clip850)\" d=\"M2114.84 140.284 Q2114.12 139.868 2113.26 139.682 Q2112.43 139.474 2111.41 139.474 Q2107.8 139.474 2105.85 141.835 Q2103.93 144.173 2103.93 148.571 L2103.93 162.229 L2099.65 162.229 L2099.65 136.303 L2103.93 136.303 L2103.93 140.331 Q2105.28 137.969 2107.43 136.835 Q2109.58 135.678 2112.66 135.678 Q2113.1 135.678 2113.63 135.747 Q2114.16 135.794 2114.81 135.909 L2114.84 140.284 Z\" fill=\"#000000\" fill-rule=\"evenodd\" fill-opacity=\"1\" /><path clip-path=\"url(#clip850)\" d=\"M2128.31 139.289 Q2124.88 139.289 2122.89 141.974 Q2120.9 144.636 2120.9 149.289 Q2120.9 153.942 2122.87 156.627 Q2124.86 159.289 2128.31 159.289 Q2131.71 159.289 2133.7 156.604 Q2135.69 153.918 2135.69 149.289 Q2135.69 144.682 2133.7 141.997 Q2131.71 139.289 2128.31 139.289 M2128.31 135.678 Q2133.86 135.678 2137.04 139.289 Q2140.21 142.9 2140.21 149.289 Q2140.21 155.655 2137.04 159.289 Q2133.86 162.9 2128.31 162.9 Q2122.73 162.9 2119.56 159.289 Q2116.41 155.655 2116.41 149.289 Q2116.41 142.9 2119.56 139.289 Q2122.73 135.678 2128.31 135.678 Z\" fill=\"#000000\" fill-rule=\"evenodd\" fill-opacity=\"1\" /><path clip-path=\"url(#clip850)\" d=\"M2151.39 158.34 L2151.39 172.09 L2147.1 172.09 L2147.1 136.303 L2151.39 136.303 L2151.39 140.238 Q2152.73 137.923 2154.77 136.812 Q2156.83 135.678 2159.67 135.678 Q2164.4 135.678 2167.34 139.428 Q2170.3 143.178 2170.3 149.289 Q2170.3 155.4 2167.34 159.15 Q2164.4 162.9 2159.67 162.9 Q2156.83 162.9 2154.77 161.789 Q2152.73 160.655 2151.39 158.34 M2165.88 149.289 Q2165.88 144.59 2163.93 141.928 Q2162.01 139.243 2158.63 139.243 Q2155.25 139.243 2153.31 141.928 Q2151.39 144.59 2151.39 149.289 Q2151.39 153.988 2153.31 156.673 Q2155.25 159.335 2158.63 159.335 Q2162.01 159.335 2163.93 156.673 Q2165.88 153.988 2165.88 149.289 Z\" fill=\"#000000\" fill-rule=\"evenodd\" fill-opacity=\"1\" /><path clip-path=\"url(#clip850)\" d=\"M2177.36 136.303 L2181.62 136.303 L2181.62 162.229 L2177.36 162.229 L2177.36 136.303 M2177.36 126.21 L2181.62 126.21 L2181.62 131.604 L2177.36 131.604 L2177.36 126.21 Z\" fill=\"#000000\" fill-rule=\"evenodd\" fill-opacity=\"1\" /><path clip-path=\"url(#clip850)\" d=\"M2200.58 139.289 Q2197.15 139.289 2195.16 141.974 Q2193.17 144.636 2193.17 149.289 Q2193.17 153.942 2195.14 156.627 Q2197.13 159.289 2200.58 159.289 Q2203.98 159.289 2205.97 156.604 Q2207.96 153.918 2207.96 149.289 Q2207.96 144.682 2205.97 141.997 Q2203.98 139.289 2200.58 139.289 M2200.58 135.678 Q2206.13 135.678 2209.3 139.289 Q2212.47 142.9 2212.47 149.289 Q2212.47 155.655 2209.3 159.289 Q2206.13 162.9 2200.58 162.9 Q2195 162.9 2191.83 159.289 Q2188.68 155.655 2188.68 149.289 Q2188.68 142.9 2191.83 139.289 Q2195 135.678 2200.58 135.678 Z\" fill=\"#000000\" fill-rule=\"evenodd\" fill-opacity=\"1\" /><path clip-path=\"url(#clip850)\" d=\"M2236.06 137.067 L2236.06 141.094 Q2234.26 140.169 2232.31 139.706 Q2230.37 139.243 2228.28 139.243 Q2225.11 139.243 2223.52 140.215 Q2221.94 141.187 2221.94 143.131 Q2221.94 144.613 2223.08 145.469 Q2224.21 146.303 2227.64 147.067 L2229.09 147.391 Q2233.63 148.363 2235.53 150.145 Q2237.45 151.905 2237.45 155.076 Q2237.45 158.687 2234.58 160.793 Q2231.73 162.9 2226.73 162.9 Q2224.65 162.9 2222.38 162.483 Q2220.14 162.09 2217.64 161.28 L2217.64 156.881 Q2220 158.108 2222.29 158.733 Q2224.58 159.335 2226.83 159.335 Q2229.84 159.335 2231.46 158.317 Q2233.08 157.275 2233.08 155.4 Q2233.08 153.664 2231.9 152.738 Q2230.74 151.812 2226.78 150.956 L2225.3 150.608 Q2221.34 149.775 2219.58 148.062 Q2217.82 146.326 2217.82 143.317 Q2217.82 139.659 2220.41 137.669 Q2223.01 135.678 2227.78 135.678 Q2230.14 135.678 2232.22 136.025 Q2234.3 136.372 2236.06 137.067 Z\" fill=\"#000000\" fill-rule=\"evenodd\" fill-opacity=\"1\" /></svg>\n"
      ]
     },
     "execution_count": 11,
     "metadata": {},
     "output_type": "execute_result"
    }
   ],
   "source": [
    "N=11\n",
    "min_ev=zeros(N-4)\n",
    "n_value=zeros(N-4)\n",
    "for n=5:N\n",
    "    n_value[n-4]=n \n",
    "    data=eigen(Hilbert{Float64}(n,n))\n",
    "    min_ev[n-4]=min(data.values...)\n",
    "    println(\"n=\",n,\" y con valor propio \", min_ev[n-4])\n",
    "end\n",
    "plot(n_value,min_ev,label=\"Valores Propios\",yaxis=:log,marker=(:circle,5),xlabel=\"n\",ylabel=\"Valores propios\")"
   ]
  },
  {
   "cell_type": "markdown",
   "id": "9ae6d559",
   "metadata": {},
   "source": [
    "2. Veamos que pasa al intentar hacer la factorización de Cholesky de $H(20)$"
   ]
  },
  {
   "cell_type": "code",
   "execution_count": 12,
   "id": "edbdb33b",
   "metadata": {},
   "outputs": [
    {
     "ename": "LoadError",
     "evalue": "PosDefException: matrix is not positive definite; Cholesky factorization failed.",
     "output_type": "error",
     "traceback": [
      "PosDefException: matrix is not positive definite; Cholesky factorization failed.",
      "",
      "Stacktrace:",
      " [1] checkpositivedefinite",
      "   @ C:\\Users\\user\\AppData\\Local\\Programs\\Julia-1.8.2\\share\\julia\\stdlib\\v1.8\\LinearAlgebra\\src\\factorization.jl:18 [inlined]",
      " [2] cholesky!(A::Hermitian{Float64, Matrix{Float64}}, ::NoPivot; check::Bool)",
      "   @ LinearAlgebra C:\\Users\\user\\AppData\\Local\\Programs\\Julia-1.8.2\\share\\julia\\stdlib\\v1.8\\LinearAlgebra\\src\\cholesky.jl:270",
      " [3] cholesky!(A::Matrix{Float64}, ::NoPivot; check::Bool)",
      "   @ LinearAlgebra C:\\Users\\user\\AppData\\Local\\Programs\\Julia-1.8.2\\share\\julia\\stdlib\\v1.8\\LinearAlgebra\\src\\cholesky.jl:302",
      " [4] #cholesky#162",
      "   @ C:\\Users\\user\\AppData\\Local\\Programs\\Julia-1.8.2\\share\\julia\\stdlib\\v1.8\\LinearAlgebra\\src\\cholesky.jl:402 [inlined]",
      " [5] cholesky (repeats 2 times)",
      "   @ C:\\Users\\user\\AppData\\Local\\Programs\\Julia-1.8.2\\share\\julia\\stdlib\\v1.8\\LinearAlgebra\\src\\cholesky.jl:402 [inlined]",
      " [6] top-level scope",
      "   @ In[12]:2",
      " [7] eval",
      "   @ .\\boot.jl:368 [inlined]",
      " [8] include_string(mapexpr::typeof(REPL.softscope), mod::Module, code::String, filename::String)",
      "   @ Base .\\loading.jl:1428"
     ]
    }
   ],
   "source": [
    "A=Hilbert{Float64}(20,20)\n",
    "cholA=cholesky(A)"
   ]
  },
  {
   "cell_type": "markdown",
   "id": "a8d06dfe",
   "metadata": {},
   "source": [
    "Si partimos de la definición integral de la matriz de Hilbert\n",
    "$$\n",
    "\\int_{0}^1 x^{i+j-2} dx=H_{ij}\n",
    "$$\n",
    "Entonces, para un vector arbitrario $x$\n",
    "$$\n",
    "x^T Hx=\\int_{0}^1 \\sum_{i=1}^{n} \\sum_{j=1}^{n}x_ix_j t^{i+j-2}dt\n",
    "$$\n",
    "$$\n",
    "x^T Hx=\\int_{0}^1 \\sum_{i=1}^{n} \\sum_{j=1}^{n}x_ix_j t^{i-1}t^{j-1}dt=\\int_{0}^1 \\sum_{i=1}^{n} x_it^{i-1} \\sum_{j=1}^{n}x_j t^{j-1}dt\n",
    "$$\n",
    "Dado que los indices i y j de las sumas son mudos, entonces e realidad es la misma suma, por tanto\n",
    "$$\n",
    "x^THx=\\int_{0}^1 \\Big(\\sum_{i=1}^{n} x_it^{i-1}\\Big)^2 dt>0\n",
    "$$\n",
    "Por lo que es definida positiva.\n",
    "No obstante si calculamos el mínimos autovalor de de $H(20)$ nos da"
   ]
  },
  {
   "cell_type": "code",
   "execution_count": 13,
   "id": "f125abcf",
   "metadata": {},
   "outputs": [
    {
     "data": {
      "text/plain": [
       "-8.595342038368048e-18"
      ]
     },
     "execution_count": 13,
     "metadata": {},
     "output_type": "execute_result"
    }
   ],
   "source": [
    "min(eigen(Hilbert{Float64}(20,20)).values...)"
   ]
  },
  {
   "cell_type": "markdown",
   "id": "ed346793",
   "metadata": {},
   "source": [
    "A través del gráfico anterior podemos ver que los autovalores en función del tamaño de la matriz de Hilbert disminuyen en forma potencial ($\\lambda \\propto 10^{-\\alpha n}$ con $\\alpha>0$), por lo cual en algún punto el valor disminuye hasta que el redondeo que hace la máquina es igual a cero o en algunas casos como el mostrado anteriormente es un valor negativo, dado esto la máquina interpreta que la matriz no es definida positiva."
   ]
  },
  {
   "cell_type": "markdown",
   "id": "bd68f177",
   "metadata": {},
   "source": [
    "3. Dado que no podemos usar los algoritmos implementados en Julia, podemos calcular la factorización a través de métodos iterativos"
   ]
  },
  {
   "cell_type": "code",
   "execution_count": 14,
   "id": "51d77b84",
   "metadata": {
    "scrolled": true
   },
   "outputs": [
    {
     "data": {
      "image/svg+xml": [
       "<?xml version=\"1.0\" encoding=\"utf-8\"?>\n",
       "<svg xmlns=\"http://www.w3.org/2000/svg\" xmlns:xlink=\"http://www.w3.org/1999/xlink\" width=\"600\" height=\"400\" viewBox=\"0 0 2400 1600\">\n",
       "<defs>\n",
       "  <clipPath id=\"clip890\">\n",
       "    <rect x=\"0\" y=\"0\" width=\"2400\" height=\"1600\"/>\n",
       "  </clipPath>\n",
       "</defs>\n",
       "<path clip-path=\"url(#clip890)\" d=\"\n",
       "M0 1600 L2400 1600 L2400 0 L0 0  Z\n",
       "  \" fill=\"#ffffff\" fill-rule=\"evenodd\" fill-opacity=\"1\"/>\n",
       "<defs>\n",
       "  <clipPath id=\"clip891\">\n",
       "    <rect x=\"480\" y=\"0\" width=\"1681\" height=\"1600\"/>\n",
       "  </clipPath>\n",
       "</defs>\n",
       "<path clip-path=\"url(#clip890)\" d=\"\n",
       "M217.783 1423.18 L2352.76 1423.18 L2352.76 47.2441 L217.783 47.2441  Z\n",
       "  \" fill=\"#ffffff\" fill-rule=\"evenodd\" fill-opacity=\"1\"/>\n",
       "<defs>\n",
       "  <clipPath id=\"clip892\">\n",
       "    <rect x=\"217\" y=\"47\" width=\"2136\" height=\"1377\"/>\n",
       "  </clipPath>\n",
       "</defs>\n",
       "<polyline clip-path=\"url(#clip892)\" style=\"stroke:#000000; stroke-linecap:round; stroke-linejoin:round; stroke-width:2; stroke-opacity:0.1; fill:none\" points=\"\n",
       "  702.233,1423.18 702.233,47.2441 \n",
       "  \"/>\n",
       "<polyline clip-path=\"url(#clip892)\" style=\"stroke:#000000; stroke-linecap:round; stroke-linejoin:round; stroke-width:2; stroke-opacity:0.1; fill:none\" points=\"\n",
       "  1232.27,1423.18 1232.27,47.2441 \n",
       "  \"/>\n",
       "<polyline clip-path=\"url(#clip892)\" style=\"stroke:#000000; stroke-linecap:round; stroke-linejoin:round; stroke-width:2; stroke-opacity:0.1; fill:none\" points=\"\n",
       "  1762.3,1423.18 1762.3,47.2441 \n",
       "  \"/>\n",
       "<polyline clip-path=\"url(#clip892)\" style=\"stroke:#000000; stroke-linecap:round; stroke-linejoin:round; stroke-width:2; stroke-opacity:0.1; fill:none\" points=\"\n",
       "  2292.33,1423.18 2292.33,47.2441 \n",
       "  \"/>\n",
       "<polyline clip-path=\"url(#clip890)\" style=\"stroke:#000000; stroke-linecap:round; stroke-linejoin:round; stroke-width:4; stroke-opacity:1; fill:none\" points=\"\n",
       "  217.783,1423.18 2352.76,1423.18 \n",
       "  \"/>\n",
       "<polyline clip-path=\"url(#clip890)\" style=\"stroke:#000000; stroke-linecap:round; stroke-linejoin:round; stroke-width:4; stroke-opacity:1; fill:none\" points=\"\n",
       "  702.233,1423.18 702.233,1404.28 \n",
       "  \"/>\n",
       "<polyline clip-path=\"url(#clip890)\" style=\"stroke:#000000; stroke-linecap:round; stroke-linejoin:round; stroke-width:4; stroke-opacity:1; fill:none\" points=\"\n",
       "  1232.27,1423.18 1232.27,1404.28 \n",
       "  \"/>\n",
       "<polyline clip-path=\"url(#clip890)\" style=\"stroke:#000000; stroke-linecap:round; stroke-linejoin:round; stroke-width:4; stroke-opacity:1; fill:none\" points=\"\n",
       "  1762.3,1423.18 1762.3,1404.28 \n",
       "  \"/>\n",
       "<polyline clip-path=\"url(#clip890)\" style=\"stroke:#000000; stroke-linecap:round; stroke-linejoin:round; stroke-width:4; stroke-opacity:1; fill:none\" points=\"\n",
       "  2292.33,1423.18 2292.33,1404.28 \n",
       "  \"/>\n",
       "<path clip-path=\"url(#clip890)\" d=\"M692.511 1451.02 L710.867 1451.02 L710.867 1454.96 L696.793 1454.96 L696.793 1463.43 Q697.812 1463.08 698.83 1462.92 Q699.849 1462.73 700.867 1462.73 Q706.654 1462.73 710.034 1465.9 Q713.414 1469.08 713.414 1474.49 Q713.414 1480.07 709.941 1483.17 Q706.469 1486.25 700.15 1486.25 Q697.974 1486.25 695.705 1485.88 Q693.46 1485.51 691.053 1484.77 L691.053 1480.07 Q693.136 1481.2 695.358 1481.76 Q697.58 1482.32 700.057 1482.32 Q704.062 1482.32 706.4 1480.21 Q708.738 1478.1 708.738 1474.49 Q708.738 1470.88 706.4 1468.77 Q704.062 1466.67 700.057 1466.67 Q698.182 1466.67 696.307 1467.08 Q694.455 1467.5 692.511 1468.38 L692.511 1451.02 Z\" fill=\"#000000\" fill-rule=\"evenodd\" fill-opacity=\"1\" /><path clip-path=\"url(#clip890)\" d=\"M1206.95 1481.64 L1214.59 1481.64 L1214.59 1455.28 L1206.28 1456.95 L1206.28 1452.69 L1214.55 1451.02 L1219.22 1451.02 L1219.22 1481.64 L1226.86 1481.64 L1226.86 1485.58 L1206.95 1485.58 L1206.95 1481.64 Z\" fill=\"#000000\" fill-rule=\"evenodd\" fill-opacity=\"1\" /><path clip-path=\"url(#clip890)\" d=\"M1246.31 1454.1 Q1242.69 1454.1 1240.87 1457.66 Q1239.06 1461.2 1239.06 1468.33 Q1239.06 1475.44 1240.87 1479.01 Q1242.69 1482.55 1246.31 1482.55 Q1249.94 1482.55 1251.75 1479.01 Q1253.57 1475.44 1253.57 1468.33 Q1253.57 1461.2 1251.75 1457.66 Q1249.94 1454.1 1246.31 1454.1 M1246.31 1450.39 Q1252.12 1450.39 1255.17 1455 Q1258.25 1459.58 1258.25 1468.33 Q1258.25 1477.06 1255.17 1481.67 Q1252.12 1486.25 1246.31 1486.25 Q1240.5 1486.25 1237.42 1481.67 Q1234.36 1477.06 1234.36 1468.33 Q1234.36 1459.58 1237.42 1455 Q1240.5 1450.39 1246.31 1450.39 Z\" fill=\"#000000\" fill-rule=\"evenodd\" fill-opacity=\"1\" /><path clip-path=\"url(#clip890)\" d=\"M1737.48 1481.64 L1745.12 1481.64 L1745.12 1455.28 L1736.81 1456.95 L1736.81 1452.69 L1745.08 1451.02 L1749.75 1451.02 L1749.75 1481.64 L1757.39 1481.64 L1757.39 1485.58 L1737.48 1485.58 L1737.48 1481.64 Z\" fill=\"#000000\" fill-rule=\"evenodd\" fill-opacity=\"1\" /><path clip-path=\"url(#clip890)\" d=\"M1766.88 1451.02 L1785.24 1451.02 L1785.24 1454.96 L1771.16 1454.96 L1771.16 1463.43 Q1772.18 1463.08 1773.2 1462.92 Q1774.22 1462.73 1775.24 1462.73 Q1781.03 1462.73 1784.41 1465.9 Q1787.79 1469.08 1787.79 1474.49 Q1787.79 1480.07 1784.31 1483.17 Q1780.84 1486.25 1774.52 1486.25 Q1772.35 1486.25 1770.08 1485.88 Q1767.83 1485.51 1765.42 1484.77 L1765.42 1480.07 Q1767.51 1481.2 1769.73 1481.76 Q1771.95 1482.32 1774.43 1482.32 Q1778.43 1482.32 1780.77 1480.21 Q1783.11 1478.1 1783.11 1474.49 Q1783.11 1470.88 1780.77 1468.77 Q1778.43 1466.67 1774.43 1466.67 Q1772.55 1466.67 1770.68 1467.08 Q1768.83 1467.5 1766.88 1468.38 L1766.88 1451.02 Z\" fill=\"#000000\" fill-rule=\"evenodd\" fill-opacity=\"1\" /><path clip-path=\"url(#clip890)\" d=\"M2271.11 1481.64 L2287.42 1481.64 L2287.42 1485.58 L2265.48 1485.58 L2265.48 1481.64 Q2268.14 1478.89 2272.73 1474.26 Q2277.33 1469.61 2278.51 1468.27 Q2280.76 1465.74 2281.64 1464.01 Q2282.54 1462.25 2282.54 1460.56 Q2282.54 1457.8 2280.6 1456.07 Q2278.67 1454.33 2275.57 1454.33 Q2273.37 1454.33 2270.92 1455.09 Q2268.49 1455.86 2265.71 1457.41 L2265.71 1452.69 Q2268.54 1451.55 2270.99 1450.97 Q2273.44 1450.39 2275.48 1450.39 Q2280.85 1450.39 2284.05 1453.08 Q2287.24 1455.77 2287.24 1460.26 Q2287.24 1462.39 2286.43 1464.31 Q2285.64 1466.2 2283.54 1468.8 Q2282.96 1469.47 2279.86 1472.69 Q2276.75 1475.88 2271.11 1481.64 Z\" fill=\"#000000\" fill-rule=\"evenodd\" fill-opacity=\"1\" /><path clip-path=\"url(#clip890)\" d=\"M2307.24 1454.1 Q2303.63 1454.1 2301.8 1457.66 Q2299.99 1461.2 2299.99 1468.33 Q2299.99 1475.44 2301.8 1479.01 Q2303.63 1482.55 2307.24 1482.55 Q2310.87 1482.55 2312.68 1479.01 Q2314.51 1475.44 2314.51 1468.33 Q2314.51 1461.2 2312.68 1457.66 Q2310.87 1454.1 2307.24 1454.1 M2307.24 1450.39 Q2313.05 1450.39 2316.11 1455 Q2319.18 1459.58 2319.18 1468.33 Q2319.18 1477.06 2316.11 1481.67 Q2313.05 1486.25 2307.24 1486.25 Q2301.43 1486.25 2298.35 1481.67 Q2295.3 1477.06 2295.3 1468.33 Q2295.3 1459.58 2298.35 1455 Q2301.43 1450.39 2307.24 1450.39 Z\" fill=\"#000000\" fill-rule=\"evenodd\" fill-opacity=\"1\" /><path clip-path=\"url(#clip890)\" d=\"M1300.2 1546.53 L1300.2 1568.04 L1294.34 1568.04 L1294.34 1546.72 Q1294.34 1541.66 1292.37 1539.14 Q1290.39 1536.63 1286.45 1536.63 Q1281.7 1536.63 1278.97 1539.65 Q1276.23 1542.68 1276.23 1547.9 L1276.23 1568.04 L1270.34 1568.04 L1270.34 1532.4 L1276.23 1532.4 L1276.23 1537.93 Q1278.33 1534.72 1281.16 1533.13 Q1284.03 1531.54 1287.75 1531.54 Q1293.89 1531.54 1297.05 1535.36 Q1300.2 1539.14 1300.2 1546.53 Z\" fill=\"#000000\" fill-rule=\"evenodd\" fill-opacity=\"1\" /><polyline clip-path=\"url(#clip892)\" style=\"stroke:#000000; stroke-linecap:round; stroke-linejoin:round; stroke-width:2; stroke-opacity:0.1; fill:none\" points=\"\n",
       "  217.783,1384.24 2352.76,1384.24 \n",
       "  \"/>\n",
       "<polyline clip-path=\"url(#clip892)\" style=\"stroke:#000000; stroke-linecap:round; stroke-linejoin:round; stroke-width:2; stroke-opacity:0.1; fill:none\" points=\"\n",
       "  217.783,1051.17 2352.76,1051.17 \n",
       "  \"/>\n",
       "<polyline clip-path=\"url(#clip892)\" style=\"stroke:#000000; stroke-linecap:round; stroke-linejoin:round; stroke-width:2; stroke-opacity:0.1; fill:none\" points=\"\n",
       "  217.783,718.111 2352.76,718.111 \n",
       "  \"/>\n",
       "<polyline clip-path=\"url(#clip892)\" style=\"stroke:#000000; stroke-linecap:round; stroke-linejoin:round; stroke-width:2; stroke-opacity:0.1; fill:none\" points=\"\n",
       "  217.783,385.047 2352.76,385.047 \n",
       "  \"/>\n",
       "<polyline clip-path=\"url(#clip892)\" style=\"stroke:#000000; stroke-linecap:round; stroke-linejoin:round; stroke-width:2; stroke-opacity:0.1; fill:none\" points=\"\n",
       "  217.783,51.9837 2352.76,51.9837 \n",
       "  \"/>\n",
       "<polyline clip-path=\"url(#clip890)\" style=\"stroke:#000000; stroke-linecap:round; stroke-linejoin:round; stroke-width:4; stroke-opacity:1; fill:none\" points=\"\n",
       "  217.783,1423.18 217.783,47.2441 \n",
       "  \"/>\n",
       "<polyline clip-path=\"url(#clip890)\" style=\"stroke:#000000; stroke-linecap:round; stroke-linejoin:round; stroke-width:4; stroke-opacity:1; fill:none\" points=\"\n",
       "  217.783,1384.24 236.681,1384.24 \n",
       "  \"/>\n",
       "<polyline clip-path=\"url(#clip890)\" style=\"stroke:#000000; stroke-linecap:round; stroke-linejoin:round; stroke-width:4; stroke-opacity:1; fill:none\" points=\"\n",
       "  217.783,1051.17 236.681,1051.17 \n",
       "  \"/>\n",
       "<polyline clip-path=\"url(#clip890)\" style=\"stroke:#000000; stroke-linecap:round; stroke-linejoin:round; stroke-width:4; stroke-opacity:1; fill:none\" points=\"\n",
       "  217.783,718.111 236.681,718.111 \n",
       "  \"/>\n",
       "<polyline clip-path=\"url(#clip890)\" style=\"stroke:#000000; stroke-linecap:round; stroke-linejoin:round; stroke-width:4; stroke-opacity:1; fill:none\" points=\"\n",
       "  217.783,385.047 236.681,385.047 \n",
       "  \"/>\n",
       "<polyline clip-path=\"url(#clip890)\" style=\"stroke:#000000; stroke-linecap:round; stroke-linejoin:round; stroke-width:4; stroke-opacity:1; fill:none\" points=\"\n",
       "  217.783,51.9837 236.681,51.9837 \n",
       "  \"/>\n",
       "<path clip-path=\"url(#clip890)\" d=\"M115.418 1397.58 L123.056 1397.58 L123.056 1371.22 L114.746 1372.88 L114.746 1368.62 L123.01 1366.96 L127.686 1366.96 L127.686 1397.58 L135.325 1397.58 L135.325 1401.52 L115.418 1401.52 L115.418 1397.58 Z\" fill=\"#000000\" fill-rule=\"evenodd\" fill-opacity=\"1\" /><path clip-path=\"url(#clip890)\" d=\"M144.769 1395.64 L149.653 1395.64 L149.653 1401.52 L144.769 1401.52 L144.769 1395.64 Z\" fill=\"#000000\" fill-rule=\"evenodd\" fill-opacity=\"1\" /><path clip-path=\"url(#clip890)\" d=\"M169.839 1370.04 Q166.227 1370.04 164.399 1373.6 Q162.593 1377.14 162.593 1384.27 Q162.593 1391.38 164.399 1394.94 Q166.227 1398.49 169.839 1398.49 Q173.473 1398.49 175.278 1394.94 Q177.107 1391.38 177.107 1384.27 Q177.107 1377.14 175.278 1373.6 Q173.473 1370.04 169.839 1370.04 M169.839 1366.33 Q175.649 1366.33 178.704 1370.94 Q181.783 1375.52 181.783 1384.27 Q181.783 1393 178.704 1397.61 Q175.649 1402.19 169.839 1402.19 Q164.028 1402.19 160.95 1397.61 Q157.894 1393 157.894 1384.27 Q157.894 1375.52 160.95 1370.94 Q164.028 1366.33 169.839 1366.33 Z\" fill=\"#000000\" fill-rule=\"evenodd\" fill-opacity=\"1\" /><path clip-path=\"url(#clip890)\" d=\"M116.644 1064.52 L124.283 1064.52 L124.283 1038.15 L115.973 1039.82 L115.973 1035.56 L124.237 1033.89 L128.913 1033.89 L128.913 1064.52 L136.552 1064.52 L136.552 1068.45 L116.644 1068.45 L116.644 1064.52 Z\" fill=\"#000000\" fill-rule=\"evenodd\" fill-opacity=\"1\" /><path clip-path=\"url(#clip890)\" d=\"M145.996 1062.58 L150.88 1062.58 L150.88 1068.45 L145.996 1068.45 L145.996 1062.58 Z\" fill=\"#000000\" fill-rule=\"evenodd\" fill-opacity=\"1\" /><path clip-path=\"url(#clip890)\" d=\"M161.876 1064.52 L169.514 1064.52 L169.514 1038.15 L161.204 1039.82 L161.204 1035.56 L169.468 1033.89 L174.144 1033.89 L174.144 1064.52 L181.783 1064.52 L181.783 1068.45 L161.876 1068.45 L161.876 1064.52 Z\" fill=\"#000000\" fill-rule=\"evenodd\" fill-opacity=\"1\" /><path clip-path=\"url(#clip890)\" d=\"M117.015 731.456 L124.654 731.456 L124.654 705.09 L116.343 706.757 L116.343 702.498 L124.607 700.831 L129.283 700.831 L129.283 731.456 L136.922 731.456 L136.922 735.391 L117.015 735.391 L117.015 731.456 Z\" fill=\"#000000\" fill-rule=\"evenodd\" fill-opacity=\"1\" /><path clip-path=\"url(#clip890)\" d=\"M146.366 729.511 L151.251 729.511 L151.251 735.391 L146.366 735.391 L146.366 729.511 Z\" fill=\"#000000\" fill-rule=\"evenodd\" fill-opacity=\"1\" /><path clip-path=\"url(#clip890)\" d=\"M165.464 731.456 L181.783 731.456 L181.783 735.391 L159.839 735.391 L159.839 731.456 Q162.501 728.701 167.084 724.072 Q171.69 719.419 172.871 718.076 Q175.116 715.553 175.996 713.817 Q176.899 712.058 176.899 710.368 Q176.899 707.613 174.954 705.877 Q173.033 704.141 169.931 704.141 Q167.732 704.141 165.278 704.905 Q162.848 705.669 160.07 707.22 L160.07 702.498 Q162.894 701.363 165.348 700.785 Q167.802 700.206 169.839 700.206 Q175.209 700.206 178.403 702.891 Q181.598 705.576 181.598 710.067 Q181.598 712.197 180.788 714.118 Q180.001 716.016 177.894 718.609 Q177.315 719.28 174.214 722.498 Q171.112 725.692 165.464 731.456 Z\" fill=\"#000000\" fill-rule=\"evenodd\" fill-opacity=\"1\" /><path clip-path=\"url(#clip890)\" d=\"M116.066 398.392 L123.705 398.392 L123.705 372.027 L115.394 373.693 L115.394 369.434 L123.658 367.767 L128.334 367.767 L128.334 398.392 L135.973 398.392 L135.973 402.327 L116.066 402.327 L116.066 398.392 Z\" fill=\"#000000\" fill-rule=\"evenodd\" fill-opacity=\"1\" /><path clip-path=\"url(#clip890)\" d=\"M145.417 396.448 L150.302 396.448 L150.302 402.327 L145.417 402.327 L145.417 396.448 Z\" fill=\"#000000\" fill-rule=\"evenodd\" fill-opacity=\"1\" /><path clip-path=\"url(#clip890)\" d=\"M174.653 383.693 Q178.01 384.411 179.885 386.679 Q181.783 388.948 181.783 392.281 Q181.783 397.397 178.264 400.198 Q174.746 402.999 168.264 402.999 Q166.089 402.999 163.774 402.559 Q161.482 402.142 159.028 401.286 L159.028 396.772 Q160.973 397.906 163.288 398.485 Q165.602 399.063 168.126 399.063 Q172.524 399.063 174.815 397.327 Q177.13 395.591 177.13 392.281 Q177.13 389.226 174.977 387.513 Q172.848 385.777 169.028 385.777 L165.001 385.777 L165.001 381.934 L169.214 381.934 Q172.663 381.934 174.491 380.568 Q176.32 379.179 176.32 376.587 Q176.32 373.925 174.422 372.513 Q172.547 371.078 169.028 371.078 Q167.107 371.078 164.908 371.494 Q162.709 371.911 160.07 372.79 L160.07 368.624 Q162.732 367.883 165.047 367.513 Q167.385 367.142 169.445 367.142 Q174.769 367.142 177.871 369.573 Q180.973 371.98 180.973 376.101 Q180.973 378.971 179.329 380.962 Q177.686 382.929 174.653 383.693 Z\" fill=\"#000000\" fill-rule=\"evenodd\" fill-opacity=\"1\" /><path clip-path=\"url(#clip890)\" d=\"M114.931 65.3285 L122.57 65.3285 L122.57 38.9629 L114.26 40.6296 L114.26 36.3704 L122.524 34.7037 L127.2 34.7037 L127.2 65.3285 L134.839 65.3285 L134.839 69.2637 L114.931 69.2637 L114.931 65.3285 Z\" fill=\"#000000\" fill-rule=\"evenodd\" fill-opacity=\"1\" /><path clip-path=\"url(#clip890)\" d=\"M144.283 63.3841 L149.167 63.3841 L149.167 69.2637 L144.283 69.2637 L144.283 63.3841 Z\" fill=\"#000000\" fill-rule=\"evenodd\" fill-opacity=\"1\" /><path clip-path=\"url(#clip890)\" d=\"M172.2 38.7778 L160.394 57.2267 L172.2 57.2267 L172.2 38.7778 M170.973 34.7037 L176.852 34.7037 L176.852 57.2267 L181.783 57.2267 L181.783 61.1156 L176.852 61.1156 L176.852 69.2637 L172.2 69.2637 L172.2 61.1156 L156.598 61.1156 L156.598 56.6017 L170.973 34.7037 Z\" fill=\"#000000\" fill-rule=\"evenodd\" fill-opacity=\"1\" /><path clip-path=\"url(#clip890)\" d=\"M16.4842 904.046 L16.4842 863.847 L21.895 863.847 L21.895 880.716 L64.0042 880.716 L64.0042 887.177 L21.895 887.177 L21.895 904.046 L16.4842 904.046 Z\" fill=\"#000000\" fill-rule=\"evenodd\" fill-opacity=\"1\" /><path clip-path=\"url(#clip890)\" d=\"M33.8307 846.819 Q33.2578 847.805 33.0032 848.983 Q32.7167 850.129 32.7167 851.529 Q32.7167 856.495 35.9632 859.168 Q39.1779 861.81 45.2253 861.81 L64.0042 861.81 L64.0042 867.698 L28.3562 867.698 L28.3562 861.81 L33.8944 861.81 Q30.6479 859.964 29.0883 857.004 Q27.4968 854.044 27.4968 849.811 Q27.4968 849.206 27.5923 848.474 Q27.656 847.742 27.8151 846.851 L33.8307 846.819 Z\" fill=\"#000000\" fill-rule=\"evenodd\" fill-opacity=\"1\" /><path clip-path=\"url(#clip890)\" d=\"M46.0847 824.475 Q46.0847 831.573 47.7079 834.31 Q49.3312 837.047 53.2461 837.047 Q56.3653 837.047 58.2114 835.01 Q60.0256 832.941 60.0256 829.409 Q60.0256 824.539 56.5881 821.611 Q53.1188 818.65 47.3897 818.65 L46.0847 818.65 L46.0847 824.475 M43.6657 812.794 L64.0042 812.794 L64.0042 818.65 L58.5933 818.65 Q61.8398 820.656 63.3994 823.648 Q64.9272 826.639 64.9272 830.968 Q64.9272 836.443 61.8716 839.689 Q58.7843 842.904 53.6281 842.904 Q47.6125 842.904 44.5569 838.893 Q41.5014 834.851 41.5014 826.862 L41.5014 818.65 L40.9285 818.65 Q36.8862 818.65 34.6901 821.324 Q32.4621 823.966 32.4621 828.772 Q32.4621 831.827 33.1941 834.724 Q33.9262 837.62 35.3903 840.294 L29.9795 840.294 Q28.7381 837.079 28.1334 834.055 Q27.4968 831.032 27.4968 828.167 Q27.4968 820.433 31.5072 816.613 Q35.5176 812.794 43.6657 812.794 Z\" fill=\"#000000\" fill-rule=\"evenodd\" fill-opacity=\"1\" /><path clip-path=\"url(#clip890)\" d=\"M28.3562 803.277 L28.3562 775.459 L33.7034 775.459 L59.3254 797.484 L59.3254 775.459 L64.0042 775.459 L64.0042 804.073 L58.657 804.073 L33.035 782.048 L33.035 803.277 L28.3562 803.277 Z\" fill=\"#000000\" fill-rule=\"evenodd\" fill-opacity=\"1\" /><path clip-path=\"url(#clip890)\" d=\"M46.0847 750.315 Q46.0847 757.412 47.7079 760.15 Q49.3312 762.887 53.2461 762.887 Q56.3653 762.887 58.2114 760.85 Q60.0256 758.781 60.0256 755.248 Q60.0256 750.378 56.5881 747.45 Q53.1188 744.49 47.3897 744.49 L46.0847 744.49 L46.0847 750.315 M43.6657 738.634 L64.0042 738.634 L64.0042 744.49 L58.5933 744.49 Q61.8398 746.495 63.3994 749.487 Q64.9272 752.479 64.9272 756.808 Q64.9272 762.282 61.8716 765.529 Q58.7843 768.743 53.6281 768.743 Q47.6125 768.743 44.5569 764.733 Q41.5014 760.691 41.5014 752.702 L41.5014 744.49 L40.9285 744.49 Q36.8862 744.49 34.6901 747.164 Q32.4621 749.805 32.4621 754.611 Q32.4621 757.667 33.1941 760.563 Q33.9262 763.46 35.3903 766.133 L29.9795 766.133 Q28.7381 762.919 28.1334 759.895 Q27.4968 756.871 27.4968 754.007 Q27.4968 746.272 31.5072 742.453 Q35.5176 738.634 43.6657 738.634 Z\" fill=\"#000000\" fill-rule=\"evenodd\" fill-opacity=\"1\" /><path clip-path=\"url(#clip890)\" d=\"M33.7671 682.393 L14.479 682.393 L14.479 676.536 L64.0042 676.536 L64.0042 682.393 L58.657 682.393 Q61.8398 684.239 63.3994 687.071 Q64.9272 689.872 64.9272 693.819 Q64.9272 700.28 59.771 704.354 Q54.6147 708.396 46.212 708.396 Q37.8093 708.396 32.6531 704.354 Q27.4968 700.28 27.4968 693.819 Q27.4968 689.872 29.0564 687.071 Q30.5842 684.239 33.7671 682.393 M46.212 702.349 Q52.6732 702.349 56.3653 699.707 Q60.0256 697.034 60.0256 692.387 Q60.0256 687.74 56.3653 685.066 Q52.6732 682.393 46.212 682.393 Q39.7508 682.393 36.0905 685.066 Q32.3984 687.74 32.3984 692.387 Q32.3984 697.034 36.0905 699.707 Q39.7508 702.349 46.212 702.349 Z\" fill=\"#000000\" fill-rule=\"evenodd\" fill-opacity=\"1\" /><path clip-path=\"url(#clip890)\" d=\"M44.7161 633.981 L47.5806 633.981 L47.5806 660.908 Q53.6281 660.526 56.8109 657.28 Q59.9619 654.001 59.9619 648.177 Q59.9619 644.803 59.1344 641.652 Q58.3069 638.469 56.6518 635.35 L62.1899 635.35 Q63.5267 638.501 64.227 641.811 Q64.9272 645.121 64.9272 648.527 Q64.9272 657.057 59.9619 662.054 Q54.9967 667.019 46.5303 667.019 Q37.7774 667.019 32.6531 662.309 Q27.4968 657.566 27.4968 649.545 Q27.4968 642.352 32.1438 638.183 Q36.7589 633.981 44.7161 633.981 M42.9973 639.838 Q38.1912 639.901 35.3266 642.543 Q32.4621 645.153 32.4621 649.482 Q32.4621 654.383 35.2312 657.343 Q38.0002 660.272 43.0292 660.717 L42.9973 639.838 Z\" fill=\"#000000\" fill-rule=\"evenodd\" fill-opacity=\"1\" /><path clip-path=\"url(#clip890)\" d=\"M41.7242 580.859 Q42.4244 578.791 44.7161 576.849 Q47.0077 574.876 51.0181 572.902 L64.0042 566.378 L64.0042 573.284 L51.8138 579.364 Q47.0395 581.719 45.48 583.947 Q43.9204 586.143 43.9204 589.962 L43.9204 596.965 L64.0042 596.965 L64.0042 603.394 L16.4842 603.394 L16.4842 588.88 Q16.4842 580.732 19.8898 576.722 Q23.2955 572.711 30.1704 572.711 Q34.6582 572.711 37.6183 574.812 Q40.5784 576.881 41.7242 580.859 M21.7677 596.965 L38.6368 596.965 L38.6368 588.88 Q38.6368 584.233 36.5043 581.878 Q34.34 579.491 30.1704 579.491 Q26.0009 579.491 23.9002 581.878 Q21.7677 584.233 21.7677 588.88 L21.7677 596.965 Z\" fill=\"#000000\" fill-rule=\"evenodd\" fill-opacity=\"1\" /><polyline clip-path=\"url(#clip892)\" style=\"stroke:#009af9; stroke-linecap:round; stroke-linejoin:round; stroke-width:4; stroke-opacity:1; fill:none\" points=\"\n",
       "  278.207,1384.24 384.213,422.766 490.22,174.515 596.227,111.572 702.233,95.7121 808.24,91.7271 914.246,90.7273 1020.25,90.4768 1126.26,90.414 1232.27,90.3983 \n",
       "  1338.27,90.3944 1444.28,90.3934 1550.29,90.3931 1656.29,87.5735 1762.3,87.3103 1868.31,87.0626 1974.31,86.8283 2080.32,86.6053 2186.33,86.3916 2292.33,86.1857 \n",
       "  \n",
       "  \"/>\n",
       "<circle clip-path=\"url(#clip892)\" cx=\"278.207\" cy=\"1384.24\" r=\"18\" fill=\"#009af9\" fill-rule=\"evenodd\" fill-opacity=\"1\" stroke=\"#000000\" stroke-opacity=\"1\" stroke-width=\"3.2\"/>\n",
       "<circle clip-path=\"url(#clip892)\" cx=\"384.213\" cy=\"422.766\" r=\"18\" fill=\"#009af9\" fill-rule=\"evenodd\" fill-opacity=\"1\" stroke=\"#000000\" stroke-opacity=\"1\" stroke-width=\"3.2\"/>\n",
       "<circle clip-path=\"url(#clip892)\" cx=\"490.22\" cy=\"174.515\" r=\"18\" fill=\"#009af9\" fill-rule=\"evenodd\" fill-opacity=\"1\" stroke=\"#000000\" stroke-opacity=\"1\" stroke-width=\"3.2\"/>\n",
       "<circle clip-path=\"url(#clip892)\" cx=\"596.227\" cy=\"111.572\" r=\"18\" fill=\"#009af9\" fill-rule=\"evenodd\" fill-opacity=\"1\" stroke=\"#000000\" stroke-opacity=\"1\" stroke-width=\"3.2\"/>\n",
       "<circle clip-path=\"url(#clip892)\" cx=\"702.233\" cy=\"95.7121\" r=\"18\" fill=\"#009af9\" fill-rule=\"evenodd\" fill-opacity=\"1\" stroke=\"#000000\" stroke-opacity=\"1\" stroke-width=\"3.2\"/>\n",
       "<circle clip-path=\"url(#clip892)\" cx=\"808.24\" cy=\"91.7271\" r=\"18\" fill=\"#009af9\" fill-rule=\"evenodd\" fill-opacity=\"1\" stroke=\"#000000\" stroke-opacity=\"1\" stroke-width=\"3.2\"/>\n",
       "<circle clip-path=\"url(#clip892)\" cx=\"914.246\" cy=\"90.7273\" r=\"18\" fill=\"#009af9\" fill-rule=\"evenodd\" fill-opacity=\"1\" stroke=\"#000000\" stroke-opacity=\"1\" stroke-width=\"3.2\"/>\n",
       "<circle clip-path=\"url(#clip892)\" cx=\"1020.25\" cy=\"90.4768\" r=\"18\" fill=\"#009af9\" fill-rule=\"evenodd\" fill-opacity=\"1\" stroke=\"#000000\" stroke-opacity=\"1\" stroke-width=\"3.2\"/>\n",
       "<circle clip-path=\"url(#clip892)\" cx=\"1126.26\" cy=\"90.414\" r=\"18\" fill=\"#009af9\" fill-rule=\"evenodd\" fill-opacity=\"1\" stroke=\"#000000\" stroke-opacity=\"1\" stroke-width=\"3.2\"/>\n",
       "<circle clip-path=\"url(#clip892)\" cx=\"1232.27\" cy=\"90.3983\" r=\"18\" fill=\"#009af9\" fill-rule=\"evenodd\" fill-opacity=\"1\" stroke=\"#000000\" stroke-opacity=\"1\" stroke-width=\"3.2\"/>\n",
       "<circle clip-path=\"url(#clip892)\" cx=\"1338.27\" cy=\"90.3944\" r=\"18\" fill=\"#009af9\" fill-rule=\"evenodd\" fill-opacity=\"1\" stroke=\"#000000\" stroke-opacity=\"1\" stroke-width=\"3.2\"/>\n",
       "<circle clip-path=\"url(#clip892)\" cx=\"1444.28\" cy=\"90.3934\" r=\"18\" fill=\"#009af9\" fill-rule=\"evenodd\" fill-opacity=\"1\" stroke=\"#000000\" stroke-opacity=\"1\" stroke-width=\"3.2\"/>\n",
       "<circle clip-path=\"url(#clip892)\" cx=\"1550.29\" cy=\"90.3931\" r=\"18\" fill=\"#009af9\" fill-rule=\"evenodd\" fill-opacity=\"1\" stroke=\"#000000\" stroke-opacity=\"1\" stroke-width=\"3.2\"/>\n",
       "<circle clip-path=\"url(#clip892)\" cx=\"1656.29\" cy=\"87.5735\" r=\"18\" fill=\"#009af9\" fill-rule=\"evenodd\" fill-opacity=\"1\" stroke=\"#000000\" stroke-opacity=\"1\" stroke-width=\"3.2\"/>\n",
       "<circle clip-path=\"url(#clip892)\" cx=\"1762.3\" cy=\"87.3103\" r=\"18\" fill=\"#009af9\" fill-rule=\"evenodd\" fill-opacity=\"1\" stroke=\"#000000\" stroke-opacity=\"1\" stroke-width=\"3.2\"/>\n",
       "<circle clip-path=\"url(#clip892)\" cx=\"1868.31\" cy=\"87.0626\" r=\"18\" fill=\"#009af9\" fill-rule=\"evenodd\" fill-opacity=\"1\" stroke=\"#000000\" stroke-opacity=\"1\" stroke-width=\"3.2\"/>\n",
       "<circle clip-path=\"url(#clip892)\" cx=\"1974.31\" cy=\"86.8283\" r=\"18\" fill=\"#009af9\" fill-rule=\"evenodd\" fill-opacity=\"1\" stroke=\"#000000\" stroke-opacity=\"1\" stroke-width=\"3.2\"/>\n",
       "<circle clip-path=\"url(#clip892)\" cx=\"2080.32\" cy=\"86.6053\" r=\"18\" fill=\"#009af9\" fill-rule=\"evenodd\" fill-opacity=\"1\" stroke=\"#000000\" stroke-opacity=\"1\" stroke-width=\"3.2\"/>\n",
       "<circle clip-path=\"url(#clip892)\" cx=\"2186.33\" cy=\"86.3916\" r=\"18\" fill=\"#009af9\" fill-rule=\"evenodd\" fill-opacity=\"1\" stroke=\"#000000\" stroke-opacity=\"1\" stroke-width=\"3.2\"/>\n",
       "<circle clip-path=\"url(#clip892)\" cx=\"2292.33\" cy=\"86.1857\" r=\"18\" fill=\"#009af9\" fill-rule=\"evenodd\" fill-opacity=\"1\" stroke=\"#000000\" stroke-opacity=\"1\" stroke-width=\"3.2\"/>\n",
       "<path clip-path=\"url(#clip890)\" d=\"\n",
       "M1873.12 196.789 L2281.59 196.789 L2281.59 93.1086 L1873.12 93.1086  Z\n",
       "  \" fill=\"#ffffff\" fill-rule=\"evenodd\" fill-opacity=\"1\"/>\n",
       "<polyline clip-path=\"url(#clip890)\" style=\"stroke:#000000; stroke-linecap:round; stroke-linejoin:round; stroke-width:4; stroke-opacity:1; fill:none\" points=\"\n",
       "  1873.12,196.789 2281.59,196.789 2281.59,93.1086 1873.12,93.1086 1873.12,196.789 \n",
       "  \"/>\n",
       "<polyline clip-path=\"url(#clip890)\" style=\"stroke:#009af9; stroke-linecap:round; stroke-linejoin:round; stroke-width:4; stroke-opacity:1; fill:none\" points=\"\n",
       "  1896.84,144.949 2039.18,144.949 \n",
       "  \"/>\n",
       "<circle clip-path=\"url(#clip890)\" cx=\"1968.01\" cy=\"144.949\" r=\"19.7683\" fill=\"#009af9\" fill-rule=\"evenodd\" fill-opacity=\"1\" stroke=\"#000000\" stroke-opacity=\"1\" stroke-width=\"4.096\"/>\n",
       "<path clip-path=\"url(#clip890)\" d=\"M2062.9 127.669 L2092.13 127.669 L2092.13 131.604 L2079.86 131.604 L2079.86 162.229 L2075.17 162.229 L2075.17 131.604 L2062.9 131.604 L2062.9 127.669 Z\" fill=\"#000000\" fill-rule=\"evenodd\" fill-opacity=\"1\" /><path clip-path=\"url(#clip890)\" d=\"M2104.52 140.284 Q2103.8 139.868 2102.94 139.682 Q2102.11 139.474 2101.09 139.474 Q2097.48 139.474 2095.54 141.835 Q2093.61 144.173 2093.61 148.571 L2093.61 162.229 L2089.33 162.229 L2089.33 136.303 L2093.61 136.303 L2093.61 140.331 Q2094.96 137.969 2097.11 136.835 Q2099.26 135.678 2102.34 135.678 Q2102.78 135.678 2103.31 135.747 Q2103.85 135.794 2104.49 135.909 L2104.52 140.284 Z\" fill=\"#000000\" fill-rule=\"evenodd\" fill-opacity=\"1\" /><path clip-path=\"url(#clip890)\" d=\"M2120.77 149.196 Q2115.61 149.196 2113.61 150.377 Q2111.62 151.557 2111.62 154.405 Q2111.62 156.673 2113.11 158.016 Q2114.61 159.335 2117.18 159.335 Q2120.72 159.335 2122.85 156.835 Q2125 154.312 2125 150.145 L2125 149.196 L2120.77 149.196 M2129.26 147.437 L2129.26 162.229 L2125 162.229 L2125 158.293 Q2123.55 160.655 2121.37 161.789 Q2119.19 162.9 2116.05 162.9 Q2112.06 162.9 2109.7 160.678 Q2107.36 158.432 2107.36 154.682 Q2107.36 150.307 2110.28 148.085 Q2113.22 145.863 2119.03 145.863 L2125 145.863 L2125 145.446 Q2125 142.507 2123.06 140.909 Q2121.14 139.289 2117.64 139.289 Q2115.42 139.289 2113.31 139.821 Q2111.21 140.354 2109.26 141.419 L2109.26 137.483 Q2111.6 136.581 2113.8 136.141 Q2116 135.678 2118.08 135.678 Q2123.71 135.678 2126.48 138.594 Q2129.26 141.511 2129.26 147.437 Z\" fill=\"#000000\" fill-rule=\"evenodd\" fill-opacity=\"1\" /><path clip-path=\"url(#clip890)\" d=\"M2136.18 136.303 L2156.42 136.303 L2156.42 140.192 L2140.4 158.826 L2156.42 158.826 L2156.42 162.229 L2135.61 162.229 L2135.61 158.34 L2151.62 139.706 L2136.18 139.706 L2136.18 136.303 Z\" fill=\"#000000\" fill-rule=\"evenodd\" fill-opacity=\"1\" /><path clip-path=\"url(#clip890)\" d=\"M2174.7 149.196 Q2169.54 149.196 2167.55 150.377 Q2165.56 151.557 2165.56 154.405 Q2165.56 156.673 2167.04 158.016 Q2168.54 159.335 2171.11 159.335 Q2174.66 159.335 2176.79 156.835 Q2178.94 154.312 2178.94 150.145 L2178.94 149.196 L2174.7 149.196 M2183.2 147.437 L2183.2 162.229 L2178.94 162.229 L2178.94 158.293 Q2177.48 160.655 2175.3 161.789 Q2173.13 162.9 2169.98 162.9 Q2166 162.9 2163.64 160.678 Q2161.3 158.432 2161.3 154.682 Q2161.3 150.307 2164.22 148.085 Q2167.16 145.863 2172.97 145.863 L2178.94 145.863 L2178.94 145.446 Q2178.94 142.507 2176.99 140.909 Q2175.07 139.289 2171.58 139.289 Q2169.35 139.289 2167.25 139.821 Q2165.14 140.354 2163.2 141.419 L2163.2 137.483 Q2165.54 136.581 2167.73 136.141 Q2169.93 135.678 2172.02 135.678 Q2177.64 135.678 2180.42 138.594 Q2183.2 141.511 2183.2 147.437 Z\" fill=\"#000000\" fill-rule=\"evenodd\" fill-opacity=\"1\" /><path clip-path=\"url(#clip890)\" d=\"M2223.61 146.025 Q2225.12 146.534 2226.53 148.201 Q2227.97 149.868 2229.4 152.784 L2234.15 162.229 L2229.12 162.229 L2224.7 153.363 Q2222.99 149.891 2221.37 148.756 Q2219.77 147.622 2216.99 147.622 L2211.9 147.622 L2211.9 162.229 L2207.23 162.229 L2207.23 127.669 L2217.78 127.669 Q2223.71 127.669 2226.62 130.145 Q2229.54 132.622 2229.54 137.622 Q2229.54 140.886 2228.01 143.039 Q2226.51 145.192 2223.61 146.025 M2211.9 131.511 L2211.9 143.78 L2217.78 143.78 Q2221.16 143.78 2222.87 142.229 Q2224.61 140.655 2224.61 137.622 Q2224.61 134.59 2222.87 133.062 Q2221.16 131.511 2217.78 131.511 L2211.9 131.511 Z\" fill=\"#000000\" fill-rule=\"evenodd\" fill-opacity=\"1\" /></svg>\n"
      ]
     },
     "execution_count": 14,
     "metadata": {},
     "output_type": "execute_result"
    }
   ],
   "source": [
    "trazas=zeros(20)\n",
    "n_vec=zeros(20)\n",
    "for i=1:13\n",
    "    n_vec[i]=i\n",
    "    A=Hilbert{Float64}(i,i)\n",
    "    ChA=cholesky(A)\n",
    "    trazas[i]=tr(ChA.L) \n",
    "end\n",
    "for n=14:20\n",
    "    n_vec[n]=n\n",
    "    A=Hilbert{Float64}(n,n)\n",
    "    A1=A+(Matrix{Float64}(I,n,n))*0.000000001\n",
    "    CH=cholesky(A1)\n",
    "    trazas[n]=tr(CH.L)  \n",
    "end\n",
    "plot(n_vec,trazas,label=\"Traza R\",marker=(:circle,5),xlabel=\"n\",ylabel=\"Traza de R\")"
   ]
  },
  {
   "cell_type": "markdown",
   "id": "8aeba530",
   "metadata": {},
   "source": [
    "## Problema 3\n",
    "\n",
    "Considere la matriz de Hilbert $H(n)$ con $n=4,5,\\dots,20$. Existe una fórmula exacta para la inversa de $H(n)$, implemente esta fórmula. Con el comando de MatLab o Python para calcular la inversa calcule $G=\\mbox{inv}(H(n))$. Compare y comente los resultados.\n",
    "\n",
    "### Solución\n",
    "\n",
    "Recordemos que la fórmula para la inversa de la matriz de Hilbert es\n",
    "\n",
    "$$\n",
    "(H^{-1})_{ij}=(-1)^{i+j}(i+j-1){n+i-1 \\choose n-j}{n+j-1 \\choose n-i}{i+j-2 \\choose i-1}^2.\n",
    "$$\n",
    "\n",
    "Al implementarla"
   ]
  },
  {
   "cell_type": "code",
   "execution_count": 15,
   "id": "b309e3c5",
   "metadata": {},
   "outputs": [
    {
     "data": {
      "text/plain": [
       "Hilb_inv (generic function with 1 method)"
      ]
     },
     "execution_count": 15,
     "metadata": {},
     "output_type": "execute_result"
    }
   ],
   "source": [
    "function Hilb_inv(n)\n",
    "    H=Hilbert{Float64}(n,n)\n",
    "    Hinv=zeros(n,n)\n",
    "    for i=1:n\n",
    "        for j=1:n\n",
    "            Hinv[i,j]=(-1)^(i+j)*(i+j-1)*binomial(n+i-1,n-j)*binomial(n+j-1,n-i)*(binomial(i+j-2,i-1))^2\n",
    "        end\n",
    "    end\n",
    "    return Hinv\n",
    "end"
   ]
  },
  {
   "cell_type": "code",
   "execution_count": 16,
   "id": "320914e0",
   "metadata": {},
   "outputs": [
    {
     "name": "stdout",
     "output_type": "stream",
     "text": [
      "[0.0 0.0 0.0 0.0 0.0 0.0 0.0 0.0 0.0 0.0 0.0 0.0 0.0 0.0 0.0 0.0 0.0 0.0 0.0 0.0; 0.0 0.0 0.0 0.0 0.0 0.0 0.0 0.0 0.0 0.0 0.0 0.0 0.0 0.0 0.0 0.0 0.0 0.0 0.0 0.0; 0.0 0.0 0.0 0.0 0.0 0.0 0.0 0.0 0.0 0.0 0.0 0.0 0.0 0.0 0.0 0.0 0.0 0.0 0.0 0.0; 0.0 0.0 0.0 0.0 0.0 0.0 0.0 0.0 0.0 0.0 0.0 0.0 0.0 0.0 0.0 0.0 0.0 0.0 0.0 0.0; 0.0 0.0 0.0 0.0 0.0 0.0 0.0 0.0 0.0 0.0 0.0 0.0 0.0 0.0 0.0 0.0 0.0 0.0 0.0 0.0; 0.0 0.0 0.0 0.0 0.0 0.0 0.0 0.0 0.0 0.0 0.0 0.0 0.0 0.0 0.0 0.0 0.0 0.0 0.0 0.0; 0.0 0.0 0.0 0.0 0.0 0.0 0.0 0.0 0.0 0.0 0.0 0.0 0.0 0.0 0.0 0.0 0.0 0.0 0.0 0.0; 0.0 0.0 0.0 0.0 0.0 0.0 0.0 0.0 0.0 0.0 0.0 0.0 0.0 0.0 0.0 0.0 0.0 0.0 0.0 0.0; 0.0 0.0 0.0 0.0 0.0 0.0 0.0 0.0 0.0 0.0 0.0 0.0 0.0 0.0 0.0 0.0 0.0 0.0 0.0 0.0; 0.0 0.0 0.0 0.0 0.0 0.0 0.0 0.0 0.0 0.0 0.0 0.0 0.0 0.0 0.0 0.0 0.0 0.0 0.0 0.0; 0.0 0.0 0.0 0.0 0.0 0.0 0.0 0.0 0.0 0.0 0.0 0.0 0.0 0.0 0.0 0.0 0.0 0.0 0.0 0.0; 0.0 0.0 0.0 0.0 0.0 0.0 0.0 0.0 0.0 0.0 0.0 0.0 0.0 0.0 0.0 0.0 0.0 0.0 0.0 0.0; 0.0 0.0 0.0 0.0 0.0 0.0 0.0 0.0 0.0 0.0 0.0 0.0 0.0 0.0 0.0 0.0 0.0 0.0 0.0 0.0; 0.0 0.0 0.0 0.0 0.0 0.0 0.0 0.0 0.0 0.0 0.0 0.0 0.0 0.0 0.0 0.0 0.0 0.0 0.0 0.0; 0.0 0.0 0.0 0.0 0.0 0.0 0.0 0.0 0.0 0.0 0.0 0.0 0.0 0.0 0.0 0.0 0.0 0.0 0.0 0.0; 0.0 0.0 0.0 0.0 0.0 0.0 0.0 0.0 0.0 0.0 0.0 0.0 0.0 0.0 0.0 0.0 0.0 0.0 0.0 0.0; 0.0 0.0 0.0 0.0 0.0 0.0 0.0 0.0 0.0 0.0 0.0 0.0 0.0 0.0 0.0 0.0 0.0 0.0 0.0 0.0; 0.0 0.0 0.0 0.0 0.0 0.0 0.0 0.0 0.0 0.0 0.0 0.0 0.0 0.0 0.0 0.0 0.0 0.0 0.0 0.0; 0.0 0.0 0.0 0.0 0.0 0.0 0.0 0.0 0.0 0.0 0.0 0.0 0.0 0.0 0.0 0.0 0.0 0.0 0.0 0.0; 0.0 0.0 0.0 0.0 0.0 0.0 0.0 0.0 0.0 0.0 0.0 0.0 0.0 0.0 0.0 0.0 0.0 0.0 0.0 0.0]\n"
     ]
    }
   ],
   "source": [
    "   dif=(Hilb_inv(20)-inv(Hilbert{Float64}(20,20)))\n",
    "   println(dif)"
   ]
  },
  {
   "cell_type": "markdown",
   "id": "fd9ac5df",
   "metadata": {},
   "source": [
    "Como se puede ver la diferencia entre implementar la fórmula y calcular la inversa con el algoritmo dado por Julia no difieren, esto se debe a que probablemente el algoritmo implementado en Julia interprete que debe usar esa fórmula, muestra de ello es que si calculamos la inversa de $H(35)$ con el método implementado a tráves de la fórmula y con el método de Julia nos da el mismo error\n",
    "```\n",
    "# OverflowError: binomial(67, 34) overflows.\n",
    "```\n",
    "Sin embargo, si lo hiciemos en otros lenguajes de programación con una implementación génerica para hallar las inversas a tráves de algoritmos que son el mismo independiente de la matriz veriamos que a partir de cierto valor de $n$ el error introducido por las múltiples operaciones hechas realizaria que empiecen a aparecer valores que difieren del valor producido por la fórmula, esto se debe a que la mariz de Hilbert está mal condicionada."
   ]
  },
  {
   "cell_type": "code",
   "execution_count": 17,
   "id": "4b089e33",
   "metadata": {},
   "outputs": [
    {
     "ename": "LoadError",
     "evalue": "OverflowError: binomial(67, 34) overflows",
     "output_type": "error",
     "traceback": [
      "OverflowError: binomial(67, 34) overflows",
      "",
      "Stacktrace:",
      " [1] binomial(n::Int64, k::Int64)",
      "   @ Base .\\intfuncs.jl:1072",
      " [2] Hilb_inv(n::Int64)",
      "   @ Main .\\In[15]:6",
      " [3] top-level scope",
      "   @ In[17]:1",
      " [4] eval",
      "   @ .\\boot.jl:368 [inlined]",
      " [5] include_string(mapexpr::typeof(REPL.softscope), mod::Module, code::String, filename::String)",
      "   @ Base .\\loading.jl:1428"
     ]
    }
   ],
   "source": [
    "Hilb_inv(35)"
   ]
  },
  {
   "cell_type": "code",
   "execution_count": 18,
   "id": "59798d4b",
   "metadata": {},
   "outputs": [
    {
     "ename": "OverflowError",
     "evalue": "OverflowError: binomial(67, 34) overflows",
     "output_type": "error",
     "traceback": [
      "OverflowError: binomial(67, 34) overflows",
      "",
      "Stacktrace:",
      "  [1] binomial(n::Int64, k::Int64)",
      "    @ Base .\\intfuncs.jl:1072",
      "  [2] getindex(A::InverseHilbert{Float64}, i::Int64, j::Int64)",
      "    @ SpecialMatrices C:\\Users\\user\\.julia\\packages\\SpecialMatrices\\KGhiQ\\src\\hilbert.jl:79",
      "  [3] isassigned(::InverseHilbert{Float64}, ::Int64, ::Int64)",
      "    @ Base .\\abstractarray.jl:565",
      "  [4] alignment(io::IOContext{IOBuffer}, X::AbstractVecOrMat, rows::Vector{Int64}, cols::Vector{Int64}, cols_if_complete::Int64, cols_otherwise::Int64, sep::Int64, ncols::Int64)",
      "    @ Base .\\arrayshow.jl:68",
      "  [5] _print_matrix(io::IOContext{IOBuffer}, X::AbstractVecOrMat, pre::String, sep::String, post::String, hdots::String, vdots::String, ddots::String, hmod::Int64, vmod::Int64, rowsA::UnitRange{Int64}, colsA::UnitRange{Int64})",
      "    @ Base .\\arrayshow.jl:207",
      "  [6] print_matrix(io::IOContext{IOBuffer}, X::InverseHilbert{Float64}, pre::String, sep::String, post::String, hdots::String, vdots::String, ddots::String, hmod::Int64, vmod::Int64) (repeats 2 times)",
      "    @ Base .\\arrayshow.jl:171",
      "  [7] print_array",
      "    @ .\\arrayshow.jl:358 [inlined]",
      "  [8] show(io::IOContext{IOBuffer}, #unused#::MIME{Symbol(\"text/plain\")}, X::InverseHilbert{Float64})",
      "    @ Base .\\arrayshow.jl:399",
      "  [9] limitstringmime(mime::MIME{Symbol(\"text/plain\")}, x::InverseHilbert{Float64})",
      "    @ IJulia C:\\Users\\user\\.julia\\packages\\IJulia\\AQu2H\\src\\inline.jl:43",
      " [10] display_mimestring",
      "    @ C:\\Users\\user\\.julia\\packages\\IJulia\\AQu2H\\src\\display.jl:71 [inlined]",
      " [11] display_dict(x::InverseHilbert{Float64})",
      "    @ IJulia C:\\Users\\user\\.julia\\packages\\IJulia\\AQu2H\\src\\display.jl:102",
      " [12] #invokelatest#2",
      "    @ .\\essentials.jl:729 [inlined]",
      " [13] invokelatest",
      "    @ .\\essentials.jl:726 [inlined]",
      " [14] execute_request(socket::ZMQ.Socket, msg::IJulia.Msg)",
      "    @ IJulia C:\\Users\\user\\.julia\\packages\\IJulia\\AQu2H\\src\\execute_request.jl:112",
      " [15] #invokelatest#2",
      "    @ .\\essentials.jl:729 [inlined]",
      " [16] invokelatest",
      "    @ .\\essentials.jl:726 [inlined]",
      " [17] eventloop(socket::ZMQ.Socket)",
      "    @ IJulia C:\\Users\\user\\.julia\\packages\\IJulia\\AQu2H\\src\\eventloop.jl:8",
      " [18] (::IJulia.var\"#15#18\")()",
      "    @ IJulia .\\task.jl:484"
     ]
    }
   ],
   "source": [
    "inv(Hilbert{Float64}(35,35))"
   ]
  },
  {
   "cell_type": "markdown",
   "id": "56faced0",
   "metadata": {},
   "source": [
    "## Problema 4\n",
    "\n",
    "Considere la matriz en https://suitesparse-collection-website.herokuapp.com/Sandia/oscil_dcop_21. El archivo .mat puede ser recuperado de \n",
    "https://suitesparse-collection-website.herokuapp.com/mat/Sandia/oscil_dcop_21.mat .\n",
    "Gráfique el patrón de dispersión de esta matriz. Liste (con justificación numérica) las propiedades de esta matriz. "
   ]
  },
  {
   "cell_type": "code",
   "execution_count": 19,
   "id": "dc7e9a1f",
   "metadata": {},
   "outputs": [],
   "source": [
    "file = matopen(\"oscil_dcop_21.mat\")\n",
    "foo=read(file, \"Problem\") \n",
    "close(file)"
   ]
  },
  {
   "cell_type": "code",
   "execution_count": 20,
   "id": "b06e87a7",
   "metadata": {},
   "outputs": [
    {
     "data": {
      "text/plain": [
       "430×430 SparseArrays.SparseMatrixCSC{Float64, Int64} with 1544 stored entries:\n",
       "⣛⢘⠧⠷⢀⡀⠀⠀⢀⡀⠀⠀⠀⠀⠀⠀⠀⠀⠀⠀⠀⠀⠀⠀⠀⠀⠀⠀⠀⠀⠀⠀⠀⠀⠀⠀⠀⠀⠀⠀\n",
       "⢭⡇⠛⢄⠁⠹⢤⣀⠘⢗⢤⠀⠀⠀⠀⠀⠀⠀⠀⠀⠀⠀⠀⠀⠀⠀⠀⠀⠀⠀⠀⠀⠀⠀⠀⠀⠀⠀⠀⠀\n",
       "⠀⠰⣇⡀⠛⢄⠀⠈⠱⣈⠈⠀⠀⠀⠀⠀⠀⠀⠀⠀⠀⠀⠀⠀⠀⠀⠀⠀⠀⠀⠀⠀⠀⠀⠀⠀⠀⠀⠀⠀\n",
       "⠀⠀⠀⢳⡤⡀⠱⣄⠉⠈⢱⡀⠀⠀⠀⠀⠀⠀⠀⠀⠀⠀⠀⠀⠀⠀⠀⠀⠀⠀⠀⠀⠀⠀⠀⠀⠀⠀⠀⠀\n",
       "⠀⠰⢶⢄⡑⢢⡃⠀⣱⢞⢰⠋⠣⠀⠀⠀⠀⠀⠀⠓⠢⣀⠀⠀⠀⠀⠀⠀⠀⠀⠀⠀⠀⠀⠀⠀⠀⠀⠀⠀\n",
       "⠀⠀⠀⠓⠂⠀⠑⠲⡴⠒⠑⢄⡈⠈⡄⠄⠠⢀⢀⠘⠀⠈⠜⠆⠀⠀⠀⠀⠀⠀⠀⠀⠀⠀⠀⠀⠀⠀⠀⠀\n",
       "⠀⠀⠀⠀⠀⠀⠀⠀⠉⠂⡂⠈⠑⢄⣄⠀⠀⠀⠀⠁⡶⢢⣀⠀⠀⠀⠀⠀⠀⠀⠀⠀⠀⠀⠀⠀⠀⠀⠀⠀\n",
       "⠀⠀⠀⠀⠀⠀⠀⠀⠀⠀⠀⠍⠀⠙⢑⣴⡢⠀⠀⠀⡀⠀⢄⠀⠀⣒⢶⣤⣀⠀⠀⠀⠀⠀⠀⠀⠀⠀⠀⠀\n",
       "⠀⠀⠀⠀⠀⠀⠀⠀⠀⠀⠀⢂⠀⠀⠈⠊⠑⣤⣄⠀⠀⠀⡐⠐⠘⠀⠃⠂⠉⠙⢠⡦⣤⣄⠀⠀⠀⠀⠀⠀\n",
       "⠀⠀⠀⠀⠀⠀⠀⠀⢤⠀⣀⠐⠄⠀⠀⠀⠀⠙⠛⢄⠁⠀⡘⠀⠂⠀⠀⠀⠀⠀⠂⠐⠑⠈⠙⠳⢤⠀⠀⠀\n",
       "⠀⠀⠀⠀⠀⠀⠀⠀⠈⢢⡀⠀⠸⣋⠀⠈⠀⠀⠁⠀⠑⣤⡜⣆⠀⠀⠀⠀⠀⠀⠀⠀⠀⠀⠀⠀⢀⢁⣟⠶\n",
       "⠀⠀⠀⠀⠀⠀⠀⠀⠀⠀⠲⠅⠀⠘⠀⠑⢐⠈⠒⠈⠲⢭⠑⢄⠒⠂⠀⠀⠐⠂⠒⠀⠀⠀⠒⠀⠈⠚⠀⠀\n",
       "⠀⠀⠀⠀⠀⠀⠀⠀⠀⠀⠀⠀⠀⠀⢠⢠⠒⠀⠈⠀⠀⠀⠸⠀⠱⣦⡀⠀⠀⠀⠀⠀⠀⠀⠀⠀⠀⠀⠀⠀\n",
       "⠀⠀⠀⠀⠀⠀⠀⠀⠀⠀⠀⠀⠀⠀⠘⣷⠩⠀⠀⠀⠀⠀⠀⠀⠀⠈⠛⣤⡀⠀⠀⠀⠀⠀⠀⠀⠀⠀⠀⠀\n",
       "⠀⠀⠀⠀⠀⠀⠀⠀⠀⠀⠀⠀⠀⠀⠀⠘⣇⠀⠀⠀⠀⠀⠰⠀⠀⠀⠀⠈⠻⢆⠀⠀⠀⠀⠀⠀⠀⠀⠀⠀\n",
       "⠀⠀⠀⠀⠀⠀⠀⠀⠀⠀⠀⠀⠀⠀⠀⠀⠠⡶⢈⠀⠀⠀⠘⠀⠀⠀⠀⠀⠀⠀⠻⣦⠀⠀⠀⠀⠀⠀⠀⠀\n",
       "⠀⠀⠀⠀⠀⠀⠀⠀⠀⠀⠀⠀⠀⠀⠀⠀⠀⢿⡑⠀⠀⠀⠀⠀⠀⠀⠀⠀⠀⠀⠀⠀⠱⣦⡀⠀⠀⠀⠀⠀\n",
       "⠀⠀⠀⠀⠀⢀⠀⠀⠀⠀⠀⢀⠀⠀⠀⠀⠀⠀⢷⡀⠀⠀⠘⠀⠀⠀⠀⠀⠀⠀⠀⠀⠀⠈⠑⣤⠀⠀⠀⠀\n",
       "⠀⠀⠀⠀⠀⠀⠁⠀⠀⠀⠀⠀⠁⠀⠀⠀⠀⠀⠀⠓⠄⢐⣢⠀⠀⠀⠀⠀⠀⠀⠀⠀⠀⠀⠀⠀⠱⣦⠀⠀\n",
       "⠀⠀⠀⠀⠀⠀⠀⠀⠀⠀⠀⠀⠀⠀⠀⠀⠀⠀⠀⠀⢻⡝⠀⠀⠀⠀⠀⠀⠀⠀⠀⠀⠀⠀⠀⠀⠀⠀⠱⣦"
      ]
     },
     "execution_count": 20,
     "metadata": {},
     "output_type": "execute_result"
    }
   ],
   "source": [
    "var=[\"A\"]\n",
    "DD=get.([foo],var,\"A\")\n",
    "M=DD[1]"
   ]
  },
  {
   "cell_type": "code",
   "execution_count": 21,
   "id": "3b1a9e44",
   "metadata": {},
   "outputs": [
    {
     "name": "stdout",
     "output_type": "stream",
     "text": [
      "Rango de la matriz: 424\n",
      "Norma subordinada de la matriz: 1.002006574622e6\n",
      "Mínimo autovalor: -8.595342038368048e-18\n",
      "¿Es simétrica? false, y por tanto tampoco es definida positiva, por lo que no perimte factorización de Cholesky"
     ]
    }
   ],
   "source": [
    "print(\"Rango de la matriz: \",rank(M),\"\\n\")\n",
    "print(\"Norma subordinada de la matriz: \",norm(M,Inf),\"\\n\")\n",
    "print(\"Mínimo autovalor: \",min(eigen(A).values...),\"\\n\")\n",
    "print(\"¿Es simétrica? \", issymmetric(M),\", y por tanto tampoco es definida positiva, por lo que no perimte factorización de Cholesky\")"
   ]
  },
  {
   "cell_type": "markdown",
   "id": "2c287032",
   "metadata": {},
   "source": [
    "# Problema 5\n",
    "\n",
    "Considere la matriz en https://suitesparse-collection-website.herokuapp.com/Sandia/oscil_dcop_21. Use un método iterativo (diferente de Jacobi) para resolver el sistema $Ax=b$\n",
    "con $b=(1,1,\\dots,1)$. \n",
    "\n",
    "### Solución"
   ]
  },
  {
   "cell_type": "code",
   "execution_count": 49,
   "id": "96093f4a",
   "metadata": {},
   "outputs": [
    {
     "data": {
      "text/plain": [
       "Gauss_Seidel (generic function with 1 method)"
      ]
     },
     "execution_count": 49,
     "metadata": {},
     "output_type": "execute_result"
    }
   ],
   "source": [
    "function Gauss_Seidel(A,b,tol,Niter,n)\n",
    "    x=0.05*ones(n)\n",
    "    for m=1:Niter\n",
    "        if norm(A*x-b,2)<=tol\n",
    "            return x\n",
    "        end\n",
    "        for i=1:n\n",
    "            z=0\n",
    "            for j=1:n\n",
    "                if j != i\n",
    "                    z=z+A[i,j]*x[j]\n",
    "                end\n",
    "            end\n",
    "                x[i]=(b[i]-z)/A[i,i]\n",
    "        end\n",
    "    end\n",
    "    return x\n",
    "end"
   ]
  },
  {
   "cell_type": "code",
   "execution_count": null,
   "id": "223315b8",
   "metadata": {
    "scrolled": true
   },
   "outputs": [],
   "source": [
    "b=ones(430)\n",
    "Gauss_Seidel(M,b,1e-8,10,430)"
   ]
  },
  {
   "cell_type": "markdown",
   "id": "bb29ca8c",
   "metadata": {
    "scrolled": true
   },
   "source": [
    "Podemos ver que a partir del método de Gauss-Seidel no hay convergencia, esto se debe a que está matriz tiene elementos en su diagonal que son 0, por lo que al en cierto punto deja de ser posible utilizar el método."
   ]
  },
  {
   "cell_type": "code",
   "execution_count": 53,
   "id": "0bca272d",
   "metadata": {},
   "outputs": [
    {
     "data": {
      "text/plain": [
       "0.0"
      ]
     },
     "execution_count": 53,
     "metadata": {},
     "output_type": "execute_result"
    }
   ],
   "source": [
    "M[7,7]"
   ]
  },
  {
   "cell_type": "markdown",
   "id": "efbed6c0",
   "metadata": {},
   "source": [
    "## Problema 6\n",
    "\n",
    "Considere la matriz https://suitesparse-collection-website.herokuapp.com/Sybrandt/AGATHA_2015.  Que puede decir del problema asociado a esta matriz? \n",
    "\n",
    "### Solución"
   ]
  },
  {
   "cell_type": "markdown",
   "id": "a3101560",
   "metadata": {},
   "source": [
    "Primero, es de notar que el problema asociado consta de muchas ecuaciones a resolver, ya que es una matriz cuadrada de 183.964.077 filas y columnas, con 11.588.725.964 entradas no nulas (cerca del $0.000034\\%$ de las entradas totales), y a pesar de que no es definida positiva y no es apta para una factorización de Cholesky, es una matriz simétrica, por lo que siempre tendrá una solución única dado cualquier vector $b$, esto dado que una matriz simétrica siempre es diagonlizable."
   ]
  }
 ],
 "metadata": {
  "kernelspec": {
   "display_name": "Julia 1.8.2",
   "language": "julia",
   "name": "julia-1.8"
  },
  "language_info": {
   "file_extension": ".jl",
   "mimetype": "application/julia",
   "name": "julia",
   "version": "1.8.2"
  }
 },
 "nbformat": 4,
 "nbformat_minor": 5
}
